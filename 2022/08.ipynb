{
 "cells": [
  {
   "cell_type": "code",
   "execution_count": 1,
   "metadata": {},
   "outputs": [],
   "source": [
    "example = \"\"\"30373\n",
    "25512\n",
    "65332\n",
    "33549\n",
    "35390\"\"\""
   ]
  },
  {
   "cell_type": "code",
   "execution_count": 33,
   "metadata": {},
   "outputs": [],
   "source": [
    "data = open(\"data/08.txt\").read()"
   ]
  },
  {
   "cell_type": "code",
   "execution_count": 70,
   "metadata": {},
   "outputs": [],
   "source": [
    "inp = data"
   ]
  },
  {
   "cell_type": "code",
   "execution_count": 71,
   "metadata": {},
   "outputs": [],
   "source": [
    "grid = [[int(t) for t in line] for line in inp.split(\"\\n\")]"
   ]
  },
  {
   "cell_type": "code",
   "execution_count": 72,
   "metadata": {},
   "outputs": [],
   "source": [
    "dirs = [\n",
    "    [1,0],\n",
    "    [-1,0],\n",
    "    [0,1],\n",
    "    [0,-1],\n",
    "]"
   ]
  },
  {
   "cell_type": "code",
   "execution_count": 73,
   "metadata": {},
   "outputs": [
    {
     "data": {
      "text/plain": [
       "False"
      ]
     },
     "execution_count": 73,
     "metadata": {},
     "output_type": "execute_result"
    }
   ],
   "source": [
    "def in_bounds(i:int,j: int, high_i, high_j) -> bool:\n",
    "    if i<0 or j<0:\n",
    "        return False\n",
    "    if i>high_i or j>high_j:\n",
    "        return False\n",
    "    return True\n",
    "\n",
    "def visible(i:int, j:int, grid:list[list[int]]) -> bool:\n",
    "    low_i, low_j = 0,0\n",
    "    high_i,high_j = len(grid)-1,len(grid[0])-1\n",
    "    #print(high_i, high_j)\n",
    "    if i in [low_i, high_i] or j in [low_j, high_j]:\n",
    "        return True\n",
    "    height = grid[i][j]\n",
    "    for d in dirs:\n",
    "        could_in_dir = True\n",
    "        check_i = i\n",
    "        check_j = j\n",
    "        while True:\n",
    "            check_i += d[0]\n",
    "            check_j += d[1]\n",
    "            if not in_bounds(check_i,check_j,high_i, high_j):\n",
    "                break\n",
    "            #print(\"checking\", check_i,check_j)\n",
    "            if grid[check_i][check_j] >= height:\n",
    "                could_in_dir = False\n",
    "                break\n",
    "        if could_in_dir:\n",
    "            return True\n",
    "\n",
    "    return False\n",
    "\n",
    "\n",
    "visible(1,1, grid)"
   ]
  },
  {
   "cell_type": "code",
   "execution_count": 74,
   "metadata": {},
   "outputs": [
    {
     "data": {
      "text/plain": [
       "1693"
      ]
     },
     "execution_count": 74,
     "metadata": {},
     "output_type": "execute_result"
    }
   ],
   "source": [
    "sum(sum(visible(i,j, grid) for j in range(len(grid[i]))) for i in range(len(grid)))"
   ]
  },
  {
   "cell_type": "code",
   "execution_count": 75,
   "metadata": {},
   "outputs": [
    {
     "data": {
      "text/plain": [
       "1"
      ]
     },
     "execution_count": 75,
     "metadata": {},
     "output_type": "execute_result"
    }
   ],
   "source": [
    "def scenic_score(i:int, j:int, grid:list[list[int]]) -> int:\n",
    "    low_i, low_j = 0,0\n",
    "    high_i,high_j = len(grid)-1,len(grid[0])-1\n",
    "    #print(high_i, high_j)\n",
    "    if i in [low_i, high_i] or j in [low_j, high_j]:\n",
    "        return 0\n",
    "    height = grid[i][j]\n",
    "    score = 1\n",
    "    for d in dirs:\n",
    "        check_i = i\n",
    "        check_j = j\n",
    "        score_in_dir = 0\n",
    "        while True:\n",
    "            check_i += d[0]\n",
    "            check_j += d[1]\n",
    "            if not in_bounds(check_i,check_j,high_i, high_j):\n",
    "                break\n",
    "            #print(\"checking\", check_i,check_j,grid[check_i][check_j])\n",
    "            if grid[check_i][check_j] >= height:\n",
    "                #this one still counts\n",
    "                score_in_dir+=1\n",
    "                break\n",
    "            score_in_dir+=1\n",
    "        #print(\"scoredir\", score_in_dir)\n",
    "        score *= score_in_dir\n",
    "\n",
    "    return score\n",
    "\n",
    "scenic_score(3,2,grid)"
   ]
  },
  {
   "cell_type": "code",
   "execution_count": 76,
   "metadata": {},
   "outputs": [
    {
     "data": {
      "text/plain": [
       "422059"
      ]
     },
     "execution_count": 76,
     "metadata": {},
     "output_type": "execute_result"
    }
   ],
   "source": [
    "max(max(scenic_score(i,j, grid) for j in range(len(grid[i]))) for i in range(len(grid)))"
   ]
  },
  {
   "cell_type": "code",
   "execution_count": null,
   "metadata": {},
   "outputs": [],
   "source": []
  }
 ],
 "metadata": {
  "kernelspec": {
   "display_name": "Python 3.10.8 64-bit",
   "language": "python",
   "name": "python3"
  },
  "language_info": {
   "codemirror_mode": {
    "name": "ipython",
    "version": 3
   },
   "file_extension": ".py",
   "mimetype": "text/x-python",
   "name": "python",
   "nbconvert_exporter": "python",
   "pygments_lexer": "ipython3",
   "version": "3.10.8"
  },
  "orig_nbformat": 4,
  "vscode": {
   "interpreter": {
    "hash": "b0fa6594d8f4cbf19f97940f81e996739fb7646882a419484c72d19e05852a7e"
   }
  }
 },
 "nbformat": 4,
 "nbformat_minor": 2
}
