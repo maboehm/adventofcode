{
 "cells": [
  {
   "cell_type": "code",
   "execution_count": 60,
   "metadata": {},
   "outputs": [],
   "source": [
    "example=\"\"\"    [D]    \n",
    "[N] [C]    \n",
    "[Z] [M] [P]\n",
    " 1   2   3 \n",
    "\n",
    "move 1 from 2 to 1\n",
    "move 3 from 1 to 3\n",
    "move 2 from 2 to 1\n",
    "move 1 from 1 to 2\"\"\""
   ]
  },
  {
   "cell_type": "code",
   "execution_count": 61,
   "metadata": {},
   "outputs": [],
   "source": [
    "from collections import deque\n",
    "def parse(inp):\n",
    "    stacks, moves = inp.split(\"\\n\\n\")\n",
    "    stacks = stacks.split(\"\\n\")\n",
    "    moves = moves.split(\"\\n\")\n",
    "    \n",
    "\n",
    "    i=1\n",
    "    crates = {}\n",
    "    while True:\n",
    "        if str(i) not in stacks[-1]:\n",
    "            break\n",
    "        #print(i)\n",
    "        crates[i] = deque()\n",
    "        pos = stacks[-1].find(str(i))\n",
    "        #print(\"position\",pos)\n",
    "        for stack in stacks[:-1]:\n",
    "            if stack[pos] != \" \":\n",
    "                crates[i].appendleft(stack[pos])\n",
    "        i+=1\n",
    "    return crates, moves\n",
    "\n",
    "crates, moves = parse(example)\n"
   ]
  },
  {
   "cell_type": "code",
   "execution_count": 62,
   "metadata": {},
   "outputs": [],
   "source": [
    "import re\n",
    "ns = re.compile(r\"\\d+\")\n",
    "\n",
    "def do(crates, move):\n",
    "    count, start, end = [int(n) for n in ns.findall(move)]\n",
    "    for _ in range(count):\n",
    "        crates[end].append(crates[start].pop())\n",
    "\n",
    "def do2(crates, move):\n",
    "    count, start, end = [int(n) for n in ns.findall(move)]\n",
    "    items = [crates[start].pop() for _ in range(count)]\n",
    "    [crates[end].append(item) for item in items[::-1]]\n",
    "\n",
    "#do2(crates, moves[1])\n",
    "# do(crates, moves[0])"
   ]
  },
  {
   "cell_type": "code",
   "execution_count": 63,
   "metadata": {},
   "outputs": [
    {
     "data": {
      "text/plain": [
       "{1: deque(['Z', 'N']), 2: deque(['M', 'C', 'D']), 3: deque(['P'])}"
      ]
     },
     "execution_count": 63,
     "metadata": {},
     "output_type": "execute_result"
    }
   ],
   "source": [
    "crates"
   ]
  },
  {
   "cell_type": "code",
   "execution_count": 51,
   "metadata": {},
   "outputs": [
    {
     "ename": "IndexError",
     "evalue": "pop from an empty deque",
     "output_type": "error",
     "traceback": [
      "\u001b[0;31m---------------------------------------------------------------------------\u001b[0m",
      "\u001b[0;31mIndexError\u001b[0m                                Traceback (most recent call last)",
      "Cell \u001b[0;32mIn[51], line 10\u001b[0m\n\u001b[1;32m      7\u001b[0m         res \u001b[39m+\u001b[39m\u001b[39m=\u001b[39m v\u001b[39m.\u001b[39mpop()\n\u001b[1;32m      8\u001b[0m     \u001b[39mreturn\u001b[39;00m res\n\u001b[0;32m---> 10\u001b[0m part_1(crates, moves)\n",
      "Cell \u001b[0;32mIn[51], line 3\u001b[0m, in \u001b[0;36mpart_1\u001b[0;34m(crates, moves)\u001b[0m\n\u001b[1;32m      1\u001b[0m \u001b[39mdef\u001b[39;00m \u001b[39mpart_1\u001b[39m(crates, moves):\n\u001b[1;32m      2\u001b[0m     \u001b[39mfor\u001b[39;00m move \u001b[39min\u001b[39;00m moves:\n\u001b[0;32m----> 3\u001b[0m         do(crates, move)\n\u001b[1;32m      4\u001b[0m     \u001b[39m#print(crates)\u001b[39;00m\n\u001b[1;32m      5\u001b[0m     res \u001b[39m=\u001b[39m \u001b[39m\"\u001b[39m\u001b[39m\"\u001b[39m\n",
      "Cell \u001b[0;32mIn[49], line 7\u001b[0m, in \u001b[0;36mdo\u001b[0;34m(crates, move)\u001b[0m\n\u001b[1;32m      5\u001b[0m count, start, end \u001b[39m=\u001b[39m [\u001b[39mint\u001b[39m(n) \u001b[39mfor\u001b[39;00m n \u001b[39min\u001b[39;00m ns\u001b[39m.\u001b[39mfindall(move)]\n\u001b[1;32m      6\u001b[0m \u001b[39mfor\u001b[39;00m _ \u001b[39min\u001b[39;00m \u001b[39mrange\u001b[39m(count):\n\u001b[0;32m----> 7\u001b[0m     crates[end]\u001b[39m.\u001b[39mappend(crates[start]\u001b[39m.\u001b[39;49mpop())\n",
      "\u001b[0;31mIndexError\u001b[0m: pop from an empty deque"
     ]
    }
   ],
   "source": [
    "def part_1(crates, moves):\n",
    "    for move in moves:\n",
    "        do(crates, move)\n",
    "    #print(crates)\n",
    "    res = \"\"\n",
    "    for v in crates.values():\n",
    "        res += v.pop()\n",
    "    return res\n",
    "\n",
    "part_1(crates, moves)"
   ]
  },
  {
   "cell_type": "code",
   "execution_count": 64,
   "metadata": {},
   "outputs": [],
   "source": [
    "def part_2(crates, moves):\n",
    "    for move in moves:\n",
    "        do2(crates, move)\n",
    "    #print(crates)\n",
    "    res = \"\"\n",
    "    for v in crates.values():\n",
    "        res += v.pop()\n",
    "    return res"
   ]
  },
  {
   "cell_type": "code",
   "execution_count": 65,
   "metadata": {},
   "outputs": [
    {
     "data": {
      "text/plain": [
       "'MCD'"
      ]
     },
     "execution_count": 65,
     "metadata": {},
     "output_type": "execute_result"
    }
   ],
   "source": [
    "part_2(crates, moves)"
   ]
  },
  {
   "cell_type": "code",
   "execution_count": 66,
   "metadata": {},
   "outputs": [
    {
     "data": {
      "text/plain": [
       "'JCMHLVGMG'"
      ]
     },
     "execution_count": 66,
     "metadata": {},
     "output_type": "execute_result"
    }
   ],
   "source": [
    "with open(\"data/05.txt\") as f:\n",
    "    inp=f.read()\n",
    "\n",
    "part_1(*parse(inp))"
   ]
  },
  {
   "cell_type": "code",
   "execution_count": 67,
   "metadata": {},
   "outputs": [
    {
     "data": {
      "text/plain": [
       "'LVMRWSSPZ'"
      ]
     },
     "execution_count": 67,
     "metadata": {},
     "output_type": "execute_result"
    }
   ],
   "source": [
    "part_2(*parse(inp))"
   ]
  },
  {
   "cell_type": "code",
   "execution_count": null,
   "metadata": {},
   "outputs": [],
   "source": []
  }
 ],
 "metadata": {
  "kernelspec": {
   "display_name": "Python 3.10.8 64-bit",
   "language": "python",
   "name": "python3"
  },
  "language_info": {
   "codemirror_mode": {
    "name": "ipython",
    "version": 3
   },
   "file_extension": ".py",
   "mimetype": "text/x-python",
   "name": "python",
   "nbconvert_exporter": "python",
   "pygments_lexer": "ipython3",
   "version": "3.10.8"
  },
  "orig_nbformat": 4,
  "vscode": {
   "interpreter": {
    "hash": "b0fa6594d8f4cbf19f97940f81e996739fb7646882a419484c72d19e05852a7e"
   }
  }
 },
 "nbformat": 4,
 "nbformat_minor": 2
}
