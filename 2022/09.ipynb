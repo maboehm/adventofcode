{
 "cells": [
  {
   "cell_type": "code",
   "execution_count": 49,
   "metadata": {},
   "outputs": [
    {
     "data": {
      "text/plain": [
       "P(x=1, y=1)"
      ]
     },
     "execution_count": 49,
     "metadata": {},
     "output_type": "execute_result"
    }
   ],
   "source": [
    "from collections import defaultdict, namedtuple\n",
    "from math import floor\n",
    "\n",
    "class P(namedtuple('P', ['x', 'y'])):\n",
    "    def __add__(self, other):\n",
    "        return P(self.x+other.x, self.y+other.y)\n",
    "    def __sub__(self, other):\n",
    "        return P(self.x-other.x, self.y-other.y)\n",
    "    def __mul__(self, n):\n",
    "        return P(self.x *n, self.y*n)\n",
    "    def __turediv__(self, other):\n",
    "        return P(self.x / other.x, self.y / other.y)\n",
    "    def __abs__(self):\n",
    "        return P(abs(self.x), abs(self.y))\n",
    "    def __lt__(self, other) -> bool:\n",
    "        return self.x < other.x and self.y < other.y\n",
    "    def __le__(self, other) -> bool:\n",
    "        return self.x <= other.x and self.y <= other.y\n",
    "    def __gt__(self, other) -> bool:\n",
    "        return self.x > other.x and self.y > other.y\n",
    "    def __ge__(self, other) -> bool:\n",
    "        return self.x >= other.x and self.y >= other.y\n",
    "\n",
    "    def touches(self, other) -> bool:\n",
    "        return abs(self - other) <= P(1,1)\n",
    "\n",
    "def to_dir(p: P) -> P:\n",
    "    x = 0 if p.x == 0 else p.x / abs(p.x)\n",
    "    y = 0 if p.y == 0 else p.y / abs(p.y)\n",
    "    return P(int(x),int(y))\n",
    "\n",
    "to_dir(P(4,1))"
   ]
  },
  {
   "cell_type": "code",
   "execution_count": 19,
   "metadata": {},
   "outputs": [
    {
     "data": {
      "text/plain": [
       "(4, P(x=1, y=0))"
      ]
     },
     "execution_count": 19,
     "metadata": {},
     "output_type": "execute_result"
    }
   ],
   "source": [
    "dirs = {\n",
    "    \"R\": P(1,0),\n",
    "    \"L\": P(-1,0),\n",
    "    \"U\": P(0,-1),\n",
    "    \"D\": P(0,1),\n",
    "}\n",
    "def parse_line(line: str) -> tuple[int, P]:\n",
    "    d,c = line.split(\" \")\n",
    "    return int(c), dirs[d]\n",
    "\n",
    "parse_line(\"R 4\")"
   ]
  },
  {
   "cell_type": "code",
   "execution_count": 36,
   "metadata": {},
   "outputs": [],
   "source": [
    "example = \"\"\"R 4\n",
    "U 4\n",
    "L 3\n",
    "D 1\n",
    "R 4\n",
    "D 1\n",
    "L 5\n",
    "R 2\"\"\""
   ]
  },
  {
   "cell_type": "code",
   "execution_count": 43,
   "metadata": {},
   "outputs": [
    {
     "data": {
      "text/plain": [
       "13"
      ]
     },
     "execution_count": 43,
     "metadata": {},
     "output_type": "execute_result"
    }
   ],
   "source": [
    "def part_1(inp: str) -> int:\n",
    "    vecs = [parse_line(line) for line in inp.split(\"\\n\")]\n",
    "    head = P(0,0)\n",
    "    tail = P(0,0)\n",
    "    visited: set[P] = set([tail])\n",
    "\n",
    "    for n,dir in vecs:\n",
    "        for _ in range(n):\n",
    "            head+=dir\n",
    "            if head.touches(tail):\n",
    "                continue\n",
    "            tail+=to_dir(head-tail)\n",
    "            visited.add(tail)\n",
    "\n",
    "    return len(visited)\n",
    "\n",
    "part_1(example)\n",
    "                "
   ]
  },
  {
   "cell_type": "code",
   "execution_count": 30,
   "metadata": {},
   "outputs": [
    {
     "data": {
      "text/plain": [
       "6391"
      ]
     },
     "execution_count": 30,
     "metadata": {},
     "output_type": "execute_result"
    }
   ],
   "source": [
    "data = open(\"data/09.txt\").read()\n",
    "\n",
    "part_1(data)"
   ]
  },
  {
   "cell_type": "code",
   "execution_count": 48,
   "metadata": {},
   "outputs": [
    {
     "data": {
      "text/plain": [
       "1"
      ]
     },
     "execution_count": 48,
     "metadata": {},
     "output_type": "execute_result"
    }
   ],
   "source": [
    "def part_2(inp: str) -> int:\n",
    "    vecs = [parse_line(line) for line in inp.split(\"\\n\")]\n",
    "    rope = [P(0,0) for _ in range(10)]\n",
    "\n",
    "    visited = set([rope[-1]])\n",
    "\n",
    "    for n,dir in vecs:\n",
    "        for _ in range(n):\n",
    "            rope[0]+=dir\n",
    "            for i in range(1,len(rope)):\n",
    "                if rope[i-1].touches(rope[i]):\n",
    "                    continue\n",
    "                delta = rope[i-1]-rope[i]\n",
    "                rope[i]+=to_dir(delta)\n",
    "\n",
    "            visited.add(rope[-1])\n",
    "\n",
    "    return len(visited)\n",
    "\n",
    "part_2(example)\n",
    "                "
   ]
  },
  {
   "cell_type": "code",
   "execution_count": 45,
   "metadata": {},
   "outputs": [],
   "source": [
    "example2=\"\"\"R 5\n",
    "U 8\n",
    "L 8\n",
    "D 3\n",
    "R 17\n",
    "D 10\n",
    "L 25\n",
    "U 20\"\"\""
   ]
  },
  {
   "cell_type": "code",
   "execution_count": 46,
   "metadata": {},
   "outputs": [
    {
     "data": {
      "text/plain": [
       "36"
      ]
     },
     "execution_count": 46,
     "metadata": {},
     "output_type": "execute_result"
    }
   ],
   "source": [
    "part_2(example2)"
   ]
  },
  {
   "cell_type": "code",
   "execution_count": 47,
   "metadata": {},
   "outputs": [
    {
     "data": {
      "text/plain": [
       "2593"
      ]
     },
     "execution_count": 47,
     "metadata": {},
     "output_type": "execute_result"
    }
   ],
   "source": [
    "part_2(data)"
   ]
  },
  {
   "cell_type": "code",
   "execution_count": null,
   "metadata": {},
   "outputs": [],
   "source": []
  }
 ],
 "metadata": {
  "kernelspec": {
   "display_name": "Python 3",
   "language": "python",
   "name": "python3"
  },
  "language_info": {
   "codemirror_mode": {
    "name": "ipython",
    "version": 3
   },
   "file_extension": ".py",
   "mimetype": "text/x-python",
   "name": "python",
   "nbconvert_exporter": "python",
   "pygments_lexer": "ipython3",
   "version": "3.10.8 (main, Oct 13 2022, 09:48:40) [Clang 14.0.0 (clang-1400.0.29.102)]"
  },
  "orig_nbformat": 4,
  "vscode": {
   "interpreter": {
    "hash": "b0fa6594d8f4cbf19f97940f81e996739fb7646882a419484c72d19e05852a7e"
   }
  }
 },
 "nbformat": 4,
 "nbformat_minor": 2
}
