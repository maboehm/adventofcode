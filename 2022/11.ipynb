{
 "cells": [
  {
   "cell_type": "code",
   "execution_count": 2,
   "metadata": {},
   "outputs": [
    {
     "data": {
      "text/plain": [
       "['79', '98']"
      ]
     },
     "execution_count": 2,
     "metadata": {},
     "output_type": "execute_result"
    }
   ],
   "source": [
    "raw_monkey = \"\"\"Monkey 0:\n",
    "  Starting items: 79, 98\n",
    "  Operation: new = old * 19\n",
    "  Test: divisible by 23\n",
    "    If true: throw to monkey 2\n",
    "    If false: throw to monkey 3\"\"\""
   ]
  },
  {
   "cell_type": "code",
   "execution_count": 27,
   "metadata": {},
   "outputs": [],
   "source": [
    "example = \"\"\"Monkey 0:\n",
    "  Starting items: 79, 98\n",
    "  Operation: new = old * 19\n",
    "  Test: divisible by 23\n",
    "    If true: throw to monkey 2\n",
    "    If false: throw to monkey 3\n",
    "\n",
    "Monkey 1:\n",
    "  Starting items: 54, 65, 75, 74\n",
    "  Operation: new = old + 6\n",
    "  Test: divisible by 19\n",
    "    If true: throw to monkey 2\n",
    "    If false: throw to monkey 0\n",
    "\n",
    "Monkey 2:\n",
    "  Starting items: 79, 60, 97\n",
    "  Operation: new = old * old\n",
    "  Test: divisible by 13\n",
    "    If true: throw to monkey 1\n",
    "    If false: throw to monkey 3\n",
    "\n",
    "Monkey 3:\n",
    "  Starting items: 74\n",
    "  Operation: new = old + 3\n",
    "  Test: divisible by 17\n",
    "    If true: throw to monkey 0\n",
    "    If false: throw to monkey 1\"\"\""
   ]
  },
  {
   "cell_type": "code",
   "execution_count": 4,
   "metadata": {},
   "outputs": [],
   "source": [
    "import re\n",
    "digits = re.compile(r'\\d+')\n",
    "def all_digits(s: str) -> list[int]:\n",
    "    res = digits.findall(s)\n",
    "    return [int(d) for d in res]"
   ]
  },
  {
   "cell_type": "code",
   "execution_count": 148,
   "metadata": {},
   "outputs": [],
   "source": [
    "ops = {\n",
    "    '*': lambda x,y:x*y,\n",
    "    '+': lambda x,y:x+y,\n",
    "    '**': lambda x,y:x*x,\n",
    "}\n",
    "def get_op(line: str) -> tuple[str,int]:\n",
    "    op, factor_raw = line.split(\" \")[-2:]\n",
    "    if factor_raw == 'old':\n",
    "        return '**', -1\n",
    "    return op, int(factor_raw)"
   ]
  },
  {
   "cell_type": "code",
   "execution_count": 160,
   "metadata": {},
   "outputs": [],
   "source": [
    "from collections import deque\n",
    "class Monkey():\n",
    "    def __init__(self, raw_monkey):\n",
    "        #print(raw_monkey)\n",
    "        lines = raw_monkey.splitlines()\n",
    "        self.items = deque(all_digits(lines[1]))\n",
    "        self.op, self.factor = get_op(lines[2])\n",
    "        self.test = all_digits(lines[3])[0]\n",
    "        self.true_target = all_digits(lines[4])[0]\n",
    "        self.false_target = all_digits(lines[5])[0]\n",
    "        self.total = 0\n",
    "\n",
    "    def turn(self, monkeys: list['Monkey']):\n",
    "        while self.items:\n",
    "            wl = self.items.popleft()\n",
    "            self.total += 1\n",
    "            #print(wl)\n",
    "            wl = ops[self.op](wl,self.factor)\n",
    "            wl //= 3\n",
    "            #print(wl)\n",
    "            if wl % self.test == 0:\n",
    "                #print(\"throwing to monkey\", self.true_target)\n",
    "                monkeys[self.true_target].catch(wl)\n",
    "            else:\n",
    "                #print(\"throwing to monkey\", self.false_target)\n",
    "                monkeys[self.false_target].catch(wl)\n",
    "    def catch(self, item):\n",
    "        self.items.append(item)\n",
    "\n",
    "#m = Monkey(raw_monkey)\n",
    "#m.turn([])"
   ]
  },
  {
   "cell_type": "code",
   "execution_count": 161,
   "metadata": {},
   "outputs": [],
   "source": [
    "def show(monkeys):\n",
    "    for m in monkeys:\n",
    "        print(m.items)"
   ]
  },
  {
   "cell_type": "code",
   "execution_count": 162,
   "metadata": {},
   "outputs": [],
   "source": [
    "def parse(raw: str)-> list[Monkey]:\n",
    "    return [Monkey(raw_m) for raw_m in raw.split(\"\\n\\n\")]\n",
    "\n",
    "monkeys = parse(example)"
   ]
  },
  {
   "cell_type": "code",
   "execution_count": 163,
   "metadata": {},
   "outputs": [],
   "source": [
    "def round(monkeys: list[Monkey]):\n",
    "    for m in monkeys:\n",
    "        m.turn(monkeys)\n",
    "    #show(monkeys)"
   ]
  },
  {
   "cell_type": "code",
   "execution_count": 164,
   "metadata": {},
   "outputs": [],
   "source": [
    "def part_1(monkeys: list[Monkey]) -> int:\n",
    "    for _ in range(20):\n",
    "        round(monkeys)\n",
    "    a,b = sorted(m.total for m in monkeys)[-2:]\n",
    "    return a*b\n"
   ]
  },
  {
   "cell_type": "code",
   "execution_count": 165,
   "metadata": {},
   "outputs": [
    {
     "data": {
      "text/plain": [
       "10605"
      ]
     },
     "execution_count": 165,
     "metadata": {},
     "output_type": "execute_result"
    }
   ],
   "source": [
    "monkeys = parse(example)\n",
    "part_1(monkeys)"
   ]
  },
  {
   "cell_type": "code",
   "execution_count": 166,
   "metadata": {},
   "outputs": [
    {
     "data": {
      "text/plain": [
       "113232"
      ]
     },
     "execution_count": 166,
     "metadata": {},
     "output_type": "execute_result"
    }
   ],
   "source": [
    "data = open(\"data/11.txt\").read()\n",
    "monkeys=parse(data)\n",
    "part_1(monkeys)"
   ]
  },
  {
   "attachments": {},
   "cell_type": "markdown",
   "metadata": {},
   "source": [
    "# Part 2"
   ]
  },
  {
   "cell_type": "code",
   "execution_count": 167,
   "metadata": {},
   "outputs": [],
   "source": [
    "class Monkey():\n",
    "    def __init__(self, raw_monkey):\n",
    "        lines = raw_monkey.splitlines()\n",
    "        self.items = deque(all_digits(lines[1]))\n",
    "        self.op, self.factor = get_op(lines[2])\n",
    "        self.test = all_digits(lines[3])[0]\n",
    "        self.true_target = all_digits(lines[4])[0]\n",
    "        self.false_target = all_digits(lines[5])[0]\n",
    "\n",
    "        self.total = 0\n",
    "        self.global_factor = -1\n",
    "\n",
    "    def turn(self, monkeys: list['Monkey']):\n",
    "        while self.items:\n",
    "            wl = self.items.popleft()\n",
    "            self.total += 1\n",
    "            wl = ops[self.op](wl,self.factor)\n",
    "            if wl % self.test == 0:\n",
    "                monkeys[self.true_target].catch(wl)\n",
    "            else:\n",
    "                monkeys[self.false_target].catch(wl)\n",
    "    def catch(self, item):\n",
    "        self.items.append(item%self.global_factor)\n",
    "\n",
    "def parse(raw: str)-> list[Monkey]:\n",
    "    return [Monkey(raw_m) for raw_m in raw.split(\"\\n\\n\")]"
   ]
  },
  {
   "cell_type": "code",
   "execution_count": 195,
   "metadata": {},
   "outputs": [],
   "source": [
    "import numpy as np\n",
    "def part_2(monkeys: list[Monkey]) -> int:\n",
    "    factor = np.prod([m.test for m in monkeys])\n",
    "    for m in monkeys:\n",
    "        m.global_factor = factor\n",
    "\n",
    "    for _ in range(10000):\n",
    "        round(monkeys)\n",
    "    a,b = sorted(m.total for m in monkeys)[-2:]\n",
    "    return a*b\n"
   ]
  },
  {
   "cell_type": "code",
   "execution_count": 196,
   "metadata": {},
   "outputs": [
    {
     "data": {
      "text/plain": [
       "2713310158"
      ]
     },
     "execution_count": 196,
     "metadata": {},
     "output_type": "execute_result"
    }
   ],
   "source": [
    "monkeys = parse(example)\n",
    "part_2(monkeys)"
   ]
  },
  {
   "cell_type": "code",
   "execution_count": null,
   "metadata": {},
   "outputs": [],
   "source": []
  }
 ],
 "metadata": {
  "kernelspec": {
   "display_name": "Python 3",
   "language": "python",
   "name": "python3"
  },
  "language_info": {
   "codemirror_mode": {
    "name": "ipython",
    "version": 3
   },
   "file_extension": ".py",
   "mimetype": "text/x-python",
   "name": "python",
   "nbconvert_exporter": "python",
   "pygments_lexer": "ipython3",
   "version": "3.10.8"
  },
  "orig_nbformat": 4,
  "vscode": {
   "interpreter": {
    "hash": "b0fa6594d8f4cbf19f97940f81e996739fb7646882a419484c72d19e05852a7e"
   }
  }
 },
 "nbformat": 4,
 "nbformat_minor": 2
}
