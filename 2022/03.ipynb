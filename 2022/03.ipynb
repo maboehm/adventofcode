{
 "cells": [
  {
   "cell_type": "code",
   "execution_count": 10,
   "metadata": {},
   "outputs": [
    {
     "name": "stdout",
     "output_type": "stream",
     "text": [
      "8105\n"
     ]
    }
   ],
   "source": [
    "# Define a function that takes a rucksack's list of items and returns the sum\n",
    "# of the priorities of the item types that appear in both compartments.\n",
    "def sum_priorities(items):\n",
    "  # Split the list of items into two parts, representing the first and\n",
    "  # second compartments.\n",
    "  first_compartment = set(items[:len(items) // 2])\n",
    "  second_compartment = set(items[len(items) // 2:])\n",
    "\n",
    "  # Take the intersection of the sets of items in each compartment to find\n",
    "  # the item types that appear in both compartments.\n",
    "  common_items = first_compartment.intersection(second_compartment)\n",
    "\n",
    "  # Compute the sum of the priorities of the item types that appear in\n",
    "  # both compartments.\n",
    "  sum_priorities = 0\n",
    "  for item in common_items:\n",
    "    # If the item is a lowercase letter, its priority is its position in\n",
    "    # the alphabet (with a having a priority of 1, b having a priority\n",
    "    # of 2, and so on).\n",
    "    if item.islower():\n",
    "      sum_priorities += ord(item) - ord('a') + 1\n",
    "    # If the item is an uppercase letter, its priority is 26 higher than\n",
    "    # its lowercase counterpart (so A has a priority of 27, B has a\n",
    "    # priority of 28, and so on).\n",
    "    else:\n",
    "      sum_priorities += ord(item) - ord('A') + 27\n",
    "\n",
    "  return sum_priorities\n",
    "\n",
    "# Open the file that contains the list of rucksacks.\n",
    "with open('data/03.txt') as f:\n",
    "  # Read the list of rucksacks from the file.\n",
    "  rucksacks = [l.strip() for l in f.readlines()]\n",
    "\n",
    "# Compute the sum of the priorities of the item types that appear in both\n",
    "# compartments of each rucksack.\n",
    "total_priorities = 0\n",
    "for rucksack in rucksacks:\n",
    "  total_priorities += sum_priorities(rucksack)\n",
    "\n",
    "# Print the result.\n",
    "print(total_priorities)\n"
   ]
  },
  {
   "cell_type": "code",
   "execution_count": 11,
   "metadata": {},
   "outputs": [],
   "source": [
    "from itertools import zip_longest\n",
    "\n",
    "def grouper(iterable, n, fillvalue=None):\n",
    "    args = [iter(iterable)] * n\n",
    "    return zip_longest(*args, fillvalue=fillvalue)"
   ]
  },
  {
   "cell_type": "code",
   "execution_count": 13,
   "metadata": {},
   "outputs": [
    {
     "data": {
      "text/plain": [
       "2363"
      ]
     },
     "execution_count": 13,
     "metadata": {},
     "output_type": "execute_result"
    }
   ],
   "source": [
    "total = 0\n",
    "for a,b,c in grouper(rucksacks, 3):\n",
    "    common = set(a).intersection(b)\n",
    "    common = common.intersection(c)\n",
    "    # print(common)\n",
    "    for item in common:\n",
    "        # If the item is a lowercase letter, its priority is its position in\n",
    "        # the alphabet (with a having a priority of 1, b having a priority\n",
    "        # of 2, and so on).\n",
    "        if item.islower():\n",
    "            total += ord(item) - ord('a') + 1\n",
    "        # If the item is an uppercase letter, its priority is 26 higher than\n",
    "        # its lowercase counterpart (so A has a priority of 27, B has a\n",
    "        # priority of 28, and so on).\n",
    "        else:\n",
    "            total += ord(item) - ord('A') + 27\n",
    "total\n",
    "\n"
   ]
  }
 ],
 "metadata": {
  "kernelspec": {
   "display_name": "Python 3.10.8 64-bit",
   "language": "python",
   "name": "python3"
  },
  "language_info": {
   "codemirror_mode": {
    "name": "ipython",
    "version": 3
   },
   "file_extension": ".py",
   "mimetype": "text/x-python",
   "name": "python",
   "nbconvert_exporter": "python",
   "pygments_lexer": "ipython3",
   "version": "3.10.8"
  },
  "orig_nbformat": 4,
  "vscode": {
   "interpreter": {
    "hash": "b0fa6594d8f4cbf19f97940f81e996739fb7646882a419484c72d19e05852a7e"
   }
  }
 },
 "nbformat": 4,
 "nbformat_minor": 2
}
