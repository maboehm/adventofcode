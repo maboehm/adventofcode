{
 "cells": [
  {
   "cell_type": "code",
   "execution_count": 31,
   "metadata": {},
   "outputs": [],
   "source": [
    "inp=\"\"\"A Y\n",
    "B X\n",
    "C Z\"\"\""
   ]
  },
  {
   "cell_type": "code",
   "execution_count": 9,
   "metadata": {},
   "outputs": [],
   "source": [
    "def ownScore(i):\n",
    "    if i==\"R\":\n",
    "        return 1\n",
    "    if i==\"P\":\n",
    "        return 2\n",
    "    if i==\"S\":\n",
    "        return 3\n",
    "ownScore(\"X\")"
   ]
  },
  {
   "cell_type": "code",
   "execution_count": 10,
   "metadata": {},
   "outputs": [],
   "source": [
    "lookup = {\n",
    "    \"A\": \"R\",\n",
    "    \"B\": \"P\",\n",
    "    \"C\": \"S\",\n",
    "    \"X\": \"R\",\n",
    "    \"Y\": \"P\",\n",
    "    \"Z\": \"S\",\n",
    "}"
   ]
  },
  {
   "cell_type": "code",
   "execution_count": 11,
   "metadata": {},
   "outputs": [],
   "source": [
    "rules = {\n",
    "    \"R P\": 6,\n",
    "    \"S R\": 6,\n",
    "    \"P S\": 6,\n",
    "}"
   ]
  },
  {
   "cell_type": "code",
   "execution_count": 16,
   "metadata": {},
   "outputs": [
    {
     "data": {
      "text/plain": [
       "6"
      ]
     },
     "execution_count": 16,
     "metadata": {},
     "output_type": "execute_result"
    }
   ],
   "source": [
    "def points(round : str):\n",
    "    a,b = round.split(\" \")\n",
    "    a = lookup[a]\n",
    "    b = lookup[b]\n",
    "    res = ownScore(b)\n",
    "    if a == b:\n",
    "        return res+3\n",
    "    if a+\" \"+b in rules:\n",
    "        return res+6\n",
    "    return res\n",
    "\n",
    "points(\"C Z\")"
   ]
  },
  {
   "cell_type": "code",
   "execution_count": 20,
   "metadata": {},
   "outputs": [],
   "source": [
    "def part_1(inp):\n",
    "    return sum(points(l) for l in inp.split(\"\\n\"))"
   ]
  },
  {
   "cell_type": "code",
   "execution_count": 22,
   "metadata": {},
   "outputs": [
    {
     "data": {
      "text/plain": [
       "10595"
      ]
     },
     "execution_count": 22,
     "metadata": {},
     "output_type": "execute_result"
    }
   ],
   "source": [
    "part_1(open(\"data/02.txt\").read())"
   ]
  },
  {
   "cell_type": "code",
   "execution_count": 33,
   "metadata": {},
   "outputs": [],
   "source": [
    "winners = {\n",
    "    \"A\": \"C\",\n",
    "    \"B\": \"A\",\n",
    "    \"C\": \"B\",\n",
    "}\n",
    "def points2(round: str):\n",
    "    opts = set((\"A\",\"B\",\"C\"))\n",
    "    a,b = round.split(\" \")\n",
    "    opts.remove(a)\n",
    "    if b == \"Y\":\n",
    "        b = a\n",
    "    elif b ==\"Z\": # lose\n",
    "        opts.remove(winners[a])\n",
    "        b = opts.pop()\n",
    "    else: # win\n",
    "        b = winners[a]\n",
    "    return points(a+\" \"+b)\n",
    "points2(\"C Z\")\n",
    "    \n",
    "def part_2(inp):\n",
    "    return sum(points2(l) for l in inp.split(\"\\n\"))\n"
   ]
  },
  {
   "cell_type": "code",
   "execution_count": 32,
   "metadata": {},
   "outputs": [
    {
     "name": "stdout",
     "output_type": "stream",
     "text": [
      "A\n",
      "A\n",
      "A\n"
     ]
    },
    {
     "data": {
      "text/plain": [
       "12"
      ]
     },
     "execution_count": 32,
     "metadata": {},
     "output_type": "execute_result"
    }
   ],
   "source": [
    "part_2(inp)"
   ]
  },
  {
   "cell_type": "code",
   "execution_count": 34,
   "metadata": {},
   "outputs": [
    {
     "data": {
      "text/plain": [
       "9541"
      ]
     },
     "execution_count": 34,
     "metadata": {},
     "output_type": "execute_result"
    }
   ],
   "source": [
    "part_2(open(\"data/02.txt\").read())"
   ]
  },
  {
   "cell_type": "code",
   "execution_count": null,
   "metadata": {},
   "outputs": [],
   "source": []
  }
 ],
 "metadata": {
  "kernelspec": {
   "display_name": "Python 3.10.8 64-bit",
   "language": "python",
   "name": "python3"
  },
  "language_info": {
   "codemirror_mode": {
    "name": "ipython",
    "version": 3
   },
   "file_extension": ".py",
   "mimetype": "text/x-python",
   "name": "python",
   "nbconvert_exporter": "python",
   "pygments_lexer": "ipython3",
   "version": "3.10.8"
  },
  "orig_nbformat": 4,
  "vscode": {
   "interpreter": {
    "hash": "b0fa6594d8f4cbf19f97940f81e996739fb7646882a419484c72d19e05852a7e"
   }
  }
 },
 "nbformat": 4,
 "nbformat_minor": 2
}
