{
 "cells": [
  {
   "cell_type": "code",
   "execution_count": 1,
   "metadata": {},
   "outputs": [],
   "source": [
    "inp=\"\"\"$ cd /\n",
    "$ ls\n",
    "dir a\n",
    "14848514 b.txt\n",
    "8504156 c.dat\n",
    "dir d\n",
    "$ cd a\n",
    "$ ls\n",
    "dir e\n",
    "29116 f\n",
    "2557 g\n",
    "62596 h.lst\n",
    "$ cd e\n",
    "$ ls\n",
    "584 i\n",
    "$ cd ..\n",
    "$ cd ..\n",
    "$ cd d\n",
    "$ ls\n",
    "4060174 j\n",
    "8033020 d.log\n",
    "5626152 d.ext\n",
    "7214296 k\"\"\""
   ]
  },
  {
   "cell_type": "code",
   "execution_count": 76,
   "metadata": {},
   "outputs": [
    {
     "data": {
      "text/plain": [
       "123"
      ]
     },
     "execution_count": 76,
     "metadata": {},
     "output_type": "execute_result"
    }
   ],
   "source": [
    "class Dir:\n",
    "    def __init__(self, name):\n",
    "        self.name = name\n",
    "        self.content = {}\n",
    "    def add(self, o):\n",
    "        self.content[o.name] = o\n",
    "        o.setParent(self)\n",
    "    def __repr__(self) -> str:\n",
    "        return f\"{self.name} (dir)\"\n",
    "    def size(self) -> int:\n",
    "        return sum(o.size() for o in self.content.values())\n",
    "    def setParent(self, d):\n",
    "        self.parent = d\n",
    "    def cd(self, target):\n",
    "        if target == \"..\":\n",
    "            return self.parent\n",
    "        if type(self.content[target]) is not Dir:\n",
    "            raise ValueError(\"not a dir\")\n",
    "        return self.content[target]\n",
    "    def collect(self, dirs={}) -> int:\n",
    "        total = 0\n",
    "        if self in dirs:\n",
    "            return dirs[self]\n",
    "        for o in self.content.values():\n",
    "            total += o.collect(dirs)\n",
    "        dirs[self] = total\n",
    "        return total\n",
    "            \n",
    "            \n",
    "\n",
    "\n",
    "\n",
    "class File:\n",
    "    def __init__(self, name, size):\n",
    "        self.name = name\n",
    "        self._size = size\n",
    "    def __repr__(self) -> str:\n",
    "        return f\"{self.name} (file, size={self._size})\"\n",
    "    def size(self) -> int:\n",
    "        return self._size\n",
    "    def collect(self, dirs) -> int:\n",
    "        return self.size()\n",
    "    def setParent(self, d: Dir):\n",
    "        self.parent = d\n",
    "        \n",
    "def pretty(o, indent):\n",
    "    return \" \"*indent + \"- \" + str(o)\n",
    "\n",
    "d = Dir(\"/\")\n",
    "d2= Dir(\"bla\")\n",
    "d2.add(File(\"foo\", 123))\n",
    "d.add(d2)\n",
    "d.add(d2)\n",
    "d.size()"
   ]
  },
  {
   "cell_type": "code",
   "execution_count": 77,
   "metadata": {},
   "outputs": [
    {
     "data": {
      "text/plain": [
       "123"
      ]
     },
     "execution_count": 77,
     "metadata": {},
     "output_type": "execute_result"
    }
   ],
   "source": [
    "cur = d.cd(\"bla\").cd(\"..\")\n",
    "cur.collect()"
   ]
  },
  {
   "cell_type": "code",
   "execution_count": 81,
   "metadata": {},
   "outputs": [
    {
     "data": {
      "text/plain": [
       "/ (dir)"
      ]
     },
     "execution_count": 81,
     "metadata": {},
     "output_type": "execute_result"
    }
   ],
   "source": [
    "from collections import deque\n",
    "\n",
    "def parse(inp:str):\n",
    "    root = Dir(\"/\")\n",
    "    cur: Dir\n",
    "\n",
    "    i = 0\n",
    "    lines = inp.split(\"\\n\")\n",
    "    while i < len(lines):\n",
    "        #print(lines[i])\n",
    "\n",
    "        while i < len(lines) and not lines[i].startswith(\"$\"):\n",
    "            x, name = lines[i].split(\" \")\n",
    "            i+=1\n",
    "            #print(name)\n",
    "            if x == \"dir\":\n",
    "                #print(\"adding dir\")\n",
    "                cur.add(Dir(name))\n",
    "                #print(cur)\n",
    "                #print(cur.content)\n",
    "            else:\n",
    "                cur.add(File(name, int(x)))\n",
    "\n",
    "        if i >= len(lines):\n",
    "            break\n",
    "\n",
    "        line = lines[i]\n",
    "        if line == \"$ cd /\":\n",
    "            cur = root\n",
    "        elif line.startswith(\"$ cd\"):\n",
    "            target = line.removeprefix(\"$ cd \")\n",
    "            cur = cur.cd(target)\n",
    "        \n",
    "        i+=1\n",
    "        \n",
    "    return root\n",
    "parse(inp)"
   ]
  },
  {
   "cell_type": "code",
   "execution_count": 82,
   "metadata": {},
   "outputs": [
    {
     "data": {
      "text/plain": [
       "95437"
      ]
     },
     "execution_count": 82,
     "metadata": {},
     "output_type": "execute_result"
    }
   ],
   "source": [
    "def part_1(raw: str) -> int:\n",
    "    root = parse(raw)\n",
    "    sizes = {}\n",
    "    root.collect(sizes)\n",
    "    return sum(size for size in sizes.values() if size <= 100000)\n",
    "\n",
    "\n",
    "\n",
    "part_1(inp)"
   ]
  },
  {
   "cell_type": "code",
   "execution_count": 83,
   "metadata": {},
   "outputs": [],
   "source": [
    "data = open(\"data/07.txt\").read()"
   ]
  },
  {
   "cell_type": "code",
   "execution_count": 84,
   "metadata": {},
   "outputs": [
    {
     "data": {
      "text/plain": [
       "1517599"
      ]
     },
     "execution_count": 84,
     "metadata": {},
     "output_type": "execute_result"
    }
   ],
   "source": [
    "part_1(data)"
   ]
  },
  {
   "cell_type": "code",
   "execution_count": 87,
   "metadata": {},
   "outputs": [],
   "source": [
    "space = 70000000\n",
    "needed = 30000000\n",
    "\n",
    "def part_2(raw):\n",
    "    root = parse(raw)\n",
    "    sizes = {}\n",
    "    root.collect(sizes)\n",
    "\n",
    "    unused = space - sizes[root]\n",
    "    to_free = needed - unused\n",
    "    cand = root\n",
    "    for dir, size in sizes.items():\n",
    "        if size < to_free:\n",
    "            continue\n",
    "        if size > sizes[cand]:\n",
    "            continue\n",
    "        cand = dir\n",
    "    return cand, sizes[cand]\n",
    "        \n"
   ]
  },
  {
   "cell_type": "code",
   "execution_count": 89,
   "metadata": {},
   "outputs": [
    {
     "data": {
      "text/plain": [
       "(rbh (dir), 2481982)"
      ]
     },
     "execution_count": 89,
     "metadata": {},
     "output_type": "execute_result"
    }
   ],
   "source": [
    "part_2(data)"
   ]
  },
  {
   "cell_type": "code",
   "execution_count": null,
   "metadata": {},
   "outputs": [],
   "source": []
  }
 ],
 "metadata": {
  "kernelspec": {
   "display_name": "Python 3.10.8 64-bit",
   "language": "python",
   "name": "python3"
  },
  "language_info": {
   "codemirror_mode": {
    "name": "ipython",
    "version": 3
   },
   "file_extension": ".py",
   "mimetype": "text/x-python",
   "name": "python",
   "nbconvert_exporter": "python",
   "pygments_lexer": "ipython3",
   "version": "3.10.8"
  },
  "orig_nbformat": 4,
  "vscode": {
   "interpreter": {
    "hash": "b0fa6594d8f4cbf19f97940f81e996739fb7646882a419484c72d19e05852a7e"
   }
  }
 },
 "nbformat": 4,
 "nbformat_minor": 2
}
