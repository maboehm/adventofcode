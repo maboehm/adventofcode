{
 "cells": [
  {
   "cell_type": "code",
   "execution_count": 1,
   "metadata": {},
   "outputs": [],
   "source": [
    "from collections import namedtuple\n",
    "\n",
    "Elf = namedtuple(\"Elf\", [\"lo\", \"hi\"])"
   ]
  },
  {
   "cell_type": "code",
   "execution_count": 5,
   "metadata": {},
   "outputs": [],
   "source": [
    "def contains(a: Elf,b: Elf) -> bool:\n",
    "    if a.lo <= b.lo and a.hi >= b.hi:\n",
    "        return True\n",
    "    if b.lo <= a.lo and b.hi >= a.hi:\n",
    "        return True\n",
    "    return False\n",
    "\n",
    "\n",
    "def to_elf(inp: str) -> Elf:\n",
    "    lo,hi = inp.split(\"-\")\n",
    "    return Elf(int(lo), int(hi))\n",
    "\n",
    "def line2Elf(inp: str) -> tuple[Elf, Elf]:\n",
    "    a,b = inp.split(\",\")\n",
    "    return to_elf(a), to_elf(b)\n",
    "\n",
    "\n"
   ]
  },
  {
   "cell_type": "code",
   "execution_count": 6,
   "metadata": {},
   "outputs": [],
   "source": [
    "example=\"\"\"2-4,6-8\n",
    "2-3,4-5\n",
    "5-7,7-9\n",
    "2-8,3-7\n",
    "6-6,4-6\n",
    "2-6,4-8\"\"\""
   ]
  },
  {
   "cell_type": "code",
   "execution_count": 8,
   "metadata": {},
   "outputs": [],
   "source": [
    "def part_1(inp):\n",
    "    return sum(contains(*line2Elf(line)) for line in inp.split(\"\\n\"))\n"
   ]
  },
  {
   "cell_type": "code",
   "execution_count": 14,
   "metadata": {},
   "outputs": [
    {
     "data": {
      "text/plain": [
       "886"
      ]
     },
     "execution_count": 14,
     "metadata": {},
     "output_type": "execute_result"
    }
   ],
   "source": [
    "with open(\"data/04.txt\") as f:\n",
    "    inp1 = f.read()\n",
    "part_1(inp1)"
   ]
  },
  {
   "cell_type": "code",
   "execution_count": 11,
   "metadata": {},
   "outputs": [],
   "source": [
    "def overlaps(a: Elf, b:Elf) -> bool:\n",
    "    if a.lo <= b.lo <= a.hi:\n",
    "        return True\n",
    "    if b.lo <= a.lo <= b.hi:\n",
    "        return True\n",
    "    if a.lo <= b.hi <= a.hi:\n",
    "        return True\n",
    "    if b.lo <= a.hi <= b.hi:\n",
    "        return True\n",
    "    return False\n",
    "\n",
    "def part_2(inp):\n",
    "    return sum(overlaps(*line2Elf(line)) for line in inp.split(\"\\n\"))"
   ]
  },
  {
   "cell_type": "code",
   "execution_count": 12,
   "metadata": {},
   "outputs": [
    {
     "data": {
      "text/plain": [
       "4"
      ]
     },
     "execution_count": 12,
     "metadata": {},
     "output_type": "execute_result"
    }
   ],
   "source": [
    "part_2(example)"
   ]
  },
  {
   "cell_type": "code",
   "execution_count": 15,
   "metadata": {},
   "outputs": [
    {
     "data": {
      "text/plain": [
       "886"
      ]
     },
     "execution_count": 15,
     "metadata": {},
     "output_type": "execute_result"
    }
   ],
   "source": [
    "part_2(inp1)"
   ]
  }
 ],
 "metadata": {
  "kernelspec": {
   "display_name": "Python 3.10.8 64-bit",
   "language": "python",
   "name": "python3"
  },
  "language_info": {
   "codemirror_mode": {
    "name": "ipython",
    "version": 3
   },
   "file_extension": ".py",
   "mimetype": "text/x-python",
   "name": "python",
   "nbconvert_exporter": "python",
   "pygments_lexer": "ipython3",
   "version": "3.10.8"
  },
  "orig_nbformat": 4,
  "vscode": {
   "interpreter": {
    "hash": "b0fa6594d8f4cbf19f97940f81e996739fb7646882a419484c72d19e05852a7e"
   }
  }
 },
 "nbformat": 4,
 "nbformat_minor": 2
}
