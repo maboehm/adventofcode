{
 "cells": [
  {
   "cell_type": "code",
   "execution_count": 26,
   "metadata": {},
   "outputs": [],
   "source": [
    "ex1 = \"D2FE28\" # v4,ID4,2021\n",
    "\n",
    "def to_bin(hex):\n",
    "    l = len(hex)*4\n",
    "    return bin(int(hex, 16))[2:].zfill(l)\n",
    "\n",
    "b1 = to_bin(ex1)"
   ]
  },
  {
   "cell_type": "code",
   "execution_count": 27,
   "metadata": {},
   "outputs": [
    {
     "data": {
      "text/plain": [
       "6"
      ]
     },
     "execution_count": 27,
     "metadata": {},
     "output_type": "execute_result"
    }
   ],
   "source": [
    "def version(n):\n",
    "    return int(n[:3], 2)\n",
    "version(b1)"
   ]
  },
  {
   "cell_type": "code",
   "execution_count": 28,
   "metadata": {},
   "outputs": [
    {
     "data": {
      "text/plain": [
       "4"
      ]
     },
     "execution_count": 28,
     "metadata": {},
     "output_type": "execute_result"
    }
   ],
   "source": [
    "def type_id(n):\n",
    "    return int(n[3:6], 2)\n",
    "type_id(b1)"
   ]
  },
  {
   "cell_type": "code",
   "execution_count": 36,
   "metadata": {},
   "outputs": [
    {
     "data": {
      "text/plain": [
       "(2021, 21)"
      ]
     },
     "execution_count": 36,
     "metadata": {},
     "output_type": "execute_result"
    }
   ],
   "source": [
    "def to_num(n):\n",
    "    pos = 6\n",
    "    res = ''\n",
    "    while True:\n",
    "        res += n[pos+1:pos+5]\n",
    "        pos += 5\n",
    "        if n[pos-5] == '0':\n",
    "            break\n",
    "    return int(res, 2), pos\n",
    "to_num(b1)"
   ]
  },
  {
   "cell_type": "code",
   "execution_count": 30,
   "metadata": {},
   "outputs": [
    {
     "name": "stdout",
     "output_type": "stream",
     "text": [
      "1\n",
      "6\n"
     ]
    }
   ],
   "source": [
    "ex2 = \"38006F45291200\" #v1,ID6,lID0,l27,n10,n20\n",
    "b2 = to_bin(ex2)\n",
    "print(version(b2))\n",
    "print(type_id(b2))"
   ]
  },
  {
   "cell_type": "code",
   "execution_count": 65,
   "metadata": {},
   "outputs": [
    {
     "data": {
      "text/plain": [
       "0"
      ]
     },
     "execution_count": 65,
     "metadata": {},
     "output_type": "execute_result"
    }
   ],
   "source": [
    "def lenght_id(n):\n",
    "    return int(n[6])\n",
    "lenght_id(b2)"
   ]
  },
  {
   "cell_type": "code",
   "execution_count": 95,
   "metadata": {},
   "outputs": [
    {
     "data": {
      "text/plain": [
       "('000', 6, 2021)"
      ]
     },
     "execution_count": 95,
     "metadata": {},
     "output_type": "execute_result"
    }
   ],
   "source": [
    "def parse_num(n, v):\n",
    "    v += version(n)\n",
    "    pos = 6\n",
    "    res = ''\n",
    "    while True:\n",
    "        res += n[pos+1:pos+5]\n",
    "        pos += 5\n",
    "        if n[pos-5] == '0':\n",
    "            break\n",
    "    return n[pos:], v, int(res, 2)\n",
    "parse_num(b1, 0)"
   ]
  },
  {
   "cell_type": "code",
   "execution_count": 116,
   "metadata": {},
   "outputs": [],
   "source": [
    "def parse(n, v):\n",
    "    id = type_id(n)\n",
    "    if id == 4:\n",
    "        n, v, val = parse_num(n, v)\n",
    "    else:\n",
    "        if lenght_id(n) == 0:\n",
    "            n, v, val = parse_length_sub(n, v)\n",
    "        else:\n",
    "            n, v, val = parse_number_sub(n, v)\n",
    "    return n, v, val"
   ]
  },
  {
   "cell_type": "code",
   "execution_count": 117,
   "metadata": {},
   "outputs": [],
   "source": [
    "from math import prod\n",
    "def calc(op, vals: list[int]):\n",
    "    if op == 0:\n",
    "        return sum(vals)\n",
    "    if op == 1:\n",
    "        return prod(vals)\n",
    "    if op == 2:\n",
    "        return min(vals)\n",
    "    if op == 3:\n",
    "        return max(vals)\n",
    "    if op == 5:\n",
    "        return int(vals[0] > vals[1])\n",
    "    if op == 6:\n",
    "        return int(vals[0] < vals[1])\n",
    "    if op == 7:\n",
    "        return int(vals[0] == vals[1])\n",
    "    return \"AAAAAA\""
   ]
  },
  {
   "cell_type": "code",
   "execution_count": 118,
   "metadata": {},
   "outputs": [
    {
     "data": {
      "text/plain": [
       "('0000000', 9, 1)"
      ]
     },
     "execution_count": 118,
     "metadata": {},
     "output_type": "execute_result"
    }
   ],
   "source": [
    "def parse_length_sub(n, v):\n",
    "    l = int(n[7:22],2)\n",
    "    id = type_id(n)\n",
    "    v += version(n)\n",
    "    pos = 22\n",
    "    n = n[pos:]\n",
    "    vals = []\n",
    "    while pos < 22+l:\n",
    "        old = len(n)\n",
    "        n, v, val = parse(n, v)\n",
    "        vals.append(val)\n",
    "        pos += old - len(n)\n",
    "    return n, v, calc(id, vals)\n",
    "parse_length_sub(b2, 0)"
   ]
  },
  {
   "cell_type": "code",
   "execution_count": 119,
   "metadata": {},
   "outputs": [
    {
     "data": {
      "text/plain": [
       "('00000', 14, 3)"
      ]
     },
     "execution_count": 119,
     "metadata": {},
     "output_type": "execute_result"
    }
   ],
   "source": [
    "def parse_number_sub(n, v):\n",
    "    id = type_id(n)\n",
    "    v += version(n)\n",
    "    l = int(n[7:18], 2)\n",
    "    n = n[18:]\n",
    "    vals = []\n",
    "    for _ in range(l):\n",
    "        n, v, val = parse(n, v)\n",
    "        vals.append(val)\n",
    "    return n, v, calc(id, vals)\n",
    "\n",
    "ex3 = \"EE00D40C823060\"\n",
    "b3 = to_bin(ex3)\n",
    "parse_number_sub(b3, 0)"
   ]
  },
  {
   "cell_type": "code",
   "execution_count": 120,
   "metadata": {},
   "outputs": [
    {
     "data": {
      "text/plain": [
       "('000', 16, 15)"
      ]
     },
     "execution_count": 120,
     "metadata": {},
     "output_type": "execute_result"
    }
   ],
   "source": [
    "ex4 = \"8A004A801A8002F478\"\n",
    "parse(to_bin(ex4), 0)"
   ]
  },
  {
   "cell_type": "code",
   "execution_count": 121,
   "metadata": {},
   "outputs": [
    {
     "data": {
      "text/plain": [
       "('00', 12, 46)"
      ]
     },
     "execution_count": 121,
     "metadata": {},
     "output_type": "execute_result"
    }
   ],
   "source": [
    "ex5 = \"620080001611562C8802118E34\"\n",
    "parse(to_bin(ex5), 0)"
   ]
  },
  {
   "cell_type": "code",
   "execution_count": 122,
   "metadata": {},
   "outputs": [
    {
     "data": {
      "text/plain": [
       "('000000', 847, 333794664059)"
      ]
     },
     "execution_count": 122,
     "metadata": {},
     "output_type": "execute_result"
    }
   ],
   "source": [
    "pzl = open(\"data/16.txt\").read().strip()\n",
    "parse(to_bin(pzl), 0)"
   ]
  },
  {
   "cell_type": "code",
   "execution_count": 125,
   "metadata": {},
   "outputs": [
    {
     "name": "stdout",
     "output_type": "stream",
     "text": [
      "('', 14, 3)\n",
      "('0000', 16, 0)\n",
      "('00', 20, 1)\n"
     ]
    }
   ],
   "source": [
    "print(parse(to_bin(\"C200B40A82\"), 0))\n",
    "print(parse(to_bin(\"9C005AC2F8F0\"), 0))\n",
    "print(parse(to_bin(\"9C0141080250320F1802104A08\"), 0))"
   ]
  },
  {
   "cell_type": "code",
   "execution_count": null,
   "metadata": {},
   "outputs": [],
   "source": []
  }
 ],
 "metadata": {
  "interpreter": {
   "hash": "7d6993cb2f9ce9a59d5d7380609d9cb5192a9dedd2735a011418ad9e827eb538"
  },
  "kernelspec": {
   "display_name": "Python 3.9.6 64-bit",
   "language": "python",
   "name": "python3"
  },
  "language_info": {
   "codemirror_mode": {
    "name": "ipython",
    "version": 3
   },
   "file_extension": ".py",
   "mimetype": "text/x-python",
   "name": "python",
   "nbconvert_exporter": "python",
   "pygments_lexer": "ipython3",
   "version": "3.9.9"
  },
  "orig_nbformat": 4
 },
 "nbformat": 4,
 "nbformat_minor": 2
}
