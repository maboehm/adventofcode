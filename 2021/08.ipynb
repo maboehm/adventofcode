{
 "cells": [
  {
   "cell_type": "code",
   "execution_count": 14,
   "metadata": {},
   "outputs": [],
   "source": [
    "import parse"
   ]
  },
  {
   "cell_type": "code",
   "execution_count": 216,
   "metadata": {},
   "outputs": [],
   "source": [
    "ex = \"\"\"be cfbegad cbdgef fgaecd cgeb fdcge agebfd fecdb fabcd edb | fdgacbe cefdb cefbgd gcbe\n",
    "edbfga begcd cbg gc gcadebf fbgde acbgfd abcde gfcbed gfec | fcgedb cgb dgebacf gc\n",
    "fgaebd cg bdaec gdafb agbcfd gdcbef bgcad gfac gcb cdgabef | cg cg fdcagb cbg\n",
    "fbegcd cbd adcefb dageb afcb bc aefdc ecdab fgdeca fcdbega | efabcd cedba gadfec cb\n",
    "aecbfdg fbg gf bafeg dbefa fcge gcbea fcaegb dgceab fcbdga | gecf egdcabf bgf bfgea\n",
    "fgeab ca afcebg bdacfeg cfaedg gcfdb baec bfadeg bafgc acf | gebdcfa ecba ca fadegcb\n",
    "dbcfg fgd bdegcaf fgec aegbdf ecdfab fbedc dacgb gdcebf gf | cefg dcbef fcge gbcadfe\n",
    "bdfegc cbegaf gecbf dfcage bdacg ed bedf ced adcbefg gebcd | ed bcgafe cdgba cbgef\n",
    "egadfb cdbfeg cegd fecab cgb gbdefca cg fgcdab egfdb bfceg | gbdfcae bgc cg cgb\n",
    "gcafb gcf dcaebfg ecagb gf abcdeg gaef cafbge fdbac fegbdc | fgae cfgab fg bagce\"\"\".splitlines()\n",
    "\n",
    "def read(inp):\n",
    "    notes = []\n",
    "    for e in inp:\n",
    "        pattern, out = parse.parse(\"{} | {}\", e.strip()).fixed\n",
    "        notes.append({\n",
    "            \"pattern\": list(map(sorted, pattern.split(\" \"))),\n",
    "            \"out\": list(map(sorted, out.split(\" \")))\n",
    "        })\n",
    "    return notes\n",
    "notes = read(ex)"
   ]
  },
  {
   "cell_type": "code",
   "execution_count": 217,
   "metadata": {},
   "outputs": [],
   "source": [
    "easy = {\n",
    "    2: \"1\",\n",
    "    3: \"7\",\n",
    "    4:  \"4\",\n",
    "    7:  \"8\",\n",
    "}\n",
    "\n",
    "def part1(notes):\n",
    "    return sum([sum([1 if len(o) in easy else 0 for o in n[\"out\"]]) for n in notes])\n",
    "    "
   ]
  },
  {
   "cell_type": "code",
   "execution_count": 218,
   "metadata": {},
   "outputs": [
    {
     "data": {
      "text/plain": [
       "26"
      ]
     },
     "execution_count": 218,
     "metadata": {},
     "output_type": "execute_result"
    }
   ],
   "source": [
    "part1(read(ex))"
   ]
  },
  {
   "cell_type": "code",
   "execution_count": 219,
   "metadata": {},
   "outputs": [
    {
     "data": {
      "text/plain": [
       "543"
      ]
     },
     "execution_count": 219,
     "metadata": {},
     "output_type": "execute_result"
    }
   ],
   "source": [
    "pzl = open(\"data/08.txt\").readlines()\n",
    "\n",
    "part1(read(pzl))"
   ]
  },
  {
   "cell_type": "code",
   "execution_count": 228,
   "metadata": {},
   "outputs": [],
   "source": [
    "valid_nums = [\n",
    " 'abcefg',\n",
    " 'cf',\n",
    " 'acdeg',\n",
    " 'acdfg',\n",
    " 'bcdf',\n",
    " 'abdfg',\n",
    " 'abdefg',\n",
    " 'acf',\n",
    " 'abcdefg',\n",
    " 'abcdfg'\n",
    "]\n",
    "to_num = {v:str(i) for i,v in enumerate(valid_nums)}\n",
    "valid_nums = list(map(set, valid_nums))"
   ]
  },
  {
   "cell_type": "code",
   "execution_count": 229,
   "metadata": {},
   "outputs": [],
   "source": [
    "def find_simple(n):\n",
    "    res = {}\n",
    "    for d in n[\"pattern\"]+ n[\"out\"]:\n",
    "        if len(d) in easy:\n",
    "            res[easy[len(d)]] = set(d)\n",
    "    return res\n"
   ]
  },
  {
   "cell_type": "code",
   "execution_count": 230,
   "metadata": {},
   "outputs": [],
   "source": [
    "chars = set(\"abcdefg\")\n",
    "def gen_candidates(n):\n",
    "    candidates = {}\n",
    "\n",
    "    simple = find_simple(n)\n",
    "    # b<->d\n",
    "    # c<->f\n",
    "    # e<->g\n",
    "    candidates[\"a\"] = simple[\"7\"] - simple[\"1\"] # always fixed\n",
    "    candidates[\"b\"] = simple[\"4\"] - simple[\"1\"]\n",
    "    candidates[\"c\"] = simple[\"1\"]\n",
    "    candidates[\"d\"] = simple[\"4\"] - simple[\"1\"]\n",
    "    candidates[\"f\"] = simple[\"1\"]\n",
    "\n",
    "    taken = candidates[\"a\"] | candidates[\"b\"] | candidates[\"c\"]\n",
    "    left = chars - taken\n",
    "    candidates[\"e\"] = left\n",
    "    candidates[\"g\"] = left\n",
    "    return candidates"
   ]
  },
  {
   "cell_type": "code",
   "execution_count": 235,
   "metadata": {},
   "outputs": [],
   "source": [
    "def sorted_trans(d, trans):\n",
    "    return \"\".join(sorted(\"\".join(d).translate(trans)))\n",
    "\n",
    "def parse_out(n, trans):\n",
    "    nums = [to_num[sorted_trans(d, trans)] for d in n[\"out\"]]\n",
    "    return int(\"\".join(nums))"
   ]
  },
  {
   "cell_type": "code",
   "execution_count": 236,
   "metadata": {},
   "outputs": [],
   "source": [
    "from copy import deepcopy\n",
    "def get_output(candidates, n):\n",
    "    bd_cand = list(candidates[\"b\"])\n",
    "    cf_cand = list(candidates[\"c\"])\n",
    "    eg_cand = list(candidates[\"e\"])\n",
    "    for i in range(8):\n",
    "        bd,cf,eg = [int(d) for d in \"{:03b}\".format(i)]\n",
    "\n",
    "        assume = deepcopy(candidates)\n",
    "        assume[\"a\"] = assume[\"a\"].pop()\n",
    "        assume[\"b\"] = bd_cand[bd]\n",
    "        assume[\"d\"] = bd_cand[1-bd]\n",
    "        assume[\"c\"] = cf_cand[cf]\n",
    "        assume[\"f\"] = cf_cand[1-cf]\n",
    "        assume[\"e\"] = eg_cand[eg]\n",
    "        assume[\"g\"] = eg_cand[1-eg]\n",
    "        trans = {ord(v): k for k,v in assume.items()}\n",
    "\n",
    "        if all(set(\"\".join(d).translate(trans)) in valid_nums for d in n[\"pattern\"] + n[\"out\"]):\n",
    "            return(parse_out(n, trans))"
   ]
  },
  {
   "cell_type": "code",
   "execution_count": 237,
   "metadata": {},
   "outputs": [
    {
     "data": {
      "text/plain": [
       "61229"
      ]
     },
     "execution_count": 237,
     "metadata": {},
     "output_type": "execute_result"
    }
   ],
   "source": [
    "def part2(notes):\n",
    "    res = 0\n",
    "    for n in notes:\n",
    "        candidates = gen_candidates(n)\n",
    "        res += get_output(candidates, n)\n",
    "    return res\n",
    "part2(read(ex))"
   ]
  },
  {
   "cell_type": "code",
   "execution_count": 238,
   "metadata": {},
   "outputs": [
    {
     "data": {
      "text/plain": [
       "994266"
      ]
     },
     "execution_count": 238,
     "metadata": {},
     "output_type": "execute_result"
    }
   ],
   "source": [
    "part2(read(pzl))"
   ]
  },
  {
   "cell_type": "code",
   "execution_count": null,
   "metadata": {},
   "outputs": [],
   "source": []
  }
 ],
 "metadata": {
  "interpreter": {
   "hash": "7d6993cb2f9ce9a59d5d7380609d9cb5192a9dedd2735a011418ad9e827eb538"
  },
  "kernelspec": {
   "display_name": "Python 3.9.6 64-bit",
   "language": "python",
   "name": "python3"
  },
  "language_info": {
   "codemirror_mode": {
    "name": "ipython",
    "version": 3
   },
   "file_extension": ".py",
   "mimetype": "text/x-python",
   "name": "python",
   "nbconvert_exporter": "python",
   "pygments_lexer": "ipython3",
   "version": "3.9.6"
  },
  "orig_nbformat": 4
 },
 "nbformat": 4,
 "nbformat_minor": 2
}
