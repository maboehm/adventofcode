{
 "cells": [
  {
   "cell_type": "code",
   "execution_count": null,
   "metadata": {},
   "outputs": [],
   "source": [
    "def part1(p):\n",
    "    s = [0,0]\n",
    "    i = 0\n",
    "    dice = 1\n",
    "    c = 0\n",
    "    while True:\n",
    "        c += 3\n",
    "        p[i] = (p[i]+ (3*dice+3) -1)%10+1\n",
    "        s[i] += p[i]\n",
    "        if s[i] >= 1000:\n",
    "            return min(s)*c\n",
    "        i = 1-i\n",
    "        dice = (dice + 2)%10+1\n",
    "part1([4,8])\n",
    "\n"
   ]
  },
  {
   "cell_type": "code",
   "execution_count": null,
   "metadata": {},
   "outputs": [],
   "source": [
    "pzl = [6,2]\n",
    "part1(pzl)"
   ]
  },
  {
   "cell_type": "code",
   "execution_count": 5,
   "metadata": {},
   "outputs": [
    {
     "data": {
      "text/plain": [
       "Counter({3: 1, 4: 3, 5: 6, 6: 7, 7: 6, 8: 3, 9: 1})"
      ]
     },
     "execution_count": 5,
     "metadata": {},
     "output_type": "execute_result"
    }
   ],
   "source": [
    "from itertools import product\n",
    "from collections import Counter\n",
    "poss = Counter(map(sum, product([1,2,3], repeat=3)))\n",
    "poss"
   ]
  },
  {
   "cell_type": "code",
   "execution_count": 11,
   "metadata": {},
   "outputs": [],
   "source": [
    "def universes(p1, p2, s1=0, s2=0):\n",
    "    if s2 >= 21:\n",
    "        return 0,1\n",
    "    w1, w2 = 0,0\n",
    "    for u in poss:\n",
    "        new_p1 = (p1+u-1)%10+1\n",
    "        a,b = universes(p2, new_p1, s2, s1+new_p1)\n",
    "        w2 += poss[u] * a\n",
    "        w1 += poss[u] * b\n",
    "\n",
    "    return w1, w2\n",
    "            \n",
    "#r = universes(4,8)\n",
    "#max(r)"
   ]
  },
  {
   "cell_type": "code",
   "execution_count": 12,
   "metadata": {},
   "outputs": [
    {
     "data": {
      "text/plain": [
       "146854918035875"
      ]
     },
     "execution_count": 12,
     "metadata": {},
     "output_type": "execute_result"
    }
   ],
   "source": [
    "r = universes(6,2)\n",
    "max(r)"
   ]
  },
  {
   "cell_type": "code",
   "execution_count": null,
   "metadata": {},
   "outputs": [],
   "source": []
  }
 ],
 "metadata": {
  "interpreter": {
   "hash": "7d6993cb2f9ce9a59d5d7380609d9cb5192a9dedd2735a011418ad9e827eb538"
  },
  "kernelspec": {
   "display_name": "Python 3.9.9 64-bit",
   "language": "python",
   "name": "python3"
  },
  "language_info": {
   "codemirror_mode": {
    "name": "ipython",
    "version": 3
   },
   "file_extension": ".py",
   "mimetype": "text/x-python",
   "name": "python",
   "nbconvert_exporter": "python",
   "pygments_lexer": "ipython3",
   "version": "3.9.9"
  },
  "orig_nbformat": 4
 },
 "nbformat": 4,
 "nbformat_minor": 2
}
