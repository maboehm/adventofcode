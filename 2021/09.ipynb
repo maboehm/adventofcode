{
 "cells": [
  {
   "cell_type": "code",
   "execution_count": 1,
   "metadata": {},
   "outputs": [],
   "source": [
    "ex = \"\"\"2199943210\n",
    "3987894921\n",
    "9856789892\n",
    "8767896789\n",
    "9899965678\"\"\".splitlines()\n",
    "\n"
   ]
  },
  {
   "cell_type": "code",
   "execution_count": 6,
   "metadata": {},
   "outputs": [
    {
     "data": {
      "text/plain": [
       "[[2, 1, 9, 9, 9, 4, 3, 2, 1, 0],\n",
       " [3, 9, 8, 7, 8, 9, 4, 9, 2, 1],\n",
       " [9, 8, 5, 6, 7, 8, 9, 8, 9, 2],\n",
       " [8, 7, 6, 7, 8, 9, 6, 7, 8, 9],\n",
       " [9, 8, 9, 9, 9, 6, 5, 6, 7, 8]]"
      ]
     },
     "execution_count": 6,
     "metadata": {},
     "output_type": "execute_result"
    }
   ],
   "source": [
    "def parse(inp):\n",
    "    return [[int(d) for d in l.strip()] for l in inp]\n",
    "\n",
    "parse(ex)"
   ]
  },
  {
   "cell_type": "code",
   "execution_count": 10,
   "metadata": {},
   "outputs": [
    {
     "data": {
      "text/plain": [
       "15"
      ]
     },
     "execution_count": 10,
     "metadata": {},
     "output_type": "execute_result"
    }
   ],
   "source": [
    "def in_bounds(grid, i,j):\n",
    "    if i<0 or j < 0:\n",
    "        return False\n",
    "    if i >= len(grid):\n",
    "        return False\n",
    "    if j>= len(grid[0]):\n",
    "        return False\n",
    "    return True\n",
    "\n",
    "from itertools import product\n",
    "\n",
    "def low_points(grid):\n",
    "    res = []\n",
    "    for i,j in product(range(len(grid)),range(len(grid[0]))):\n",
    "        neighbors = []\n",
    "        if in_bounds(grid, i-1, j):\n",
    "            neighbors.append(grid[i-1][j])\n",
    "        if in_bounds(grid, i+1, j):\n",
    "            neighbors.append(grid[i+1][j])\n",
    "        if in_bounds(grid, i, j-1):\n",
    "            neighbors.append(grid[i][j-1])\n",
    "        if in_bounds(grid, i, j+1):\n",
    "            neighbors.append(grid[i][j+1])\n",
    "        if min(neighbors) > grid[i][j]:\n",
    "            res.append((i,j))\n",
    "    return res\n",
    "\n",
    "def part1(grid):\n",
    "    lp = low_points(grid)\n",
    "    return sum([grid[p[0]][p[1]]+1 for p in lp])\n",
    "\n",
    "part1(parse(ex))"
   ]
  },
  {
   "cell_type": "code",
   "execution_count": 9,
   "metadata": {},
   "outputs": [
    {
     "data": {
      "text/plain": [
       "491"
      ]
     },
     "execution_count": 9,
     "metadata": {},
     "output_type": "execute_result"
    }
   ],
   "source": [
    "pzl = open(\"data/09.txt\").readlines()\n",
    "part1(parse(pzl))"
   ]
  },
  {
   "cell_type": "code",
   "execution_count": 11,
   "metadata": {},
   "outputs": [],
   "source": [
    "dirs = [(0,1),(0,-1),(-1,0), (1,0)]"
   ]
  },
  {
   "cell_type": "code",
   "execution_count": 16,
   "metadata": {},
   "outputs": [
    {
     "data": {
      "text/plain": [
       "{(0, 0), (0, 1), (1, 0)}"
      ]
     },
     "execution_count": 16,
     "metadata": {},
     "output_type": "execute_result"
    }
   ],
   "source": [
    "def expand(grid, i,j,visited,to_check):\n",
    "    for d in dirs:\n",
    "        check_i, check_j = i+d[0], j+d[1]\n",
    "        if (check_i,check_j) in visited:\n",
    "            continue\n",
    "        if in_bounds(grid, check_i, check_j):\n",
    "            if grid[check_i][check_j] == 9:\n",
    "                continue\n",
    "            visited.add((check_i, check_j))\n",
    "            to_check.add((check_i, check_j))\n",
    "    if len(to_check) == 0:\n",
    "        return visited\n",
    "    n = to_check.pop()\n",
    "    return expand(grid, n[0], n[1], visited, to_check)\n",
    "\n",
    "expand(parse(ex), 0,0,set(), set())\n",
    "\n"
   ]
  },
  {
   "cell_type": "code",
   "execution_count": 22,
   "metadata": {},
   "outputs": [],
   "source": [
    "from math import prod"
   ]
  },
  {
   "cell_type": "code",
   "execution_count": 24,
   "metadata": {},
   "outputs": [
    {
     "data": {
      "text/plain": [
       "1134"
      ]
     },
     "execution_count": 24,
     "metadata": {},
     "output_type": "execute_result"
    }
   ],
   "source": [
    "def maxN(elements, n):\n",
    "    return sorted(elements, reverse=True)[:n]\n",
    "\n",
    "def part2(grid):\n",
    "    lp = low_points(grid)\n",
    "    basins = [len(expand(grid, p[0],p[1], set(), set())) for p in lp]\n",
    "    return prod(maxN(basins, 3))\n",
    "    \n",
    "\n",
    "part2(parse(ex))\n",
    "    \n"
   ]
  },
  {
   "cell_type": "code",
   "execution_count": 25,
   "metadata": {},
   "outputs": [
    {
     "data": {
      "text/plain": [
       "1075536"
      ]
     },
     "execution_count": 25,
     "metadata": {},
     "output_type": "execute_result"
    }
   ],
   "source": [
    "part2(parse(pzl))\n"
   ]
  },
  {
   "cell_type": "code",
   "execution_count": null,
   "metadata": {},
   "outputs": [],
   "source": []
  }
 ],
 "metadata": {
  "interpreter": {
   "hash": "7d6993cb2f9ce9a59d5d7380609d9cb5192a9dedd2735a011418ad9e827eb538"
  },
  "kernelspec": {
   "display_name": "Python 3.9.6 64-bit",
   "language": "python",
   "name": "python3"
  },
  "language_info": {
   "codemirror_mode": {
    "name": "ipython",
    "version": 3
   },
   "file_extension": ".py",
   "mimetype": "text/x-python",
   "name": "python",
   "nbconvert_exporter": "python",
   "pygments_lexer": "ipython3",
   "version": "3.9.6"
  },
  "orig_nbformat": 4
 },
 "nbformat": 4,
 "nbformat_minor": 2
}
