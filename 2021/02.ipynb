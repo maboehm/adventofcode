{
 "cells": [
  {
   "cell_type": "code",
   "execution_count": 56,
   "metadata": {},
   "outputs": [],
   "source": [
    "from collections import namedtuple\n",
    "class P(namedtuple('Point', ['x', 'y'])):\n",
    "    def __add__(self, other):\n",
    "        return P(self.x+other.x, self.y+other.y)\n",
    "    def __mul__(self, other):\n",
    "        return P(self.x*other, self.y*other)"
   ]
  },
  {
   "cell_type": "code",
   "execution_count": 57,
   "metadata": {},
   "outputs": [],
   "source": [
    "lookup = {\n",
    "    \"forward\": P(1,0),\n",
    "    \"down\": P(0,1),\n",
    "    \"up\": P(0,-1)\n",
    "}"
   ]
  },
  {
   "cell_type": "code",
   "execution_count": 58,
   "metadata": {},
   "outputs": [],
   "source": [
    "ex = \"\"\"forward 5\n",
    "down 5\n",
    "forward 8\n",
    "up 3\n",
    "down 8\n",
    "forward 2\"\"\".split(\"\\n\")"
   ]
  },
  {
   "cell_type": "code",
   "execution_count": 64,
   "metadata": {},
   "outputs": [
    {
     "data": {
      "text/plain": [
       "150"
      ]
     },
     "execution_count": 64,
     "metadata": {},
     "output_type": "execute_result"
    }
   ],
   "source": [
    "def part_1(d):\n",
    "    tmp = [l.split(' ') for l in d]\n",
    "    res= sum((lookup[l[0]]* int(l[1]) for l in tmp), P(0,0))\n",
    "    return res.x*res.y\n",
    "part_1(ex)"
   ]
  },
  {
   "cell_type": "code",
   "execution_count": 66,
   "metadata": {},
   "outputs": [
    {
     "data": {
      "text/plain": [
       "150"
      ]
     },
     "execution_count": 66,
     "metadata": {},
     "output_type": "execute_result"
    }
   ],
   "source": [
    "part_1(ex)"
   ]
  },
  {
   "cell_type": "code",
   "execution_count": 65,
   "metadata": {},
   "outputs": [
    {
     "data": {
      "text/plain": [
       "2039256"
      ]
     },
     "execution_count": 65,
     "metadata": {},
     "output_type": "execute_result"
    }
   ],
   "source": [
    "with open(\"data/02.txt\") as f:\n",
    "    pzl1 = f.readlines()\n",
    "\n",
    "part_1(pzl1)"
   ]
  },
  {
   "cell_type": "code",
   "execution_count": 47,
   "metadata": {},
   "outputs": [
    {
     "data": {
      "text/plain": [
       "[['forward', 5],\n",
       " ['down', 5],\n",
       " ['forward', 8],\n",
       " ['up', 3],\n",
       " ['down', 8],\n",
       " ['forward', 2]]"
      ]
     },
     "execution_count": 47,
     "metadata": {},
     "output_type": "execute_result"
    }
   ],
   "source": [
    "def parse(d):\n",
    "    tmp = [l.split(' ') for l in d]\n",
    "    return [[l[0], int(l[1])] for l in tmp]\n",
    "parse(ex)"
   ]
  },
  {
   "cell_type": "code",
   "execution_count": 50,
   "metadata": {},
   "outputs": [],
   "source": [
    "def down(aim, pos, val):\n",
    "    return aim+val, pos\n",
    "def up(aim, pos, val):\n",
    "    return aim-val, pos\n",
    "def forward(aim, pos, val):\n",
    "    return aim, pos + P(val, aim*val)"
   ]
  },
  {
   "cell_type": "code",
   "execution_count": 67,
   "metadata": {},
   "outputs": [],
   "source": [
    "lookup2 = {\n",
    "    \"forward\": forward,\n",
    "    \"down\": down,\n",
    "    \"up\": up\n",
    "}\n",
    "\n",
    "def part_2(inp): \n",
    "    aim = 0\n",
    "    pos = P(0,0)\n",
    "\n",
    "    for cmd in parse(inp):\n",
    "        aim, pos = lookup2[cmd[0]](aim, pos, cmd[1])\n",
    "\n",
    "    return pos.x * pos.y"
   ]
  },
  {
   "cell_type": "code",
   "execution_count": 68,
   "metadata": {},
   "outputs": [
    {
     "data": {
      "text/plain": [
       "900"
      ]
     },
     "execution_count": 68,
     "metadata": {},
     "output_type": "execute_result"
    }
   ],
   "source": [
    "part_2(ex)"
   ]
  },
  {
   "cell_type": "code",
   "execution_count": 69,
   "metadata": {},
   "outputs": [
    {
     "data": {
      "text/plain": [
       "1856459736"
      ]
     },
     "execution_count": 69,
     "metadata": {},
     "output_type": "execute_result"
    }
   ],
   "source": [
    "part_2(pzl1)"
   ]
  },
  {
   "cell_type": "code",
   "execution_count": null,
   "metadata": {},
   "outputs": [],
   "source": []
  }
 ],
 "metadata": {
  "interpreter": {
   "hash": "7d6993cb2f9ce9a59d5d7380609d9cb5192a9dedd2735a011418ad9e827eb538"
  },
  "kernelspec": {
   "display_name": "Python 3.9.6 64-bit",
   "language": "python",
   "name": "python3"
  },
  "language_info": {
   "codemirror_mode": {
    "name": "ipython",
    "version": 3
   },
   "file_extension": ".py",
   "mimetype": "text/x-python",
   "name": "python",
   "nbconvert_exporter": "python",
   "pygments_lexer": "ipython3",
   "version": "3.9.6"
  },
  "orig_nbformat": 4
 },
 "nbformat": 4,
 "nbformat_minor": 2
}
