{
 "cells": [
  {
   "cell_type": "code",
   "execution_count": 63,
   "metadata": {},
   "outputs": [
    {
     "data": {
      "text/plain": [
       "<networkx.classes.graph.Graph at 0x7f1120698490>"
      ]
     },
     "execution_count": 63,
     "metadata": {},
     "output_type": "execute_result"
    }
   ],
   "source": [
    "ex = \"\"\"1163751742\n",
    "1381373672\n",
    "2136511328\n",
    "3694931569\n",
    "7463417111\n",
    "1319128137\n",
    "1359912421\n",
    "3125421639\n",
    "1293138521\n",
    "2311944581\"\"\"\n",
    "\n",
    "import networkx as nx\n",
    "neighbors = [(0,1), (1,0), (-1,0), (0,-1)]\n",
    "\n",
    "def parse(inp):\n",
    "    grid =  [[int(d) for d in l.strip()] for l in inp.strip().splitlines()]\n",
    "    size = len(grid)\n",
    "    G = nx.grid_2d_graph(size, size)\n",
    "    fn = lambda u, v, d: grid[v[0]][v[1]]\n",
    "    return G, fn, grid, size\n",
    "cave, fn, grid, size = parse(ex)\n",
    "cave"
   ]
  },
  {
   "cell_type": "code",
   "execution_count": 67,
   "metadata": {},
   "outputs": [
    {
     "data": {
      "text/plain": [
       "40"
      ]
     },
     "execution_count": 67,
     "metadata": {},
     "output_type": "execute_result"
    }
   ],
   "source": [
    "def part1(inp):\n",
    "    cave, fn, grid, size = parse(inp)\n",
    "    path = nx.dijkstra_path(cave, (0,0), (size-1, size-1), weight=fn)\n",
    "    l = -grid[0][0] + sum(grid[p[0]][p[1]] for p in path)\n",
    "    return l\n",
    "part1(ex)\n"
   ]
  },
  {
   "cell_type": "code",
   "execution_count": 68,
   "metadata": {},
   "outputs": [
    {
     "data": {
      "text/plain": [
       "540"
      ]
     },
     "execution_count": 68,
     "metadata": {},
     "output_type": "execute_result"
    }
   ],
   "source": [
    "pzl = open(\"data/15.txt\").read()\n",
    "part1(pzl)"
   ]
  },
  {
   "cell_type": "code",
   "execution_count": 92,
   "metadata": {},
   "outputs": [
    {
     "name": "stdout",
     "output_type": "stream",
     "text": [
      "50 50\n"
     ]
    },
    {
     "data": {
      "text/plain": [
       "315"
      ]
     },
     "execution_count": 92,
     "metadata": {},
     "output_type": "execute_result"
    }
   ],
   "source": [
    "def gen_2(inp):\n",
    "    grid =  [[int(d) for d in l.strip()] for l in inp.strip().splitlines()]\n",
    "    add = lambda x: x % 9 + 1\n",
    "    # expand right\n",
    "    new_grid = []\n",
    "    for l in grid:\n",
    "        new_l = [l]\n",
    "        for _ in range(4):\n",
    "            new_l.append([add(d) for d in new_l[-1]])\n",
    "        new_grid.append(sum(new_l, []))\n",
    "\n",
    "    offset = 0\n",
    "    size = len(new_grid)\n",
    "    for _ in range(4*size):\n",
    "        new_grid.append([add(d) for d in new_grid[offset]])\n",
    "        offset += 1\n",
    "    return new_grid\n",
    "\n",
    "def parse2(inp):\n",
    "    grid =  gen_2(inp)\n",
    "    size = len(grid)\n",
    "    print(size, len(grid[0]))\n",
    "    G = nx.grid_2d_graph(size, size)\n",
    "    fn = lambda u, v, d: grid[v[0]][v[1]]\n",
    "    return G, fn, grid, size\n",
    "\n",
    "def part2(inp):\n",
    "    cave, fn, grid, size = parse2(inp)\n",
    "    path = nx.dijkstra_path(cave, (0,0), (size-1, size-1), weight=fn)\n",
    "    l = -grid[0][0] + sum(grid[p[0]][p[1]] for p in path)\n",
    "    return l\n",
    "\n",
    "part2(ex)"
   ]
  },
  {
   "cell_type": "code",
   "execution_count": 93,
   "metadata": {},
   "outputs": [
    {
     "name": "stdout",
     "output_type": "stream",
     "text": [
      "500 500\n"
     ]
    },
    {
     "data": {
      "text/plain": [
       "2879"
      ]
     },
     "execution_count": 93,
     "metadata": {},
     "output_type": "execute_result"
    }
   ],
   "source": [
    "part2(pzl)"
   ]
  },
  {
   "cell_type": "code",
   "execution_count": null,
   "metadata": {},
   "outputs": [],
   "source": []
  }
 ],
 "metadata": {
  "interpreter": {
   "hash": "7d6993cb2f9ce9a59d5d7380609d9cb5192a9dedd2735a011418ad9e827eb538"
  },
  "kernelspec": {
   "display_name": "Python 3.9.6 64-bit",
   "language": "python",
   "name": "python3"
  },
  "language_info": {
   "codemirror_mode": {
    "name": "ipython",
    "version": 3
   },
   "file_extension": ".py",
   "mimetype": "text/x-python",
   "name": "python",
   "nbconvert_exporter": "python",
   "pygments_lexer": "ipython3",
   "version": "3.9.6"
  },
  "orig_nbformat": 4
 },
 "nbformat": 4,
 "nbformat_minor": 2
}
