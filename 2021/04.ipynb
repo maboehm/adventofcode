{
 "cells": [
  {
   "cell_type": "code",
   "execution_count": 27,
   "metadata": {},
   "outputs": [],
   "source": [
    "from copy import deepcopy"
   ]
  },
  {
   "cell_type": "code",
   "execution_count": 66,
   "metadata": {},
   "outputs": [],
   "source": [
    "class Board():\n",
    "    def __init__(self, board, i):\n",
    "        self.board = deepcopy(board)\n",
    "        self.i = i\n",
    "    def mark(self, pos):\n",
    "        for i in range(len(self.board)):\n",
    "            for j in range(len(self.board)):\n",
    "                if self.board[i][j] == pos:\n",
    "                    self.board[i][j] = \"X\"\n",
    "                    break\n",
    "    def wins(self):\n",
    "        for i in range(len(self.board)):\n",
    "            if ''.join([str(e) for e in self.board[i]]) == \"XXXXX\":\n",
    "\n",
    "                return True\n",
    "            s = \"\"\n",
    "            for j in range(len(self.board)):\n",
    "                s += str(self.board[j][i])\n",
    "            if s == \"XXXXX\":\n",
    "                return True\n",
    "        return False\n",
    "    def score(self, n):\n",
    "        unmarked = 0\n",
    "        for i in range(len(self.board)):\n",
    "            for j in range(len(self.board)):\n",
    "                if self.board[i][j] != 'X':\n",
    "                    unmarked += self.board[i][j]\n",
    "        return unmarked* n"
   ]
  },
  {
   "cell_type": "code",
   "execution_count": 24,
   "metadata": {},
   "outputs": [],
   "source": [
    "board_3_str = \"\"\"14 21 17 24  4\n",
    "10 16 15  9 19\n",
    "18  8 23 26 20\n",
    "22 11 13  6  5\n",
    " 2  0 12  3  7\"\"\".splitlines()"
   ]
  },
  {
   "cell_type": "code",
   "execution_count": 68,
   "metadata": {},
   "outputs": [],
   "source": [
    "def parse_board(b, idx):\n",
    "    return Board([[int(l[i:i+2]) for i in range(0,15,3)] for l in b], idx)\n",
    "board_3 =  parse_board(board_3_str, 3)"
   ]
  },
  {
   "cell_type": "code",
   "execution_count": 70,
   "metadata": {},
   "outputs": [],
   "source": [
    "def parse_input(s):\n",
    "    inp, boards = s.split(\"\\n\\n\", 1)\n",
    "    boards = [parse_board(b.split('\\n'),i) for i,b in enumerate(boards.split(\"\\n\\n\"))]\n",
    "    inp = [int(n) for n in inp.split(',')]\n",
    "    return inp, boards"
   ]
  },
  {
   "cell_type": "code",
   "execution_count": 71,
   "metadata": {},
   "outputs": [],
   "source": [
    "ex = \"\"\"7,4,9,5,11,17,23,2,0,14,21,24,10,16,13,6,15,25,12,22,18,20,8,19,3,26,1\n",
    "\n",
    "22 13 17 11  0\n",
    " 8  2 23  4 24\n",
    "21  9 14 16  7\n",
    " 6 10  3 18  5\n",
    " 1 12 20 15 19\n",
    "\n",
    " 3 15  0  2 22\n",
    " 9 18 13 17  5\n",
    "19  8  7 25 23\n",
    "20 11 10 24  4\n",
    "14 21 16 12  6\n",
    "\n",
    "14 21 17 24  4\n",
    "10 16 15  9 19\n",
    "18  8 23 26 20\n",
    "22 11 13  6  5\n",
    " 2  0 12  3  7\"\"\"\n"
   ]
  },
  {
   "cell_type": "code",
   "execution_count": 72,
   "metadata": {},
   "outputs": [
    {
     "data": {
      "text/plain": [
       "4512"
      ]
     },
     "execution_count": 72,
     "metadata": {},
     "output_type": "execute_result"
    }
   ],
   "source": [
    "\n",
    "def part_1(inp, boards):\n",
    "    for n in inp:\n",
    "        for b in boards:\n",
    "            b.mark(n)\n",
    "            if b.wins():\n",
    "                return b.score(n)\n",
    "    return -1\n",
    "inp, boards = parse_input(ex)\n",
    "part_1(inp, boards)\n"
   ]
  },
  {
   "cell_type": "code",
   "execution_count": 73,
   "metadata": {},
   "outputs": [
    {
     "data": {
      "text/plain": [
       "65325"
      ]
     },
     "execution_count": 73,
     "metadata": {},
     "output_type": "execute_result"
    }
   ],
   "source": [
    "with open(\"data/04.txt\") as f:\n",
    "    pzl1 = f.read()\n",
    "\n",
    "inp, boards = parse_input(pzl1)\n",
    "part_1(inp, boards)"
   ]
  },
  {
   "cell_type": "code",
   "execution_count": 109,
   "metadata": {},
   "outputs": [],
   "source": [
    "def part_2(inp, boards):\n",
    "    for n in inp:\n",
    "        for b in boards:\n",
    "            b.mark(n)\n",
    "        if len(boards) > 1:\n",
    "            boards = [b for b in boards if not b.wins()]\n",
    "        elif boards[0].wins():\n",
    "            return boards[0].score(n)"
   ]
  },
  {
   "cell_type": "code",
   "execution_count": 110,
   "metadata": {},
   "outputs": [
    {
     "data": {
      "text/plain": [
       "1924"
      ]
     },
     "execution_count": 110,
     "metadata": {},
     "output_type": "execute_result"
    }
   ],
   "source": [
    "inp, boards = parse_input(ex)\n",
    "part_2(inp, boards)"
   ]
  },
  {
   "cell_type": "code",
   "execution_count": 111,
   "metadata": {},
   "outputs": [
    {
     "data": {
      "text/plain": [
       "4624"
      ]
     },
     "execution_count": 111,
     "metadata": {},
     "output_type": "execute_result"
    }
   ],
   "source": [
    "inp, boards = parse_input(pzl1)\n",
    "part_2(inp, boards)"
   ]
  },
  {
   "cell_type": "code",
   "execution_count": null,
   "metadata": {},
   "outputs": [],
   "source": []
  }
 ],
 "metadata": {
  "interpreter": {
   "hash": "7d6993cb2f9ce9a59d5d7380609d9cb5192a9dedd2735a011418ad9e827eb538"
  },
  "kernelspec": {
   "display_name": "Python 3.9.6 64-bit",
   "language": "python",
   "name": "python3"
  },
  "language_info": {
   "codemirror_mode": {
    "name": "ipython",
    "version": 3
   },
   "file_extension": ".py",
   "mimetype": "text/x-python",
   "name": "python",
   "nbconvert_exporter": "python",
   "pygments_lexer": "ipython3",
   "version": "3.9.6"
  },
  "orig_nbformat": 4
 },
 "nbformat": 4,
 "nbformat_minor": 2
}
