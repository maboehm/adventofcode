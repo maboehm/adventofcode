{
 "cells": [
  {
   "cell_type": "code",
   "execution_count": 173,
   "metadata": {},
   "outputs": [],
   "source": [
    "def find_split(s:str):\n",
    "    c = 0\n",
    "    for i,p in enumerate(s):\n",
    "        #print(i, p, c)\n",
    "        if p == '[':\n",
    "            c += 1\n",
    "        elif p == ']':\n",
    "            c -= 1\n",
    "        elif p == ',' and c==1:\n",
    "            return s[1:i], s[i+1:-1]\n",
    "\n",
    "def leftmost(p):\n",
    "    if not isinstance(p, Pair):\n",
    "        return p\n",
    "    return leftmost(p.left)\n",
    "def rightmost(p):\n",
    "    if not isinstance(p, Pair):\n",
    "        return p\n",
    "    return rightmost(p.right)\n",
    "\n",
    "import math\n",
    "\n",
    "class Leaf():\n",
    "    def __init__(self):\n",
    "        pass\n",
    "    def next_right(self):\n",
    "        if self.parent is None:\n",
    "            return None\n",
    "        if self.parent.left == self:\n",
    "            return leftmost(self.parent.right)\n",
    "        return self.parent.next_right()\n",
    "    \n",
    "    def next_left(self) -> int:\n",
    "        if self.parent is None:\n",
    "            return None\n",
    "        if self.parent.right == self:\n",
    "            return rightmost(self.parent.left)\n",
    "        return self.parent.next_left()\n",
    "\n",
    "    def _am_left(self):\n",
    "        return self.parent.left == self\n",
    "\n",
    "class SN(Leaf):\n",
    "    def __init__(self, v, parent=None) -> None:\n",
    "        self.v = int(v)\n",
    "        self.parent = parent\n",
    "\n",
    "    def _split(self) -> bool:\n",
    "        if self.v < 10:\n",
    "            return False\n",
    "        a = math.floor(self.v/2)\n",
    "        b = math.ceil(self.v/2)\n",
    "        p = Pair(f\"[{a},{b}]\", self.parent.d + 1, self.parent)\n",
    "        if self._am_left():\n",
    "            self.parent.left = p\n",
    "        else:\n",
    "            self.parent.right = p\n",
    "        return True\n",
    "\n",
    "    def __abs__(self) -> int:\n",
    "        return self.v\n",
    "\n",
    "    def __repr__(self):\n",
    "        return str(self.v)\n",
    "\n",
    "class Pair(Leaf):\n",
    "    def __init__(self, s: str, d=0, parent=None) -> None:\n",
    "        self.d = d\n",
    "        self.parent = parent\n",
    "        a, b = find_split(s)\n",
    "        self.left = SN(a, self) if a.isnumeric() else Pair(a, d+1, self)\n",
    "        self.right = SN(b, self) if b.isnumeric() else Pair(b, d+1, self)\n",
    "\n",
    "    def reduce(self):\n",
    "        changed = True\n",
    "        while changed:\n",
    "            if self._explode():\n",
    "                continue\n",
    "            if self._split():\n",
    "                continue\n",
    "            changed = False\n",
    "\n",
    "        return self\n",
    "\n",
    "    def explode(self) -> 'Pair':\n",
    "        self._explode()\n",
    "        return self\n",
    "\n",
    "    def _explode(self) -> bool:\n",
    "        if isinstance(self.left, Pair):\n",
    "            ex = self.left._explode()\n",
    "            if ex:\n",
    "                return True\n",
    "        if isinstance(self.right, Pair):\n",
    "            ex = self.right._explode()\n",
    "            if ex:\n",
    "                return True\n",
    "\n",
    "        if self.d != 4:\n",
    "            return False\n",
    "        nr = self.next_right()\n",
    "        if nr is not None:\n",
    "            nr.v += self.right.v \n",
    "        nl = self.next_left()\n",
    "        if nl is not None:\n",
    "            nl.v += self.left.v\n",
    "        if self._am_left():\n",
    "            self.parent.left = SN(0, self.parent)\n",
    "        else:\n",
    "            self.parent.right = SN(0, self.parent)\n",
    "        return True\n",
    "    \n",
    "    def split(self) -> 'Pair':\n",
    "        self._split()\n",
    "        return self\n",
    "\n",
    "    def _split(self) -> bool:\n",
    "        if self.left._split():\n",
    "            return True\n",
    "        if self.right._split():\n",
    "            return True\n",
    "        return False\n",
    "\n",
    "    def __abs__(self) -> int:\n",
    "        return 3*abs(self.left) + 2*abs(self.right)\n",
    "\n",
    "    def __repr__(self) -> str:\n",
    "        return f\"[{self.left},{self.right}]\"\n",
    "\n",
    "    def __add__(self, other: 'Pair') -> 'Pair':\n",
    "        p = Pair(f\"[{self},{other}]\")\n",
    "        return p.reduce()"
   ]
  },
  {
   "cell_type": "code",
   "execution_count": 174,
   "metadata": {},
   "outputs": [
    {
     "name": "stdout",
     "output_type": "stream",
     "text": [
      "[[[[0,9],2],3],4]\n",
      "[7,[6,[5,[7,0]]]]\n",
      "[[3,[2,[8,0]]],[9,[5,[7,0]]]]\n"
     ]
    }
   ],
   "source": [
    "p = Pair(\"[[[[[9,8],1],2],3],4]\")\n",
    "print(p.explode())\n",
    "print(Pair(\"[7,[6,[5,[4,[3,2]]]]]\").explode())\n",
    "print(Pair(\"[[3,[2,[1,[7,3]]]],[6,[5,[4,[3,2]]]]]\").explode().explode())"
   ]
  },
  {
   "cell_type": "code",
   "execution_count": 129,
   "metadata": {},
   "outputs": [
    {
     "data": {
      "text/plain": [
       "[[[[0,7],4],[[7,8],[0,13]]],[1,1]]"
      ]
     },
     "execution_count": 129,
     "metadata": {},
     "output_type": "execute_result"
    }
   ],
   "source": [
    "Pair(\"[[[[0,7],4],[15,[0,13]]],[1,1]]\").split()"
   ]
  },
  {
   "cell_type": "code",
   "execution_count": 130,
   "metadata": {},
   "outputs": [
    {
     "data": {
      "text/plain": [
       "[[[[0,7],4],[[7,8],[6,0]]],[8,1]]"
      ]
     },
     "execution_count": 130,
     "metadata": {},
     "output_type": "execute_result"
    }
   ],
   "source": [
    "p1 = Pair(\"[[[[4,3],4],4],[7,[[8,4],9]]]\")\n",
    "p2 = Pair(\"[1,1]\")\n",
    "p1+p2\n"
   ]
  },
  {
   "cell_type": "code",
   "execution_count": 172,
   "metadata": {},
   "outputs": [],
   "source": [
    "def part1(inp):\n",
    "    pairs = [Pair(l.strip()) for l in inp.strip().splitlines()]\n",
    "    return abs(sum(pairs[1:], pairs[0]))"
   ]
  },
  {
   "cell_type": "code",
   "execution_count": 175,
   "metadata": {},
   "outputs": [
    {
     "name": "stdout",
     "output_type": "stream",
     "text": [
      "445\n",
      "791\n",
      "3488\n"
     ]
    }
   ],
   "source": [
    "ex1 = \"\"\"[1,1]\n",
    "[2,2]\n",
    "[3,3]\n",
    "[4,4]\"\"\"\n",
    "ex2 = \"\"\"[1,1]\n",
    "[2,2]\n",
    "[3,3]\n",
    "[4,4]\n",
    "[5,5]\"\"\"\n",
    "ex3 = \"\"\"[[[0,[4,5]],[0,0]],[[[4,5],[2,6]],[9,5]]]\n",
    "[7,[[[3,7],[4,3]],[[6,3],[8,8]]]]\n",
    "[[2,[[0,8],[3,4]]],[[[6,7],1],[7,[1,6]]]]\n",
    "[[[[2,4],7],[6,[0,5]]],[[[6,8],[2,8]],[[2,1],[4,5]]]]\n",
    "[7,[5,[[3,8],[1,4]]]]\n",
    "[[2,[2,2]],[8,[8,1]]]\n",
    "[2,9]\n",
    "[1,[[[9,3],9],[[9,0],[0,7]]]]\n",
    "[[[5,[7,4]],7],1]\n",
    "[[[[4,2],2],6],[8,7]]\"\"\"\n",
    "\n",
    "print(part1(ex1))\n",
    "print(part1(ex2))\n",
    "print(part1(ex3))\n"
   ]
  },
  {
   "cell_type": "code",
   "execution_count": 176,
   "metadata": {},
   "outputs": [
    {
     "data": {
      "text/plain": [
       "4140"
      ]
     },
     "execution_count": 176,
     "metadata": {},
     "output_type": "execute_result"
    }
   ],
   "source": [
    "\n",
    "\n",
    "ex4 = \"\"\"[[[0,[5,8]],[[1,7],[9,6]]],[[4,[1,2]],[[1,4],2]]]\n",
    "[[[5,[2,8]],4],[5,[[9,9],0]]]\n",
    "[6,[[[6,2],[5,6]],[[7,6],[4,7]]]]\n",
    "[[[6,[0,7]],[0,9]],[4,[9,[9,0]]]]\n",
    "[[[7,[6,4]],[3,[1,3]]],[[[5,5],1],9]]\n",
    "[[6,[[7,3],[3,2]]],[[[3,8],[5,7]],4]]\n",
    "[[[[5,4],[7,7]],8],[[8,3],8]]\n",
    "[[9,3],[[9,9],[6,[4,9]]]]\n",
    "[[2,[[7,7],7]],[[5,8],[[9,3],[0,2]]]]\n",
    "[[[[5,2],5],[8,[3,7]]],[[5,[7,5]],[4,4]]]\"\"\"\n",
    "\n",
    "part1(ex4)"
   ]
  },
  {
   "cell_type": "code",
   "execution_count": 168,
   "metadata": {},
   "outputs": [
    {
     "data": {
      "text/plain": [
       "(3699, [[[[7,7],[7,8]],[[7,0],[8,7]]],[[[5,6],[6,6]],[[6,4],[0,6]]]])"
      ]
     },
     "execution_count": 168,
     "metadata": {},
     "output_type": "execute_result"
    }
   ],
   "source": [
    "with open(\"data/18.txt\") as f:\n",
    "    pzl = f.read()\n",
    "part1(pzl)"
   ]
  },
  {
   "cell_type": "code",
   "execution_count": 177,
   "metadata": {},
   "outputs": [
    {
     "data": {
      "text/plain": [
       "3993"
      ]
     },
     "execution_count": 177,
     "metadata": {},
     "output_type": "execute_result"
    }
   ],
   "source": [
    "from itertools import permutations\n",
    "def part2(inp):\n",
    "    pairs = [Pair(l.strip()) for l in inp.strip().splitlines()]\n",
    "    res = max(abs(a+b) for a,b in permutations(pairs, 2))\n",
    "    return res\n",
    "part2(ex4)"
   ]
  },
  {
   "cell_type": "code",
   "execution_count": 171,
   "metadata": {},
   "outputs": [
    {
     "data": {
      "text/plain": [
       "4735"
      ]
     },
     "execution_count": 171,
     "metadata": {},
     "output_type": "execute_result"
    }
   ],
   "source": [
    "part2(pzl)"
   ]
  },
  {
   "cell_type": "code",
   "execution_count": null,
   "metadata": {},
   "outputs": [],
   "source": []
  }
 ],
 "metadata": {
  "interpreter": {
   "hash": "7d6993cb2f9ce9a59d5d7380609d9cb5192a9dedd2735a011418ad9e827eb538"
  },
  "kernelspec": {
   "display_name": "Python 3.9.9 64-bit",
   "language": "python",
   "name": "python3"
  },
  "language_info": {
   "codemirror_mode": {
    "name": "ipython",
    "version": 3
   },
   "file_extension": ".py",
   "mimetype": "text/x-python",
   "name": "python",
   "nbconvert_exporter": "python",
   "pygments_lexer": "ipython3",
   "version": "3.9.9"
  },
  "orig_nbformat": 4
 },
 "nbformat": 4,
 "nbformat_minor": 2
}
