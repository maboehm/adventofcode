{
 "cells": [
  {
   "cell_type": "code",
   "execution_count": 56,
   "metadata": {},
   "outputs": [],
   "source": [
    "import numpy as np"
   ]
  },
  {
   "cell_type": "code",
   "execution_count": 59,
   "metadata": {},
   "outputs": [
    {
     "data": {
      "text/plain": [
       "array([['0', '0', '1', '0', '0'],\n",
       "       ['1', '1', '1', '1', '0'],\n",
       "       ['1', '0', '1', '1', '0'],\n",
       "       ['1', '0', '1', '1', '1'],\n",
       "       ['1', '0', '1', '0', '1'],\n",
       "       ['0', '1', '1', '1', '1'],\n",
       "       ['0', '0', '1', '1', '1'],\n",
       "       ['1', '1', '1', '0', '0'],\n",
       "       ['1', '0', '0', '0', '0'],\n",
       "       ['1', '1', '0', '0', '1'],\n",
       "       ['0', '0', '0', '1', '0'],\n",
       "       ['0', '1', '0', '1', '0']], dtype='<U1')"
      ]
     },
     "execution_count": 59,
     "metadata": {},
     "output_type": "execute_result"
    }
   ],
   "source": [
    "ex = \"\"\"00100\n",
    "11110\n",
    "10110\n",
    "10111\n",
    "10101\n",
    "01111\n",
    "00111\n",
    "11100\n",
    "10000\n",
    "11001\n",
    "00010\n",
    "01010\"\"\".split(\"\\n\")\n",
    "ex = np.array([list(l) for l in ex])\n",
    "ex"
   ]
  },
  {
   "cell_type": "code",
   "execution_count": 40,
   "metadata": {},
   "outputs": [],
   "source": [
    "def to_bin(n):\n",
    "    return int('0b'+n, 2)"
   ]
  },
  {
   "cell_type": "code",
   "execution_count": 80,
   "metadata": {},
   "outputs": [],
   "source": [
    "def part_1(d):\n",
    "    d = d.transpose()\n",
    "    h = len(d[0]) / 2\n",
    "    res = ''.join(['1' if ''.join(l).count('1') > h else '0' for l in d])\n",
    "    mask = to_bin('1'*len(res))\n",
    "    res_num= to_bin(res)\n",
    "    return res_num * (res_num ^ mask)"
   ]
  },
  {
   "cell_type": "code",
   "execution_count": 78,
   "metadata": {},
   "outputs": [
    {
     "data": {
      "text/plain": [
       "198"
      ]
     },
     "execution_count": 78,
     "metadata": {},
     "output_type": "execute_result"
    }
   ],
   "source": [
    "part_1(ex)"
   ]
  },
  {
   "cell_type": "code",
   "execution_count": 81,
   "metadata": {},
   "outputs": [
    {
     "data": {
      "text/plain": [
       "1131506"
      ]
     },
     "execution_count": 81,
     "metadata": {},
     "output_type": "execute_result"
    }
   ],
   "source": [
    "with open(\"data/03.txt\") as f:\n",
    "    pzl1 = np.array([list(l.strip()) for l in f.readlines()])\n",
    "part_1(pzl1)"
   ]
  },
  {
   "cell_type": "markdown",
   "metadata": {},
   "source": [
    "# Part 2"
   ]
  },
  {
   "cell_type": "code",
   "execution_count": null,
   "metadata": {},
   "outputs": [],
   "source": [
    "with open(\"data/03.txt\") as f:\n",
    "    pzl1 = [l.strip() for l in f.readlines()]"
   ]
  },
  {
   "cell_type": "code",
   "execution_count": 29,
   "metadata": {},
   "outputs": [],
   "source": [
    "def most_common_digit(d, pos):\n",
    "    ones, zeros = 0,0\n",
    "    for l in d:\n",
    "        if l[pos] == \"1\":\n",
    "            ones += 1\n",
    "        else:\n",
    "            zeros += 1\n",
    "    if ones > zeros:\n",
    "        return \"1\"\n",
    "    elif zeros > ones:\n",
    "        return \"0\"\n",
    "    return \"1\"\n",
    "\n",
    "def least_common_digit(d, pos):\n",
    "    ones, zeros = 0,0\n",
    "    for l in d:\n",
    "        if l[pos] == \"1\":\n",
    "            ones += 1\n",
    "        else:\n",
    "            zeros += 1\n",
    "    if ones < zeros:\n",
    "        return \"1\"\n",
    "    elif zeros < ones:\n",
    "        return \"0\"\n",
    "    return \"0\""
   ]
  },
  {
   "cell_type": "code",
   "execution_count": 32,
   "metadata": {},
   "outputs": [],
   "source": [
    "d = ex\n",
    "def filter_diag(d, fn):\n",
    "    for pos in range(len(d[0])):\n",
    "        dig = fn(d, pos)\n",
    "        d = [l for l in d if l[pos] == dig]\n",
    "        if len(d) == 1:\n",
    "            break\n",
    "    if len(d) > 1:\n",
    "        raise Exception('too high')\n",
    "    return d[0]\n"
   ]
  },
  {
   "cell_type": "code",
   "execution_count": 42,
   "metadata": {},
   "outputs": [],
   "source": [
    "def part_2(d):\n",
    "    ox = filter_diag(d, most_common_digit)\n",
    "    co = filter_diag(d, least_common_digit)\n",
    "    return to_bin(ox) * to_bin(co)"
   ]
  },
  {
   "cell_type": "code",
   "execution_count": 43,
   "metadata": {},
   "outputs": [
    {
     "data": {
      "text/plain": [
       "230"
      ]
     },
     "execution_count": 43,
     "metadata": {},
     "output_type": "execute_result"
    }
   ],
   "source": [
    "part_2(ex)"
   ]
  },
  {
   "cell_type": "code",
   "execution_count": 46,
   "metadata": {},
   "outputs": [
    {
     "data": {
      "text/plain": [
       "7863147"
      ]
     },
     "execution_count": 46,
     "metadata": {},
     "output_type": "execute_result"
    }
   ],
   "source": [
    "part_2(pzl1)"
   ]
  },
  {
   "cell_type": "code",
   "execution_count": null,
   "metadata": {},
   "outputs": [],
   "source": []
  }
 ],
 "metadata": {
  "interpreter": {
   "hash": "7d6993cb2f9ce9a59d5d7380609d9cb5192a9dedd2735a011418ad9e827eb538"
  },
  "kernelspec": {
   "display_name": "Python 3.9.6 64-bit",
   "language": "python",
   "name": "python3"
  },
  "language_info": {
   "codemirror_mode": {
    "name": "ipython",
    "version": 3
   },
   "file_extension": ".py",
   "mimetype": "text/x-python",
   "name": "python",
   "nbconvert_exporter": "python",
   "pygments_lexer": "ipython3",
   "version": "3.9.6"
  },
  "orig_nbformat": 4
 },
 "nbformat": 4,
 "nbformat_minor": 2
}
