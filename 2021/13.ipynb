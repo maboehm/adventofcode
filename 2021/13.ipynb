{
 "cells": [
  {
   "cell_type": "code",
   "execution_count": 37,
   "metadata": {},
   "outputs": [
    {
     "data": {
      "text/plain": [
       "[('y', 7), ('x', 5)]"
      ]
     },
     "execution_count": 37,
     "metadata": {},
     "output_type": "execute_result"
    }
   ],
   "source": [
    "ex = \"\"\"6,10\n",
    "0,14\n",
    "9,10\n",
    "0,3\n",
    "10,4\n",
    "4,11\n",
    "6,0\n",
    "6,12\n",
    "4,1\n",
    "0,13\n",
    "10,12\n",
    "3,4\n",
    "3,0\n",
    "8,4\n",
    "1,10\n",
    "2,14\n",
    "8,10\n",
    "9,0\n",
    "\n",
    "fold along y=7\n",
    "fold along x=5\"\"\"\n",
    "\n",
    "from collections import namedtuple, defaultdict\n",
    "from parse import parse\n",
    "\n",
    "def read(inp):\n",
    "    inp = inp.strip()\n",
    "    points, folds = inp.split('\\n\\n')\n",
    "    folds = [parse(\"fold along {}={:n}\", l).fixed for l in folds.split('\\n')]\n",
    "    \n",
    "    res = defaultdict(bool)\n",
    "    for p in points.split(\"\\n\"):\n",
    "        x,y = p.split(',' )\n",
    "        res[(int(x), int(y))] = True\n",
    "    return res, folds\n",
    "\n",
    "points, folds = read(ex)\n",
    "folds"
   ]
  },
  {
   "cell_type": "code",
   "execution_count": 39,
   "metadata": {},
   "outputs": [
    {
     "name": "stdout",
     "output_type": "stream",
     "text": [
      "10 14\n"
     ]
    },
    {
     "data": {
      "image/png": "[encoded data removed]",
      "text/plain": [
       "<Figure size 432x288 with 1 Axes>"
      ]
     },
     "metadata": {
      "needs_background": "light"
     },
     "output_type": "display_data"
    }
   ],
   "source": [
    "from matplotlib import pyplot as plt\n",
    "import numpy as np\n",
    "def show(grid):\n",
    "    x_max = max([p[0] for p in grid])\n",
    "    y_max = max([p[1] for p in grid])\n",
    "    g = np.zeros((y_max+1, x_max+1))\n",
    "    for p in grid:\n",
    "        g[p[1], p[0]] = int(grid[p])\n",
    "    plt.imshow(g)\n",
    "show(points)\n"
   ]
  },
  {
   "cell_type": "code",
   "execution_count": 46,
   "metadata": {},
   "outputs": [
    {
     "name": "stdout",
     "output_type": "stream",
     "text": [
      "10 4\n"
     ]
    },
    {
     "data": {
      "image/png": "[encoded data removed]",
      "text/plain": [
       "<Figure size 432x288 with 1 Axes>"
      ]
     },
     "metadata": {
      "needs_background": "light"
     },
     "output_type": "display_data"
    }
   ],
   "source": [
    "def fold(grid, f):\n",
    "    new_grid = defaultdict(bool)\n",
    "    axis, line = f\n",
    "    axis = 0 if axis=='x' else 1\n",
    "    #print(axis, line)\n",
    "    for p in grid:\n",
    "        if p[axis] < line:\n",
    "            new_grid[p] = True\n",
    "            continue\n",
    "        d = p[axis] - line\n",
    "        new_x, new_y = p\n",
    "        #print(axis, line, d)\n",
    "        if axis == 0:\n",
    "            new_x = line - d\n",
    "        else:\n",
    "            new_y = line-d\n",
    "        new_grid[(new_x, new_y)] = True\n",
    "    return new_grid\n",
    "        \n",
    "\n",
    "\n",
    "show(fold(points, folds[0]))\n"
   ]
  },
  {
   "cell_type": "code",
   "execution_count": 47,
   "metadata": {},
   "outputs": [
    {
     "data": {
      "text/plain": [
       "17"
      ]
     },
     "execution_count": 47,
     "metadata": {},
     "output_type": "execute_result"
    }
   ],
   "source": [
    "def part1(inp):\n",
    "    points, folds = read(inp)\n",
    "    res = fold(points, folds[0])\n",
    "    return len(res)\n",
    "\n",
    "\n",
    "part1(ex)"
   ]
  },
  {
   "cell_type": "code",
   "execution_count": 48,
   "metadata": {},
   "outputs": [
    {
     "data": {
      "text/plain": [
       "795"
      ]
     },
     "execution_count": 48,
     "metadata": {},
     "output_type": "execute_result"
    }
   ],
   "source": [
    "pzl = open(\"data/13.txt\").read()\n",
    "part1(pzl)"
   ]
  },
  {
   "cell_type": "code",
   "execution_count": 49,
   "metadata": {},
   "outputs": [
    {
     "name": "stdout",
     "output_type": "stream",
     "text": [
      "4 4\n"
     ]
    },
    {
     "data": {
      "image/png": "[encoded data removed]",
      "text/plain": [
       "<Figure size 432x288 with 1 Axes>"
      ]
     },
     "metadata": {
      "needs_background": "light"
     },
     "output_type": "display_data"
    }
   ],
   "source": [
    "def part2(inp):\n",
    "    points, folds = read(inp)\n",
    "    for f in folds:\n",
    "        points = fold(points, f)\n",
    "    show(points)\n",
    "\n",
    "part2(ex)"
   ]
  },
  {
   "cell_type": "code",
   "execution_count": 50,
   "metadata": {},
   "outputs": [
    {
     "name": "stdout",
     "output_type": "stream",
     "text": [
      "38 5\n"
     ]
    },
    {
     "data": {
      "image/png": "[encoded data removed]",
      "text/plain": [
       "<Figure size 432x288 with 1 Axes>"
      ]
     },
     "metadata": {
      "needs_background": "light"
     },
     "output_type": "display_data"
    }
   ],
   "source": [
    "part2(pzl)"
   ]
  },
  {
   "cell_type": "code",
   "execution_count": null,
   "metadata": {},
   "outputs": [],
   "source": []
  }
 ],
 "metadata": {
  "interpreter": {
   "hash": "7d6993cb2f9ce9a59d5d7380609d9cb5192a9dedd2735a011418ad9e827eb538"
  },
  "kernelspec": {
   "display_name": "Python 3.9.6 64-bit",
   "language": "python",
   "name": "python3"
  },
  "language_info": {
   "codemirror_mode": {
    "name": "ipython",
    "version": 3
   },
   "file_extension": ".py",
   "mimetype": "text/x-python",
   "name": "python",
   "nbconvert_exporter": "python",
   "pygments_lexer": "ipython3",
   "version": "3.9.6"
  },
  "orig_nbformat": 4
 },
 "nbformat": 4,
 "nbformat_minor": 2
}
