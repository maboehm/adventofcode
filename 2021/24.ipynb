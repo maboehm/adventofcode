{
 "cells": [
  {
   "cell_type": "code",
   "execution_count": 87,
   "metadata": {},
   "outputs": [],
   "source": [
    "def parse(prog: str):\n",
    "    res = []\n",
    "    for l in prog.strip().splitlines():\n",
    "        action, rest = l.split(\" \", 1)\n",
    "        if action == \"inp\":\n",
    "            res.append((\"inp\", (rest)))\n",
    "        else:\n",
    "            a,b = rest.split(\" \")\n",
    "            if b in (\"w\",\"x\", \"y\", \"z\"):\n",
    "                res.append((action+\"_var\", (a,b)))\n",
    "            else:\n",
    "                res.append((action+\"_val\", (a,int(b))))\n",
    "    return tuple(res)\n",
    "\n",
    "class ALU():\n",
    "    def __init__(self, prog) -> None:\n",
    "        self.reset()\n",
    "        self.inp = []\n",
    "        self.prog = prog        \n",
    "        \n",
    "    def _inp(self, a):\n",
    "        if len(self.inp) == 0:\n",
    "            return True\n",
    "        self.state[a] = self.inp.pop()\n",
    "\n",
    "    def _add_var(self, a,b):\n",
    "        self.state[a] += self.state[b]\n",
    "    def _add_val(self, a,b):\n",
    "        self.state[a] += b\n",
    "\n",
    "    def _mul_var(self, a,b):\n",
    "        self.state[a] *= self.state[b]\n",
    "    def _mul_val(self, a,b):\n",
    "        self.state[a] *= b\n",
    "\n",
    "    def _div_var(self, a,b):\n",
    "        self.state[a] //= self.state[b]\n",
    "    def _div_val(self, a,b):\n",
    "        self.state[a] //= b\n",
    "\n",
    "    def _mod_var(self, a,b):\n",
    "        self.state[a] %= self.state[b]\n",
    "    def _mod_val(self, a,b):\n",
    "        self.state[a] %= b\n",
    "\n",
    "    def _eql_var(self, a,b):\n",
    "        self.state[a] = 1 if self.state[a] == self.state[b] else 0\n",
    "    def _eql_val(self, a,b):\n",
    "        self.state[a] = 1 if self.state[a] == b else 0\n",
    "                \n",
    "                \n",
    "    def setInp(self, inp: str):\n",
    "        self.inp = list(map(int, inp))[::-1]\n",
    "\n",
    "    def run(self):\n",
    "        for i, (ins, args) in enumerate(self.prog):\n",
    "            pause = getattr(self, \"_\"+ins)(*args)\n",
    "            if pause:\n",
    "                self.i = i\n",
    "                return self.state\n",
    "\n",
    "        return self.state\n",
    "        \n",
    "        \n",
    "    def reset(self):\n",
    "        self.state = {\n",
    "            \"w\": 0,\n",
    "            \"x\": 0,\n",
    "            \"y\": 0,\n",
    "            \"z\": 0\n",
    "        }\n",
    "        self.i = 0\n",
    "\n",
    "def newALU(base: ALU) -> ALU:\n",
    "    res = ALU(\"\")\n",
    "    res.prog = base.prog\n",
    "    res.state = {k: v for k,v in base.state.items()}\n",
    "    res.i = base.i"
   ]
  },
  {
   "cell_type": "code",
   "execution_count": 88,
   "metadata": {},
   "outputs": [
    {
     "data": {
      "text/plain": [
       "{'w': 0, 'x': -7, 'y': 0, 'z': 0}"
      ]
     },
     "execution_count": 88,
     "metadata": {},
     "output_type": "execute_result"
    }
   ],
   "source": [
    "negate = ALU(parse(\"\"\"inp x\n",
    "mul x -1\"\"\"))\n",
    "negate.setInp(\"7\")\n",
    "negate.run()"
   ]
  },
  {
   "cell_type": "code",
   "execution_count": 89,
   "metadata": {},
   "outputs": [
    {
     "name": "stdout",
     "output_type": "stream",
     "text": [
      "{'w': 0, 'x': 8, 'y': 0, 'z': 0}\n"
     ]
    },
    {
     "data": {
      "text/plain": [
       "{'w': 0, 'x': 9, 'y': 0, 'z': 1}"
      ]
     },
     "execution_count": 89,
     "metadata": {},
     "output_type": "execute_result"
    }
   ],
   "source": [
    "times3 = ALU(parse(\"\"\"inp z\n",
    "inp x\n",
    "mul z 3\n",
    "eql z x\"\"\"))\n",
    "times3.setInp(\"38\")\n",
    "print(times3.run())\n",
    "times3.reset()\n",
    "times3.setInp(\"39\")\n",
    "times3.run()"
   ]
  },
  {
   "cell_type": "code",
   "execution_count": 72,
   "metadata": {},
   "outputs": [
    {
     "data": {
      "text/plain": [
       "{'w': 0, 'x': 1, 'y': 1, 'z': 1}"
      ]
     },
     "execution_count": 72,
     "metadata": {},
     "output_type": "execute_result"
    }
   ],
   "source": [
    "binary = ALU(parse(\"\"\"inp w\n",
    "add z w\n",
    "mod z 2\n",
    "div w 2\n",
    "add y w\n",
    "mod y 2\n",
    "div w 2\n",
    "add x w\n",
    "mod x 2\n",
    "div w 2\n",
    "mod w 2\"\"\"))\n",
    "binary.setInp(\"7\")\n",
    "binary.run()"
   ]
  },
  {
   "cell_type": "code",
   "execution_count": 53,
   "metadata": {},
   "outputs": [
    {
     "data": {
      "text/plain": [
       "{'w': 9, 'x': 1, 'y': 18, 'z': 172660766}"
      ]
     },
     "execution_count": 53,
     "metadata": {},
     "output_type": "execute_result"
    }
   ],
   "source": [
    "with open(\"data/24.txt\") as f:\n",
    "    pzl = f.read()\n",
    "\n",
    "monad = ALU(pzl)\n",
    "monad.setInp(\"13579246899999\")\n",
    "monad.run()"
   ]
  },
  {
   "cell_type": "code",
   "execution_count": 67,
   "metadata": {},
   "outputs": [],
   "source": [
    "def run(prog, inp: str, known, d=0):\n",
    "    a = ALU(prog)\n",
    "    if inp in known:\n",
    "        a.i = known[inp][\"i\"]\n",
    "        a.state = known[inp][\"state\"]\n",
    "    \n",
    "\n",
    "\n",
    "def part1(inp):\n",
    "    known = {}\n",
    "    prog = parse(inp)\n",
    "    monad = ALU(prog)\n",
    "    for inp in range(int(1e14-1), int(1e13), -1):\n",
    "        s = str(inp)\n",
    "        if '0' in s:\n",
    "            continue\n",
    "        monad.reset()\n",
    "        monad.setInp(s)\n",
    "        monad.run()\n",
    "        if monad.state[\"z\"] == 0:\n",
    "            return s\n",
    "            "
   ]
  },
  {
   "cell_type": "code",
   "execution_count": 153,
   "metadata": {},
   "outputs": [],
   "source": [
    "def inp(i, s: dict, a, nex):\n",
    "    s[a] = int(nex)\n",
    "    return i+1, s\n",
    "\n",
    "def add_var(i,s, a,b):\n",
    "    s[a] += s[b]\n",
    "    return i+1, s\n",
    "def add_val(i,s, a,b):\n",
    "    s[a] += b\n",
    "    return i+1, s\n",
    "\n",
    "def mul_var(i,s, a,b):\n",
    "    s[a] *= s[b]\n",
    "    return i+1, s\n",
    "def mul_val(i,s, a,b):\n",
    "    s[a] *= b\n",
    "    return i+1, s\n",
    "\n",
    "def div_var(i,s, a,b):\n",
    "    s[a] //= s[b]\n",
    "    return i+1, s\n",
    "def div_val(i,s, a,b):\n",
    "    s[a] //= b\n",
    "    return i+1, s\n",
    "\n",
    "def mod_var(i,s, a,b):\n",
    "    s[a] %= s[b]\n",
    "    return i+1, s\n",
    "def mod_val(i,s, a,b):\n",
    "    s[a] %= b\n",
    "    return i+1, s\n",
    "\n",
    "def eql_var(i,s, a,b):\n",
    "    s[a] = 1 if s[a] == s[b] else 0\n",
    "    return i+1, s\n",
    "def eql_val(i,s, a,b):\n",
    "    s[a] = 1 if s[a] == b else 0\n",
    "    return i+1, s\n",
    "\n",
    "funcs = {\n",
    "    \"inp\": inp,\n",
    "    \"add_var\": add_var,\n",
    "    \"add_val\": add_val,\n",
    "    \"mul_var\": mul_var,\n",
    "    \"mul_val\": mul_val,\n",
    "    \"div_var\": div_var,\n",
    "    \"div_val\": div_val,\n",
    "    \"mod_var\": mod_var,\n",
    "    \"mod_val\": mod_val,\n",
    "    \"eql_var\": eql_var,\n",
    "    \"eql_val\": eql_val,\n",
    "}\n",
    "\n",
    "from functools import cache\n",
    "\n",
    "@cache\n",
    "def run(i, s, prog, inp):\n",
    "    s = {\n",
    "        \"w\": 0,\n",
    "        \"x\": 0,\n",
    "        \"y\": 0,\n",
    "        \"z\": s,\n",
    "    }\n",
    "    while i < len(prog):\n",
    "        inst = prog[i]\n",
    "        if inst[0] == \"inp\":\n",
    "            if len(inp) == 0:\n",
    "                return i, s[\"z\"]\n",
    "            i, s = funcs[\"inp\"](i,s, inst[1][0], inp[0])\n",
    "            inp = inp[1:]\n",
    "        else:\n",
    "            i, s = funcs[inst[0]](i,s, *inst[1])\n",
    "    return i, s[\"z\"]\n",
    "\n",
    "@cache\n",
    "def next_states(i, s, prog):\n",
    "    if i == len(prog):\n",
    "        return s\n",
    "    ss = set()\n",
    "    for n in \"987654321\":\n",
    "        new_i, new_s = run(i, s, prog, n)\n",
    "        ss.add(new_s)\n",
    "    return new_i, ss"
   ]
  },
  {
   "cell_type": "code",
   "execution_count": 158,
   "metadata": {},
   "outputs": [
    {
     "data": {
      "text/plain": [
       "(36, 13)"
      ]
     },
     "execution_count": 158,
     "metadata": {},
     "output_type": "execute_result"
    }
   ],
   "source": [
    "run(18, 0, prog, \"3\")"
   ]
  },
  {
   "cell_type": "code",
   "execution_count": 152,
   "metadata": {},
   "outputs": [
    {
     "ename": "KeyboardInterrupt",
     "evalue": "",
     "output_type": "error",
     "traceback": [
      "\u001b[0;31m---------------------------------------------------------------------------\u001b[0m",
      "\u001b[0;31mKeyboardInterrupt\u001b[0m                         Traceback (most recent call last)",
      "\u001b[0;32m<ipython-input-152-3c4711646bc9>\u001b[0m in \u001b[0;36m<module>\u001b[0;34m\u001b[0m\n\u001b[1;32m     22\u001b[0m \u001b[0;34m\u001b[0m\u001b[0m\n\u001b[1;32m     23\u001b[0m \u001b[0;34m\u001b[0m\u001b[0m\n\u001b[0;32m---> 24\u001b[0;31m \u001b[0mpart1\u001b[0m\u001b[0;34m(\u001b[0m\u001b[0mpzl\u001b[0m\u001b[0;34m)\u001b[0m\u001b[0;34m\u001b[0m\u001b[0;34m\u001b[0m\u001b[0m\n\u001b[0m",
      "\u001b[0;32m<ipython-input-152-3c4711646bc9>\u001b[0m in \u001b[0;36mpart1\u001b[0;34m(raw)\u001b[0m\n\u001b[1;32m     17\u001b[0m     \u001b[0mi\u001b[0m \u001b[0;34m=\u001b[0m \u001b[0;36m0\u001b[0m\u001b[0;34m\u001b[0m\u001b[0;34m\u001b[0m\u001b[0m\n\u001b[1;32m     18\u001b[0m     \u001b[0;32mfor\u001b[0m \u001b[0mn\u001b[0m \u001b[0;32min\u001b[0m \u001b[0;34m\"987654321\"\u001b[0m\u001b[0;34m:\u001b[0m\u001b[0;34m\u001b[0m\u001b[0;34m\u001b[0m\u001b[0m\n\u001b[0;32m---> 19\u001b[0;31m         \u001b[0mval\u001b[0m\u001b[0;34m,\u001b[0m \u001b[0mnum\u001b[0m \u001b[0;34m=\u001b[0m \u001b[0mnext_inp\u001b[0m\u001b[0;34m(\u001b[0m\u001b[0;36m0\u001b[0m\u001b[0;34m,\u001b[0m \u001b[0;36m0\u001b[0m\u001b[0;34m,\u001b[0m \u001b[0mprog\u001b[0m\u001b[0;34m,\u001b[0m \u001b[0mn\u001b[0m\u001b[0;34m)\u001b[0m\u001b[0;34m\u001b[0m\u001b[0;34m\u001b[0m\u001b[0m\n\u001b[0m\u001b[1;32m     20\u001b[0m         \u001b[0;32mif\u001b[0m \u001b[0mval\u001b[0m\u001b[0;34m:\u001b[0m\u001b[0;34m\u001b[0m\u001b[0;34m\u001b[0m\u001b[0m\n\u001b[1;32m     21\u001b[0m             \u001b[0;32mreturn\u001b[0m \u001b[0mnum\u001b[0m\u001b[0;34m\u001b[0m\u001b[0;34m\u001b[0m\u001b[0m\n",
      "\u001b[0;32m<ipython-input-152-3c4711646bc9>\u001b[0m in \u001b[0;36mnext_inp\u001b[0;34m(i, s, prog, inp)\u001b[0m\n\u001b[1;32m      6\u001b[0m         \u001b[0;32mreturn\u001b[0m \u001b[0mi\u001b[0m \u001b[0;34m==\u001b[0m \u001b[0mlen\u001b[0m\u001b[0;34m(\u001b[0m\u001b[0mprog\u001b[0m\u001b[0;34m)\u001b[0m \u001b[0;32mand\u001b[0m \u001b[0ms\u001b[0m \u001b[0;34m==\u001b[0m \u001b[0;36m0\u001b[0m\u001b[0;34m,\u001b[0m \u001b[0minp\u001b[0m\u001b[0;34m\u001b[0m\u001b[0;34m\u001b[0m\u001b[0m\n\u001b[1;32m      7\u001b[0m     \u001b[0;32mfor\u001b[0m \u001b[0mn\u001b[0m \u001b[0;32min\u001b[0m \u001b[0;34m\"987654321\"\u001b[0m\u001b[0;34m:\u001b[0m\u001b[0;34m\u001b[0m\u001b[0;34m\u001b[0m\u001b[0m\n\u001b[0;32m----> 8\u001b[0;31m         \u001b[0mval\u001b[0m\u001b[0;34m,\u001b[0m \u001b[0mnum\u001b[0m \u001b[0;34m=\u001b[0m \u001b[0mnext_inp\u001b[0m\u001b[0;34m(\u001b[0m\u001b[0mi\u001b[0m\u001b[0;34m,\u001b[0m\u001b[0ms\u001b[0m\u001b[0;34m,\u001b[0m \u001b[0mprog\u001b[0m\u001b[0;34m,\u001b[0m \u001b[0minp\u001b[0m\u001b[0;34m+\u001b[0m\u001b[0mn\u001b[0m\u001b[0;34m)\u001b[0m\u001b[0;34m\u001b[0m\u001b[0;34m\u001b[0m\u001b[0m\n\u001b[0m\u001b[1;32m      9\u001b[0m         \u001b[0;32mif\u001b[0m \u001b[0mval\u001b[0m\u001b[0;34m:\u001b[0m\u001b[0;34m\u001b[0m\u001b[0;34m\u001b[0m\u001b[0m\n\u001b[1;32m     10\u001b[0m             \u001b[0;32mreturn\u001b[0m \u001b[0mval\u001b[0m\u001b[0;34m,\u001b[0m \u001b[0mnum\u001b[0m\u001b[0;34m\u001b[0m\u001b[0;34m\u001b[0m\u001b[0m\n",
      "\u001b[0;32m<ipython-input-152-3c4711646bc9>\u001b[0m in \u001b[0;36mnext_inp\u001b[0;34m(i, s, prog, inp)\u001b[0m\n\u001b[1;32m      6\u001b[0m         \u001b[0;32mreturn\u001b[0m \u001b[0mi\u001b[0m \u001b[0;34m==\u001b[0m \u001b[0mlen\u001b[0m\u001b[0;34m(\u001b[0m\u001b[0mprog\u001b[0m\u001b[0;34m)\u001b[0m \u001b[0;32mand\u001b[0m \u001b[0ms\u001b[0m \u001b[0;34m==\u001b[0m \u001b[0;36m0\u001b[0m\u001b[0;34m,\u001b[0m \u001b[0minp\u001b[0m\u001b[0;34m\u001b[0m\u001b[0;34m\u001b[0m\u001b[0m\n\u001b[1;32m      7\u001b[0m     \u001b[0;32mfor\u001b[0m \u001b[0mn\u001b[0m \u001b[0;32min\u001b[0m \u001b[0;34m\"987654321\"\u001b[0m\u001b[0;34m:\u001b[0m\u001b[0;34m\u001b[0m\u001b[0;34m\u001b[0m\u001b[0m\n\u001b[0;32m----> 8\u001b[0;31m         \u001b[0mval\u001b[0m\u001b[0;34m,\u001b[0m \u001b[0mnum\u001b[0m \u001b[0;34m=\u001b[0m \u001b[0mnext_inp\u001b[0m\u001b[0;34m(\u001b[0m\u001b[0mi\u001b[0m\u001b[0;34m,\u001b[0m\u001b[0ms\u001b[0m\u001b[0;34m,\u001b[0m \u001b[0mprog\u001b[0m\u001b[0;34m,\u001b[0m \u001b[0minp\u001b[0m\u001b[0;34m+\u001b[0m\u001b[0mn\u001b[0m\u001b[0;34m)\u001b[0m\u001b[0;34m\u001b[0m\u001b[0;34m\u001b[0m\u001b[0m\n\u001b[0m\u001b[1;32m      9\u001b[0m         \u001b[0;32mif\u001b[0m \u001b[0mval\u001b[0m\u001b[0;34m:\u001b[0m\u001b[0;34m\u001b[0m\u001b[0;34m\u001b[0m\u001b[0m\n\u001b[1;32m     10\u001b[0m             \u001b[0;32mreturn\u001b[0m \u001b[0mval\u001b[0m\u001b[0;34m,\u001b[0m \u001b[0mnum\u001b[0m\u001b[0;34m\u001b[0m\u001b[0;34m\u001b[0m\u001b[0m\n",
      "\u001b[0;32m<ipython-input-152-3c4711646bc9>\u001b[0m in \u001b[0;36mnext_inp\u001b[0;34m(i, s, prog, inp)\u001b[0m\n\u001b[1;32m      6\u001b[0m         \u001b[0;32mreturn\u001b[0m \u001b[0mi\u001b[0m \u001b[0;34m==\u001b[0m \u001b[0mlen\u001b[0m\u001b[0;34m(\u001b[0m\u001b[0mprog\u001b[0m\u001b[0;34m)\u001b[0m \u001b[0;32mand\u001b[0m \u001b[0ms\u001b[0m \u001b[0;34m==\u001b[0m \u001b[0;36m0\u001b[0m\u001b[0;34m,\u001b[0m \u001b[0minp\u001b[0m\u001b[0;34m\u001b[0m\u001b[0;34m\u001b[0m\u001b[0m\n\u001b[1;32m      7\u001b[0m     \u001b[0;32mfor\u001b[0m \u001b[0mn\u001b[0m \u001b[0;32min\u001b[0m \u001b[0;34m\"987654321\"\u001b[0m\u001b[0;34m:\u001b[0m\u001b[0;34m\u001b[0m\u001b[0;34m\u001b[0m\u001b[0m\n\u001b[0;32m----> 8\u001b[0;31m         \u001b[0mval\u001b[0m\u001b[0;34m,\u001b[0m \u001b[0mnum\u001b[0m \u001b[0;34m=\u001b[0m \u001b[0mnext_inp\u001b[0m\u001b[0;34m(\u001b[0m\u001b[0mi\u001b[0m\u001b[0;34m,\u001b[0m\u001b[0ms\u001b[0m\u001b[0;34m,\u001b[0m \u001b[0mprog\u001b[0m\u001b[0;34m,\u001b[0m \u001b[0minp\u001b[0m\u001b[0;34m+\u001b[0m\u001b[0mn\u001b[0m\u001b[0;34m)\u001b[0m\u001b[0;34m\u001b[0m\u001b[0;34m\u001b[0m\u001b[0m\n\u001b[0m\u001b[1;32m      9\u001b[0m         \u001b[0;32mif\u001b[0m \u001b[0mval\u001b[0m\u001b[0;34m:\u001b[0m\u001b[0;34m\u001b[0m\u001b[0;34m\u001b[0m\u001b[0m\n\u001b[1;32m     10\u001b[0m             \u001b[0;32mreturn\u001b[0m \u001b[0mval\u001b[0m\u001b[0;34m,\u001b[0m \u001b[0mnum\u001b[0m\u001b[0;34m\u001b[0m\u001b[0;34m\u001b[0m\u001b[0m\n",
      "\u001b[0;32m<ipython-input-152-3c4711646bc9>\u001b[0m in \u001b[0;36mnext_inp\u001b[0;34m(i, s, prog, inp)\u001b[0m\n\u001b[1;32m      6\u001b[0m         \u001b[0;32mreturn\u001b[0m \u001b[0mi\u001b[0m \u001b[0;34m==\u001b[0m \u001b[0mlen\u001b[0m\u001b[0;34m(\u001b[0m\u001b[0mprog\u001b[0m\u001b[0;34m)\u001b[0m \u001b[0;32mand\u001b[0m \u001b[0ms\u001b[0m \u001b[0;34m==\u001b[0m \u001b[0;36m0\u001b[0m\u001b[0;34m,\u001b[0m \u001b[0minp\u001b[0m\u001b[0;34m\u001b[0m\u001b[0;34m\u001b[0m\u001b[0m\n\u001b[1;32m      7\u001b[0m     \u001b[0;32mfor\u001b[0m \u001b[0mn\u001b[0m \u001b[0;32min\u001b[0m \u001b[0;34m\"987654321\"\u001b[0m\u001b[0;34m:\u001b[0m\u001b[0;34m\u001b[0m\u001b[0;34m\u001b[0m\u001b[0m\n\u001b[0;32m----> 8\u001b[0;31m         \u001b[0mval\u001b[0m\u001b[0;34m,\u001b[0m \u001b[0mnum\u001b[0m \u001b[0;34m=\u001b[0m \u001b[0mnext_inp\u001b[0m\u001b[0;34m(\u001b[0m\u001b[0mi\u001b[0m\u001b[0;34m,\u001b[0m\u001b[0ms\u001b[0m\u001b[0;34m,\u001b[0m \u001b[0mprog\u001b[0m\u001b[0;34m,\u001b[0m \u001b[0minp\u001b[0m\u001b[0;34m+\u001b[0m\u001b[0mn\u001b[0m\u001b[0;34m)\u001b[0m\u001b[0;34m\u001b[0m\u001b[0;34m\u001b[0m\u001b[0m\n\u001b[0m\u001b[1;32m      9\u001b[0m         \u001b[0;32mif\u001b[0m \u001b[0mval\u001b[0m\u001b[0;34m:\u001b[0m\u001b[0;34m\u001b[0m\u001b[0;34m\u001b[0m\u001b[0m\n\u001b[1;32m     10\u001b[0m             \u001b[0;32mreturn\u001b[0m \u001b[0mval\u001b[0m\u001b[0;34m,\u001b[0m \u001b[0mnum\u001b[0m\u001b[0;34m\u001b[0m\u001b[0;34m\u001b[0m\u001b[0m\n",
      "\u001b[0;32m<ipython-input-152-3c4711646bc9>\u001b[0m in \u001b[0;36mnext_inp\u001b[0;34m(i, s, prog, inp)\u001b[0m\n\u001b[1;32m      6\u001b[0m         \u001b[0;32mreturn\u001b[0m \u001b[0mi\u001b[0m \u001b[0;34m==\u001b[0m \u001b[0mlen\u001b[0m\u001b[0;34m(\u001b[0m\u001b[0mprog\u001b[0m\u001b[0;34m)\u001b[0m \u001b[0;32mand\u001b[0m \u001b[0ms\u001b[0m \u001b[0;34m==\u001b[0m \u001b[0;36m0\u001b[0m\u001b[0;34m,\u001b[0m \u001b[0minp\u001b[0m\u001b[0;34m\u001b[0m\u001b[0;34m\u001b[0m\u001b[0m\n\u001b[1;32m      7\u001b[0m     \u001b[0;32mfor\u001b[0m \u001b[0mn\u001b[0m \u001b[0;32min\u001b[0m \u001b[0;34m\"987654321\"\u001b[0m\u001b[0;34m:\u001b[0m\u001b[0;34m\u001b[0m\u001b[0;34m\u001b[0m\u001b[0m\n\u001b[0;32m----> 8\u001b[0;31m         \u001b[0mval\u001b[0m\u001b[0;34m,\u001b[0m \u001b[0mnum\u001b[0m \u001b[0;34m=\u001b[0m \u001b[0mnext_inp\u001b[0m\u001b[0;34m(\u001b[0m\u001b[0mi\u001b[0m\u001b[0;34m,\u001b[0m\u001b[0ms\u001b[0m\u001b[0;34m,\u001b[0m \u001b[0mprog\u001b[0m\u001b[0;34m,\u001b[0m \u001b[0minp\u001b[0m\u001b[0;34m+\u001b[0m\u001b[0mn\u001b[0m\u001b[0;34m)\u001b[0m\u001b[0;34m\u001b[0m\u001b[0;34m\u001b[0m\u001b[0m\n\u001b[0m\u001b[1;32m      9\u001b[0m         \u001b[0;32mif\u001b[0m \u001b[0mval\u001b[0m\u001b[0;34m:\u001b[0m\u001b[0;34m\u001b[0m\u001b[0;34m\u001b[0m\u001b[0m\n\u001b[1;32m     10\u001b[0m             \u001b[0;32mreturn\u001b[0m \u001b[0mval\u001b[0m\u001b[0;34m,\u001b[0m \u001b[0mnum\u001b[0m\u001b[0;34m\u001b[0m\u001b[0;34m\u001b[0m\u001b[0m\n",
      "\u001b[0;32m<ipython-input-152-3c4711646bc9>\u001b[0m in \u001b[0;36mnext_inp\u001b[0;34m(i, s, prog, inp)\u001b[0m\n\u001b[1;32m      6\u001b[0m         \u001b[0;32mreturn\u001b[0m \u001b[0mi\u001b[0m \u001b[0;34m==\u001b[0m \u001b[0mlen\u001b[0m\u001b[0;34m(\u001b[0m\u001b[0mprog\u001b[0m\u001b[0;34m)\u001b[0m \u001b[0;32mand\u001b[0m \u001b[0ms\u001b[0m \u001b[0;34m==\u001b[0m \u001b[0;36m0\u001b[0m\u001b[0;34m,\u001b[0m \u001b[0minp\u001b[0m\u001b[0;34m\u001b[0m\u001b[0;34m\u001b[0m\u001b[0m\n\u001b[1;32m      7\u001b[0m     \u001b[0;32mfor\u001b[0m \u001b[0mn\u001b[0m \u001b[0;32min\u001b[0m \u001b[0;34m\"987654321\"\u001b[0m\u001b[0;34m:\u001b[0m\u001b[0;34m\u001b[0m\u001b[0;34m\u001b[0m\u001b[0m\n\u001b[0;32m----> 8\u001b[0;31m         \u001b[0mval\u001b[0m\u001b[0;34m,\u001b[0m \u001b[0mnum\u001b[0m \u001b[0;34m=\u001b[0m \u001b[0mnext_inp\u001b[0m\u001b[0;34m(\u001b[0m\u001b[0mi\u001b[0m\u001b[0;34m,\u001b[0m\u001b[0ms\u001b[0m\u001b[0;34m,\u001b[0m \u001b[0mprog\u001b[0m\u001b[0;34m,\u001b[0m \u001b[0minp\u001b[0m\u001b[0;34m+\u001b[0m\u001b[0mn\u001b[0m\u001b[0;34m)\u001b[0m\u001b[0;34m\u001b[0m\u001b[0;34m\u001b[0m\u001b[0m\n\u001b[0m\u001b[1;32m      9\u001b[0m         \u001b[0;32mif\u001b[0m \u001b[0mval\u001b[0m\u001b[0;34m:\u001b[0m\u001b[0;34m\u001b[0m\u001b[0;34m\u001b[0m\u001b[0m\n\u001b[1;32m     10\u001b[0m             \u001b[0;32mreturn\u001b[0m \u001b[0mval\u001b[0m\u001b[0;34m,\u001b[0m \u001b[0mnum\u001b[0m\u001b[0;34m\u001b[0m\u001b[0;34m\u001b[0m\u001b[0m\n",
      "\u001b[0;32m<ipython-input-152-3c4711646bc9>\u001b[0m in \u001b[0;36mnext_inp\u001b[0;34m(i, s, prog, inp)\u001b[0m\n\u001b[1;32m      1\u001b[0m \u001b[0;32mdef\u001b[0m \u001b[0mnext_inp\u001b[0m\u001b[0;34m(\u001b[0m\u001b[0mi\u001b[0m\u001b[0;34m,\u001b[0m\u001b[0ms\u001b[0m\u001b[0;34m,\u001b[0m \u001b[0mprog\u001b[0m\u001b[0;34m,\u001b[0m \u001b[0minp\u001b[0m\u001b[0;34m)\u001b[0m\u001b[0;34m:\u001b[0m\u001b[0;34m\u001b[0m\u001b[0;34m\u001b[0m\u001b[0m\n\u001b[0;32m----> 2\u001b[0;31m     \u001b[0mi\u001b[0m\u001b[0;34m,\u001b[0m \u001b[0ms\u001b[0m \u001b[0;34m=\u001b[0m \u001b[0mrun\u001b[0m\u001b[0;34m(\u001b[0m\u001b[0mi\u001b[0m\u001b[0;34m,\u001b[0m\u001b[0ms\u001b[0m\u001b[0;34m,\u001b[0m \u001b[0mprog\u001b[0m\u001b[0;34m,\u001b[0m \u001b[0minp\u001b[0m\u001b[0;34m[\u001b[0m\u001b[0;34m-\u001b[0m\u001b[0;36m1\u001b[0m\u001b[0;34m]\u001b[0m\u001b[0;34m)\u001b[0m\u001b[0;34m\u001b[0m\u001b[0;34m\u001b[0m\u001b[0m\n\u001b[0m\u001b[1;32m      3\u001b[0m     \u001b[0;32mif\u001b[0m \u001b[0ms\u001b[0m \u001b[0;34m>\u001b[0m \u001b[0;36m1e6\u001b[0m\u001b[0;34m:\u001b[0m\u001b[0;34m\u001b[0m\u001b[0;34m\u001b[0m\u001b[0m\n\u001b[1;32m      4\u001b[0m         \u001b[0;32mreturn\u001b[0m \u001b[0;32mFalse\u001b[0m\u001b[0;34m,\u001b[0m \u001b[0;34m-\u001b[0m\u001b[0;36m1\u001b[0m\u001b[0;34m\u001b[0m\u001b[0;34m\u001b[0m\u001b[0m\n\u001b[1;32m      5\u001b[0m     \u001b[0;32mif\u001b[0m \u001b[0mlen\u001b[0m\u001b[0;34m(\u001b[0m\u001b[0minp\u001b[0m\u001b[0;34m)\u001b[0m \u001b[0;34m==\u001b[0m \u001b[0;36m14\u001b[0m\u001b[0;34m:\u001b[0m\u001b[0;34m\u001b[0m\u001b[0;34m\u001b[0m\u001b[0m\n",
      "\u001b[0;31mKeyboardInterrupt\u001b[0m: "
     ]
    }
   ],
   "source": [
    "def next_inp(i,s, prog, inp):\n",
    "    i, s = run(i,s, prog, inp[-1])\n",
    "    if s > 1e6:\n",
    "        return False, -1\n",
    "    if len(inp) == 14:\n",
    "        return i == len(prog) and s == 0, inp\n",
    "    for n in \"987654321\":\n",
    "        val, num = next_inp(i,s, prog, inp+n)\n",
    "        if val:\n",
    "            return val, num\n",
    "    return False, -1\n",
    "\n",
    "\n",
    "\n",
    "def part1(raw):\n",
    "    prog = parse(raw)\n",
    "    i = 0\n",
    "    for n in \"987654321\":\n",
    "        val, num = next_inp(0, 0, prog, n)\n",
    "        if val:\n",
    "            return num\n",
    "\n",
    "\n",
    "part1(pzl)\n"
   ]
  },
  {
   "cell_type": "code",
   "execution_count": 183,
   "metadata": {},
   "outputs": [
    {
     "data": {
      "image/png": "[encoded data removed]",
      "text/plain": [
       "<Figure size 432x288 with 1 Axes>"
      ]
     },
     "metadata": {
      "needs_background": "light"
     },
     "output_type": "display_data"
    }
   ],
   "source": [
    "prog = parse(pzl)\n",
    "from itertools import product\n",
    "res = {}\n",
    "# for n in product(\"987654321\", repeat=6):\n",
    "#     _, s = run(0, empty(), prog, n)\n",
    "#     res[int(\"\".join(n))] = s[3]\n",
    "\n",
    "for n in range(10000):\n",
    "    _, s = run(3*18, n, prog, \"7\")\n",
    "    res[n] = s\n",
    "import matplotlib.pylab as plt\n",
    "\n",
    "lists = sorted(res.items()) # sorted by key, return a list of tuples\n",
    "\n",
    "x, y = zip(*lists) # unpack a list of pairs into two tuples\n",
    "\n",
    "plt.plot(x, y)\n",
    "plt.show()\n"
   ]
  },
  {
   "cell_type": "code",
   "execution_count": 173,
   "metadata": {},
   "outputs": [
    {
     "data": {
      "text/plain": [
       "[0, 18, 36, 54, 72, 90, 108, 126, 144, 162, 180, 198, 216, 234]"
      ]
     },
     "execution_count": 173,
     "metadata": {},
     "output_type": "execute_result"
    }
   ],
   "source": [
    "[i for i,v in enumerate(prog) if v[0] == \"inp\"]"
   ]
  },
  {
   "cell_type": "code",
   "execution_count": null,
   "metadata": {},
   "outputs": [],
   "source": []
  }
 ],
 "metadata": {
  "interpreter": {
   "hash": "7d6993cb2f9ce9a59d5d7380609d9cb5192a9dedd2735a011418ad9e827eb538"
  },
  "kernelspec": {
   "display_name": "Python 3.9.9 64-bit",
   "language": "python",
   "name": "python3"
  },
  "language_info": {
   "codemirror_mode": {
    "name": "ipython",
    "version": 3
   },
   "file_extension": ".py",
   "mimetype": "text/x-python",
   "name": "python",
   "nbconvert_exporter": "python",
   "pygments_lexer": "ipython3",
   "version": "3.9.9"
  },
  "orig_nbformat": 4
 },
 "nbformat": 4,
 "nbformat_minor": 2
}
