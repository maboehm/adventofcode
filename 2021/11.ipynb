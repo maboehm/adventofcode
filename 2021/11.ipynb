{
 "cells": [
  {
   "cell_type": "code",
   "execution_count": 56,
   "metadata": {},
   "outputs": [],
   "source": [
    "ex = \"\"\"11111\n",
    "19991\n",
    "19191\n",
    "19991\n",
    "11111\"\"\".splitlines()\n",
    "\n",
    "from itertools import product\n",
    "from collections import namedtuple\n",
    "class P(namedtuple('P', ['x', 'y'])):\n",
    "    def __add__(self, other):\n",
    "        return P(self.x+other.x, self.y+other.y)\n",
    "\n",
    "def parse(inp):\n",
    "    res = {}\n",
    "    for i,j in product(range(len(inp)), range(len(inp[0].strip()))):\n",
    "        res[P(i,j)] = int(inp[i][j])\n",
    "    return res\n",
    "\n",
    "def size(grid):\n",
    "    return max([k[0] for k in grid]) + 1"
   ]
  },
  {
   "cell_type": "code",
   "execution_count": 51,
   "metadata": {},
   "outputs": [],
   "source": [
    "def show(grid):\n",
    "    res = [\"-\"]\n",
    "    s = size(grid)\n",
    "    for i in range(s):\n",
    "        res.append(\"\")\n",
    "        for j in range(s):\n",
    "            res[-1] += str(grid[(i,j)])\n",
    "    print(\"\\n\".join(res))"
   ]
  },
  {
   "cell_type": "code",
   "execution_count": 41,
   "metadata": {},
   "outputs": [],
   "source": [
    "dirs = [-1,0,1]\n",
    "dirs = [P(d[0], d[1]) for d in  product(dirs, dirs)]\n",
    "dirs.remove(P(0,0))\n",
    "def neighbors(p):\n",
    "    return [p+d for d in dirs]"
   ]
  },
  {
   "cell_type": "code",
   "execution_count": 48,
   "metadata": {},
   "outputs": [
    {
     "name": "stdout",
     "output_type": "stream",
     "text": [
      "-\n",
      "34543\n",
      "40004\n",
      "50005\n",
      "40004\n",
      "34543\n"
     ]
    }
   ],
   "source": [
    "from collections import deque\n",
    "def step(grid):\n",
    "    flashed = deque()\n",
    "    for p in grid:\n",
    "        grid[p] += 1\n",
    "        if grid[p] > 9:\n",
    "            flashed.append(p)\n",
    "            grid[p] = 'X'\n",
    "    # todo: flash neighbors\n",
    "    while len(flashed) > 0:\n",
    "        p = flashed.popleft()\n",
    "        ns = neighbors(p)\n",
    "        for n in ns:\n",
    "            if n not in grid or grid[n] == 'X':\n",
    "                continue\n",
    "            grid[n] += 1\n",
    "            if grid[n] > 9:\n",
    "                flashed.append(n)\n",
    "                grid[n] = 'X'\n",
    "    flashes = 0\n",
    "    for p in grid:\n",
    "        if grid[p] == 'X':\n",
    "            grid[p] = 0\n",
    "            flashes += 1\n",
    "    return grid, flashes\n",
    "    \n",
    "\n",
    "g, _ = step(parse(ex))\n",
    "show(g)"
   ]
  },
  {
   "cell_type": "code",
   "execution_count": 49,
   "metadata": {},
   "outputs": [
    {
     "name": "stdout",
     "output_type": "stream",
     "text": [
      "-\n",
      "0397666866\n",
      "0749766918\n",
      "0053976933\n",
      "0004297822\n",
      "0004229892\n",
      "0053222877\n",
      "0532222966\n",
      "9322228966\n",
      "7922286866\n",
      "6789998766\n"
     ]
    },
    {
     "data": {
      "text/plain": [
       "1656"
      ]
     },
     "execution_count": 49,
     "metadata": {},
     "output_type": "execute_result"
    }
   ],
   "source": [
    "ex_large = \"\"\"5483143223\n",
    "2745854711\n",
    "5264556173\n",
    "6141336146\n",
    "6357385478\n",
    "4167524645\n",
    "2176841721\n",
    "6882881134\n",
    "4846848554\n",
    "5283751526\"\"\".splitlines()\n",
    "grid = parse(ex_large)\n",
    "flashes = 0\n",
    "for _ in range(100):\n",
    "    grid,f = step(grid)\n",
    "    flashes += f\n",
    "show(grid)\n",
    "flashes"
   ]
  },
  {
   "cell_type": "code",
   "execution_count": 50,
   "metadata": {},
   "outputs": [],
   "source": [
    "def part1(grid):\n",
    "    flashes = 0\n",
    "    for _ in range(100):\n",
    "        grid,f = step(grid)\n",
    "        flashes += f\n",
    "    # show(grid)\n",
    "    return flashes"
   ]
  },
  {
   "cell_type": "code",
   "execution_count": 57,
   "metadata": {},
   "outputs": [
    {
     "data": {
      "text/plain": [
       "1546"
      ]
     },
     "execution_count": 57,
     "metadata": {},
     "output_type": "execute_result"
    }
   ],
   "source": [
    "pzl = open(\"data/11.txt\").readlines()\n",
    "part1(parse(pzl))"
   ]
  },
  {
   "cell_type": "code",
   "execution_count": 61,
   "metadata": {},
   "outputs": [
    {
     "data": {
      "text/plain": [
       "195"
      ]
     },
     "execution_count": 61,
     "metadata": {},
     "output_type": "execute_result"
    }
   ],
   "source": [
    "def part2(grid):\n",
    "    c = size(grid)**2\n",
    "    s = 0\n",
    "    while True:\n",
    "        s += 1\n",
    "        grid,f = step(grid)\n",
    "        if f == c:\n",
    "            return s\n",
    "    # show(grid)\n",
    "    return -1\n",
    "part2(parse(ex_large))"
   ]
  },
  {
   "cell_type": "code",
   "execution_count": 62,
   "metadata": {},
   "outputs": [
    {
     "data": {
      "text/plain": [
       "471"
      ]
     },
     "execution_count": 62,
     "metadata": {},
     "output_type": "execute_result"
    }
   ],
   "source": [
    "part2(parse(pzl))"
   ]
  },
  {
   "cell_type": "code",
   "execution_count": null,
   "metadata": {},
   "outputs": [],
   "source": []
  }
 ],
 "metadata": {
  "interpreter": {
   "hash": "7d6993cb2f9ce9a59d5d7380609d9cb5192a9dedd2735a011418ad9e827eb538"
  },
  "kernelspec": {
   "display_name": "Python 3.9.6 64-bit",
   "language": "python",
   "name": "python3"
  },
  "language_info": {
   "codemirror_mode": {
    "name": "ipython",
    "version": 3
   },
   "file_extension": ".py",
   "mimetype": "text/x-python",
   "name": "python",
   "nbconvert_exporter": "python",
   "pygments_lexer": "ipython3",
   "version": "3.9.6"
  },
  "orig_nbformat": 4
 },
 "nbformat": 4,
 "nbformat_minor": 2
}
