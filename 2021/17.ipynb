{
 "cells": [
  {
   "cell_type": "code",
   "execution_count": 38,
   "metadata": {},
   "outputs": [],
   "source": [
    "import re\n",
    "from collections import namedtuple\n",
    "\n",
    "ex = \"target area: x=20..30, y=-10..-5\"\n",
    "Target = namedtuple('Target', [\"x_start\", \"x_end\", \"y_start\", \"y_end\"])\n",
    "class P(namedtuple('P', ['x', 'y'])):\n",
    "    def __add__(self, other):\n",
    "        return P(self.x+other.x, self.y+other.y)\n"
   ]
  },
  {
   "cell_type": "code",
   "execution_count": 39,
   "metadata": {},
   "outputs": [],
   "source": [
    "\n",
    "def can_still_hit(p: P, target: Target):\n",
    "    if p.x > target.x_end:\n",
    "        return False\n",
    "    if p.y < target.y_start:\n",
    "        return False\n",
    "    return True"
   ]
  },
  {
   "cell_type": "code",
   "execution_count": 40,
   "metadata": {},
   "outputs": [],
   "source": [
    "def update_vel(p: P):\n",
    "    dx = 0\n",
    "    if p.x > 0:\n",
    "        dx = -1\n",
    "    if p.x < 0:\n",
    "        dx = 1\n",
    "    return P(p.x + dx, p.y -1)"
   ]
  },
  {
   "cell_type": "code",
   "execution_count": 41,
   "metadata": {},
   "outputs": [],
   "source": [
    "def parse(inp):\n",
    "    target = Target(*map(int, re.findall(r'-?\\d+', inp)))\n",
    "    g = set()\n",
    "    for x in range(target.x_start, target.x_end+1):\n",
    "        for y in range(target.y_start, target.y_end+1):\n",
    "            g.add(P(x,y))\n",
    "    return target, g"
   ]
  },
  {
   "cell_type": "code",
   "execution_count": 42,
   "metadata": {},
   "outputs": [],
   "source": [
    "def shoot(g, v, target):\n",
    "    p = P(0,0)\n",
    "    while True:\n",
    "        p += v\n",
    "        if not can_still_hit(p, target):\n",
    "            return False\n",
    "        if p in g:\n",
    "            return True\n",
    "        v = update_vel(v)"
   ]
  },
  {
   "cell_type": "code",
   "execution_count": 46,
   "metadata": {},
   "outputs": [],
   "source": [
    "pzl = open(\"data/17.txt\").read().strip()\n"
   ]
  },
  {
   "cell_type": "code",
   "execution_count": 50,
   "metadata": {},
   "outputs": [
    {
     "data": {
      "text/plain": [
       "45"
      ]
     },
     "execution_count": 50,
     "metadata": {},
     "output_type": "execute_result"
    }
   ],
   "source": [
    "def part1(target: Target):\n",
    "    n = -1 * target.y_start -1\n",
    "    return (n**2+n)//2\n",
    "t, g = parse(ex)\n",
    "part1(t)"
   ]
  },
  {
   "cell_type": "code",
   "execution_count": 51,
   "metadata": {},
   "outputs": [
    {
     "data": {
      "text/plain": [
       "35511"
      ]
     },
     "execution_count": 51,
     "metadata": {},
     "output_type": "execute_result"
    }
   ],
   "source": [
    "t, g = parse(pzl)\n",
    "part1(t)"
   ]
  },
  {
   "cell_type": "code",
   "execution_count": 56,
   "metadata": {},
   "outputs": [
    {
     "data": {
      "text/plain": [
       "112"
      ]
     },
     "execution_count": 56,
     "metadata": {},
     "output_type": "execute_result"
    }
   ],
   "source": [
    "import math\n",
    "def part2(t:Target,g):\n",
    "    pos = 0\n",
    "    min_x = math.floor(-0.5 + (0.25 + 2*t.x_start) ** 0.5)\n",
    "    \n",
    "    for x in range(min_x, t.x_end + 1):\n",
    "        for y in range(t.y_start, -t.y_start):\n",
    "            v = P(x,y)\n",
    "            if shoot(g, v, t):\n",
    "                pos += 1\n",
    "    return pos\n",
    "\n",
    "part2(*parse(ex))"
   ]
  },
  {
   "cell_type": "code",
   "execution_count": 57,
   "metadata": {},
   "outputs": [
    {
     "data": {
      "text/plain": [
       "3282"
      ]
     },
     "execution_count": 57,
     "metadata": {},
     "output_type": "execute_result"
    }
   ],
   "source": [
    "part2(*parse(pzl))"
   ]
  },
  {
   "cell_type": "code",
   "execution_count": null,
   "metadata": {},
   "outputs": [],
   "source": []
  }
 ],
 "metadata": {
  "interpreter": {
   "hash": "7d6993cb2f9ce9a59d5d7380609d9cb5192a9dedd2735a011418ad9e827eb538"
  },
  "kernelspec": {
   "display_name": "Python 3.9.9 64-bit",
   "language": "python",
   "name": "python3"
  },
  "language_info": {
   "codemirror_mode": {
    "name": "ipython",
    "version": 3
   },
   "file_extension": ".py",
   "mimetype": "text/x-python",
   "name": "python",
   "nbconvert_exporter": "python",
   "pygments_lexer": "ipython3",
   "version": "3.9.9"
  },
  "orig_nbformat": 4
 },
 "nbformat": 4,
 "nbformat_minor": 2
}
