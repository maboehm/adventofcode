{
 "cells": [
  {
   "cell_type": "code",
   "execution_count": 2,
   "metadata": {},
   "outputs": [
    {
     "name": "stdout",
     "output_type": "stream",
     "text": [
      "#############\n",
      "#...........#\n",
      "###B#C#B#D###\n",
      "  #A#D#C#A#\n",
      "  #########\n"
     ]
    }
   ],
   "source": [
    "ex = \"\"\"#############\n",
    "#...........#\n",
    "###B#C#B#D###\n",
    "  #A#D#C#A#\n",
    "  #########\"\"\"\n",
    "\n",
    "print(ex)"
   ]
  },
  {
   "cell_type": "code",
   "execution_count": 6,
   "metadata": {},
   "outputs": [],
   "source": [
    "from collections import deque\n",
    "hl = deque()\n",
    "hr = deque()\n",
    "r1 = deque(\"AB\")\n",
    "r2 = deque(\"DC\")\n",
    "r3 = deque(\"CB\")\n",
    "r4 = deque(\"AD\")\n",
    "\n"
   ]
  },
  {
   "cell_type": "code",
   "execution_count": null,
   "metadata": {},
   "outputs": [],
   "source": [
    "class Room():\n",
    "    def __init__(self, pods, home) -> None:\n",
    "        self.q = list(pods)\n",
    "        self.home = home\n",
    "        self.n = []\n",
    "    def add_n(self, other):\n",
    "        self.n.append(other)\n",
    "    def can_go_in(self, pod):\n",
    "        return (\n",
    "            self.home == pod and \n",
    "            not self.q[1] is None and\n",
    "            (self.q[0] is None or self.q[0] == pod)\n",
    "        )"
   ]
  },
  {
   "cell_type": "markdown",
   "metadata": {},
   "source": [
    "#############\n",
    "#...........#\n",
    "###D#D#C#C###\n",
    "  #D#C#B#A#\n",
    "  #D#B#A#C#\n",
    "  #B#A#B#A#\n",
    "  #########"
   ]
  }
 ],
 "metadata": {
  "interpreter": {
   "hash": "7d6993cb2f9ce9a59d5d7380609d9cb5192a9dedd2735a011418ad9e827eb538"
  },
  "kernelspec": {
   "display_name": "Python 3.9.9 64-bit",
   "language": "python",
   "name": "python3"
  },
  "language_info": {
   "codemirror_mode": {
    "name": "ipython",
    "version": 3
   },
   "file_extension": ".py",
   "mimetype": "text/x-python",
   "name": "python",
   "nbconvert_exporter": "python",
   "pygments_lexer": "ipython3",
   "version": "3.9.9"
  },
  "orig_nbformat": 4
 },
 "nbformat": 4,
 "nbformat_minor": 2
}
