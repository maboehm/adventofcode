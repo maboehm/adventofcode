{
 "cells": [
  {
   "cell_type": "code",
   "execution_count": 27,
   "metadata": {},
   "outputs": [],
   "source": [
    "from collections import Counter\n",
    "opening = {\n",
    "    '[': ']',\n",
    "    '(': ')',\n",
    "    '{': '}',\n",
    "    '<': '>'\n",
    "}\n",
    "closing = {v:k for k,v in opening.items()}\n",
    "\n",
    "def is_valid(chunk):\n",
    "    stack = \"\"\n",
    "    for i,c in enumerate(chunk):\n",
    "        if c in opening:\n",
    "            stack += c\n",
    "            continue\n",
    "        if closing[c] == stack[-1]:\n",
    "            stack = stack[:-1]\n",
    "        else:\n",
    "            # print(stack, i, c)\n",
    "            return \"invalid\", c\n",
    "    if len(stack) == 0:\n",
    "        return \"valid\", \"\"\n",
    "    return \"incomplete\", stack"
   ]
  },
  {
   "cell_type": "code",
   "execution_count": 28,
   "metadata": {},
   "outputs": [],
   "source": [
    "valid = [\n",
    "    \"([])\",\n",
    "    \"{()()()}\",\n",
    "    \"<([{}])>\",\n",
    "    \"(((((((((())))))))))\",\n",
    "    \"[<>({}){}[([])<>]]\"\n",
    "]"
   ]
  },
  {
   "cell_type": "code",
   "execution_count": 29,
   "metadata": {},
   "outputs": [
    {
     "name": "stdout",
     "output_type": "stream",
     "text": [
      "('valid', '')\n",
      "('valid', '')\n",
      "('valid', '')\n",
      "('valid', '')\n",
      "('valid', '')\n"
     ]
    },
    {
     "data": {
      "text/plain": [
       "('invalid', '}')"
      ]
     },
     "execution_count": 29,
     "metadata": {},
     "output_type": "execute_result"
    }
   ],
   "source": [
    "for l in valid:\n",
    "    print(is_valid(l))\n",
    "\n",
    "is_valid(\"{([(<{}[<>[]}>{[]{[(<()>\")"
   ]
  },
  {
   "cell_type": "code",
   "execution_count": 30,
   "metadata": {},
   "outputs": [
    {
     "name": "stdout",
     "output_type": "stream",
     "text": [
      "('invalid', '}')\n"
     ]
    }
   ],
   "source": [
    "incomplete = [\n",
    "    \"{([(<{}[<>[]}>{[]{[(<()>\"\n",
    "]\n",
    "for l in incomplete:\n",
    "    print(is_valid(l))"
   ]
  },
  {
   "cell_type": "code",
   "execution_count": 31,
   "metadata": {},
   "outputs": [],
   "source": [
    "ex = \"\"\"[({(<(())[]>[[{[]{<()<>>\n",
    "[(()[<>])]({[<{<<[]>>(\n",
    "{([(<{}[<>[]}>{[]{[(<()>\n",
    "(((({<>}<{<{<>}{[]{[]{}\n",
    "[[<[([]))<([[{}[[()]]]\n",
    "[{[{({}]{}}([{[{{{}}([]\n",
    "{<[[]]>}<{[{[{[]{()[[[]\n",
    "[<(<(<(<{}))><([]([]()\n",
    "<{([([[(<>()){}]>(<<{{\n",
    "<{([{{}}[<[[[<>{}]]]>[]]\"\"\".splitlines()\n",
    "\n"
   ]
  },
  {
   "cell_type": "code",
   "execution_count": 32,
   "metadata": {},
   "outputs": [
    {
     "data": {
      "text/plain": [
       "26397"
      ]
     },
     "execution_count": 32,
     "metadata": {},
     "output_type": "execute_result"
    }
   ],
   "source": [
    "scores = {\n",
    "    \")\": 3,\n",
    "    \"]\": 57,\n",
    "    \"}\":1197,\n",
    "    \">\": 25137\n",
    "}\n",
    "def part1(inp):\n",
    "    score = 0\n",
    "    for l in inp:\n",
    "        r, c = is_valid(l)\n",
    "        if r in [\"valid\", \"incomplete\"]:\n",
    "            continue\n",
    "        score += scores[c]\n",
    "    return score\n",
    "\n",
    "part1(ex)\n",
    "        "
   ]
  },
  {
   "cell_type": "code",
   "execution_count": 33,
   "metadata": {},
   "outputs": [
    {
     "data": {
      "text/plain": [
       "311949"
      ]
     },
     "execution_count": 33,
     "metadata": {},
     "output_type": "execute_result"
    }
   ],
   "source": [
    "pzl = list(map(str.strip, open(\"data/10.txt\").readlines()))\n",
    "part1(pzl)"
   ]
  },
  {
   "cell_type": "code",
   "execution_count": 54,
   "metadata": {},
   "outputs": [],
   "source": [
    "scores_2 = {\n",
    "    '(':1,\n",
    "    '[':2,\n",
    "    '{':3,\n",
    "    '<': 4\n",
    "}\n",
    "\n",
    "def points(stack):\n",
    "    s = 0\n",
    "    for c in stack[::-1]:\n",
    "        # print(s)\n",
    "        s *= 5\n",
    "        s += scores_2[c]\n",
    "    return s\n",
    "def part2(inp):\n",
    "    scores = []\n",
    "    for l in inp:\n",
    "        r, stack = is_valid(l)\n",
    "        if r != \"incomplete\":\n",
    "            continue\n",
    "        # print(stack)\n",
    "        scores.append(points(stack))\n",
    "    # return scores\n",
    "    return sorted(scores)[len(scores)//2]"
   ]
  },
  {
   "cell_type": "code",
   "execution_count": 55,
   "metadata": {},
   "outputs": [
    {
     "data": {
      "text/plain": [
       "288957"
      ]
     },
     "execution_count": 55,
     "metadata": {},
     "output_type": "execute_result"
    }
   ],
   "source": [
    "part2(ex)"
   ]
  },
  {
   "cell_type": "code",
   "execution_count": 56,
   "metadata": {},
   "outputs": [
    {
     "data": {
      "text/plain": [
       "3042730309"
      ]
     },
     "execution_count": 56,
     "metadata": {},
     "output_type": "execute_result"
    }
   ],
   "source": [
    "part2(pzl)"
   ]
  },
  {
   "cell_type": "code",
   "execution_count": null,
   "metadata": {},
   "outputs": [],
   "source": []
  }
 ],
 "metadata": {
  "interpreter": {
   "hash": "7d6993cb2f9ce9a59d5d7380609d9cb5192a9dedd2735a011418ad9e827eb538"
  },
  "kernelspec": {
   "display_name": "Python 3.9.6 64-bit",
   "language": "python",
   "name": "python3"
  },
  "language_info": {
   "codemirror_mode": {
    "name": "ipython",
    "version": 3
   },
   "file_extension": ".py",
   "mimetype": "text/x-python",
   "name": "python",
   "nbconvert_exporter": "python",
   "pygments_lexer": "ipython3",
   "version": "3.9.6"
  },
  "orig_nbformat": 4
 },
 "nbformat": 4,
 "nbformat_minor": 2
}
