{
 "cells": [
  {
   "cell_type": "code",
   "execution_count": 32,
   "metadata": {},
   "outputs": [
    {
     "data": {
      "text/plain": [
       "('NNCB',\n",
       " {'CH': 'B',\n",
       "  'HH': 'N',\n",
       "  'CB': 'H',\n",
       "  'NH': 'C',\n",
       "  'HB': 'C',\n",
       "  'HC': 'B',\n",
       "  'HN': 'C',\n",
       "  'NN': 'C',\n",
       "  'BH': 'H',\n",
       "  'NC': 'B',\n",
       "  'NB': 'B',\n",
       "  'BN': 'B',\n",
       "  'BB': 'N',\n",
       "  'BC': 'B',\n",
       "  'CC': 'N',\n",
       "  'CN': 'C'})"
      ]
     },
     "execution_count": 32,
     "metadata": {},
     "output_type": "execute_result"
    }
   ],
   "source": [
    "ex = \"\"\"NNCB\n",
    "\n",
    "CH -> B\n",
    "HH -> N\n",
    "CB -> H\n",
    "NH -> C\n",
    "HB -> C\n",
    "HC -> B\n",
    "HN -> C\n",
    "NN -> C\n",
    "BH -> H\n",
    "NC -> B\n",
    "NB -> B\n",
    "BN -> B\n",
    "BB -> N\n",
    "BC -> B\n",
    "CC -> N\n",
    "CN -> C\"\"\"\n",
    "\n",
    "def parse(inp):\n",
    "    start, raw_swaps = inp.strip().split('\\n\\n')\n",
    "    swaps = {}\n",
    "    for l in raw_swaps.splitlines():\n",
    "        a,b = l.split(' -> ')\n",
    "        swaps[a] = b\n",
    "    return start, swaps\n",
    "\n",
    "parse(ex)"
   ]
  },
  {
   "cell_type": "code",
   "execution_count": 33,
   "metadata": {},
   "outputs": [
    {
     "data": {
      "text/plain": [
       "'NCNBCHB'"
      ]
     },
     "execution_count": 33,
     "metadata": {},
     "output_type": "execute_result"
    }
   ],
   "source": [
    "def step(poly, swaps):\n",
    "    res = \"\"\n",
    "    to_do = {}\n",
    "    for i in range(len(poly) - 1):\n",
    "        if poly[i:i+2] in swaps:\n",
    "            to_do[i+0.5] = poly[i:i+2]\n",
    "    #print(to_do)\n",
    "    for i in range(len(poly) *2):\n",
    "        if i %2 == 0:\n",
    "            res += poly[i//2]\n",
    "        else:\n",
    "            if i / 2 in to_do:\n",
    "                res += swaps[to_do[i/2]]\n",
    "    return res\n",
    "\n",
    "start, swaps = parse(ex)\n",
    "step(start, swaps)"
   ]
  },
  {
   "cell_type": "code",
   "execution_count": 34,
   "metadata": {},
   "outputs": [
    {
     "data": {
      "text/plain": [
       "1588"
      ]
     },
     "execution_count": 34,
     "metadata": {},
     "output_type": "execute_result"
    }
   ],
   "source": [
    "from collections import Counter\n",
    "def sim(inp, n):\n",
    "    start, swaps = parse(inp)\n",
    "    for i in range(n):\n",
    "        start = step(start, swaps)\n",
    "    vals = Counter(start).values()\n",
    "    return max(vals) - min(vals)\n",
    "\n",
    "sim(ex, 10)"
   ]
  },
  {
   "cell_type": "code",
   "execution_count": 4,
   "metadata": {},
   "outputs": [
    {
     "data": {
      "text/plain": [
       "3697"
      ]
     },
     "execution_count": 4,
     "metadata": {},
     "output_type": "execute_result"
    }
   ],
   "source": [
    "pzl = open(\"data/14.txt\").read()\n",
    "sim(pzl, 10)"
   ]
  },
  {
   "cell_type": "code",
   "execution_count": 65,
   "metadata": {},
   "outputs": [
    {
     "name": "stdout",
     "output_type": "stream",
     "text": [
      "4371307836157\n"
     ]
    }
   ],
   "source": [
    "from collections import defaultdict\n",
    "def parse2(inp):\n",
    "    raw_start, raw_swaps = inp.strip().split('\\n\\n')\n",
    "    swaps = {}\n",
    "    for l in raw_swaps.splitlines():\n",
    "        a,b = l.split(' -> ')\n",
    "        swaps[a] = [a[0]+b, b+a[1]]\n",
    "    start = defaultdict(int)\n",
    "    for i in range(len(raw_start) - 1):\n",
    "        start[raw_start[i:i+2]] += 1\n",
    "    return start, swaps, raw_start[0], raw_start[-1]\n",
    "\n",
    "def step2(poly, swaps):\n",
    "    new_poly = defaultdict(int)\n",
    "    for pair in poly:\n",
    "        if pair not in swaps:\n",
    "            new_poly[pair] += poly[pair]\n",
    "            continue\n",
    "        for sub in swaps[pair]:\n",
    "            new_poly[sub] += poly[pair]\n",
    "    return new_poly\n",
    "\n",
    "def part2(inp, n):\n",
    "    poly, swaps, start, end = parse2(inp)\n",
    "    for _ in range(n):\n",
    "        poly = step2(poly, swaps)\n",
    "\n",
    "    count = Counter()\n",
    "    for pair in poly:\n",
    "        count[pair[0]] += poly[pair]\n",
    "        count[pair[1]] += poly[pair]\n",
    "    count[start] += 1\n",
    "    count[end] += 1\n",
    "    for c in count:\n",
    "        count[c] //= 2\n",
    "    vals = count.values()\n",
    "    return max(vals) - min(vals)\n",
    "\n",
    "\n",
    "print(part2(pzl, 40))\n",
    "\n"
   ]
  },
  {
   "cell_type": "code",
   "execution_count": null,
   "metadata": {},
   "outputs": [],
   "source": []
  }
 ],
 "metadata": {
  "interpreter": {
   "hash": "7d6993cb2f9ce9a59d5d7380609d9cb5192a9dedd2735a011418ad9e827eb538"
  },
  "kernelspec": {
   "display_name": "Python 3.9.6 64-bit",
   "language": "python",
   "name": "python3"
  },
  "language_info": {
   "codemirror_mode": {
    "name": "ipython",
    "version": 3
   },
   "file_extension": ".py",
   "mimetype": "text/x-python",
   "name": "python",
   "nbconvert_exporter": "python",
   "pygments_lexer": "ipython3",
   "version": "3.9.6"
  },
  "orig_nbformat": 4
 },
 "nbformat": 4,
 "nbformat_minor": 2
}
