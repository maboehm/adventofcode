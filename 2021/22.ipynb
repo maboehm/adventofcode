{
 "cells": [
  {
   "cell_type": "code",
   "execution_count": 1,
   "metadata": {},
   "outputs": [
    {
     "data": {
      "text/plain": [
       "[{'action': True, 'cords': [10, 12, 10, 12, 10, 12]},\n",
       " {'action': True, 'cords': [11, 13, 11, 13, 11, 13]},\n",
       " {'action': False, 'cords': [9, 11, 9, 11, 9, 11]},\n",
       " {'action': True, 'cords': [10, 10, 10, 10, 10, 10]}]"
      ]
     },
     "execution_count": 1,
     "metadata": {},
     "output_type": "execute_result"
    }
   ],
   "source": [
    "import re\n",
    "ex = \"\"\"on x=10..12,y=10..12,z=10..12\n",
    "on x=11..13,y=11..13,z=11..13\n",
    "off x=9..11,y=9..11,z=9..11\n",
    "on x=10..10,y=10..10,z=10..10\"\"\".splitlines()\n",
    "\n",
    "def parse(inp):\n",
    "    res = []\n",
    "    for l in inp:\n",
    "        state, _ = l.split(\" \", 2)\n",
    "        res.append({\n",
    "            \"action\": state == \"on\",\n",
    "            \"cords\": list(map(int, re.findall(r'-?\\d+', l)))\n",
    "        })\n",
    "    return res\n",
    "\n",
    "parse(ex)"
   ]
  },
  {
   "cell_type": "code",
   "execution_count": 2,
   "metadata": {},
   "outputs": [
    {
     "data": {
      "text/plain": [
       "39"
      ]
     },
     "execution_count": 2,
     "metadata": {},
     "output_type": "execute_result"
    }
   ],
   "source": [
    "from collections import namedtuple, defaultdict\n",
    "from itertools import product\n",
    "P = namedtuple(\"P\", [\"x\", \"y\", \"z\"])\n",
    "\n",
    "def in_bounds(p: P):\n",
    "    return (\n",
    "        (-50 <= p.x <= 50) and\n",
    "        (-50 <= p.y <= 50) and\n",
    "        (-50 <= p.z <= 50)\n",
    "    )\n",
    "\n",
    "def to_bounds(n):\n",
    "    if n>50:\n",
    "        return 50\n",
    "    if n<-50:\n",
    "        return -50\n",
    "    return n\n",
    "\n",
    "def get_range(cords, i):\n",
    "    low = min(cords[i], cords[i+1]+1)\n",
    "    high = max(cords[i], cords[i+1]+1)\n",
    "    low = to_bounds(low)\n",
    "    high = to_bounds(high)\n",
    "    return range(low, high)\n",
    "\n",
    "def part1(inp):\n",
    "    steps = parse(inp)\n",
    "    g: dict[P, int] = defaultdict(bool)\n",
    "    for s in steps:\n",
    "        for x,y,z in product(\n",
    "            get_range(s[\"cords\"], 0),\n",
    "            get_range(s[\"cords\"], 2),\n",
    "            get_range(s[\"cords\"], 4)\n",
    "        ):\n",
    "            p = P(x,y,z)\n",
    "            if in_bounds(p):\n",
    "                g[P(x,y,z)] = s[\"action\"]\n",
    "    return sum(v for p,v in g.items() if in_bounds(p))\n",
    "part1(ex)\n"
   ]
  },
  {
   "cell_type": "code",
   "execution_count": 3,
   "metadata": {},
   "outputs": [
    {
     "data": {
      "text/plain": [
       "588432"
      ]
     },
     "execution_count": 3,
     "metadata": {},
     "output_type": "execute_result"
    }
   ],
   "source": [
    "ex2 = \"\"\"on x=-20..26,y=-36..17,z=-47..7\n",
    "on x=-20..33,y=-21..23,z=-26..28\n",
    "on x=-22..28,y=-29..23,z=-38..16\n",
    "on x=-46..7,y=-6..46,z=-50..-1\n",
    "on x=-49..1,y=-3..46,z=-24..28\n",
    "on x=2..47,y=-22..22,z=-23..27\n",
    "on x=-27..23,y=-28..26,z=-21..29\n",
    "on x=-39..5,y=-6..47,z=-3..44\n",
    "on x=-30..21,y=-8..43,z=-13..34\n",
    "on x=-22..26,y=-27..20,z=-29..19\n",
    "off x=-48..-32,y=26..41,z=-47..-37\n",
    "on x=-12..35,y=6..50,z=-50..-2\n",
    "off x=-48..-32,y=-32..-16,z=-15..-5\n",
    "on x=-18..26,y=-33..15,z=-7..46\n",
    "off x=-40..-22,y=-38..-28,z=23..41\n",
    "on x=-16..35,y=-41..10,z=-47..6\n",
    "off x=-32..-23,y=11..30,z=-14..3\n",
    "on x=-49..-5,y=-3..45,z=-29..18\n",
    "off x=18..30,y=-20..-8,z=-3..13\n",
    "on x=-41..9,y=-7..43,z=-33..15\n",
    "on x=-54112..-39298,y=-85059..-49293,z=-27449..7877\n",
    "on x=967..23432,y=45373..81175,z=27513..53682\"\"\".splitlines()\n",
    "\n",
    "part1(ex2)"
   ]
  },
  {
   "cell_type": "code",
   "execution_count": 4,
   "metadata": {},
   "outputs": [
    {
     "data": {
      "text/plain": [
       "583641"
      ]
     },
     "execution_count": 4,
     "metadata": {},
     "output_type": "execute_result"
    }
   ],
   "source": [
    "with open(\"data/22.txt\") as f:\n",
    "    pzl = f.readlines()\n",
    "\n",
    "part1(pzl)"
   ]
  },
  {
   "cell_type": "markdown",
   "metadata": {},
   "source": [
    "# Part 2\n"
   ]
  },
  {
   "cell_type": "code",
   "execution_count": 39,
   "metadata": {},
   "outputs": [
    {
     "data": {
      "text/plain": [
       "[{'action': True, 'cords': [10, 12, 10, 12, 10, 12]},\n",
       " {'action': True, 'cords': [11, 13, 11, 13, 11, 13]},\n",
       " {'action': False, 'cords': [9, 11, 9, 11, 9, 11]},\n",
       " {'action': True, 'cords': [10, 10, 10, 10, 10, 10]}]"
      ]
     },
     "execution_count": 39,
     "metadata": {},
     "output_type": "execute_result"
    }
   ],
   "source": [
    "import re\n",
    "ex = \"\"\"on x=10..12,y=10..12,z=10..12\n",
    "on x=11..13,y=11..13,z=11..13\n",
    "off x=9..11,y=9..11,z=9..11\n",
    "on x=10..10,y=10..10,z=10..10\"\"\".splitlines()\n",
    "\n",
    "def parse(inp):\n",
    "    res = []\n",
    "    for l in inp:\n",
    "        state, _ = l.split(\" \", 2)\n",
    "        res.append({\n",
    "            \"action\": state == \"on\",\n",
    "            \"cords\": list(map(int, re.findall(r'-?\\d+', l)))\n",
    "        })\n",
    "    return res\n",
    "\n",
    "seq = parse(ex)\n",
    "seq"
   ]
  },
  {
   "cell_type": "code",
   "execution_count": 40,
   "metadata": {},
   "outputs": [
    {
     "name": "stdout",
     "output_type": "stream",
     "text": [
      "{'action': True, 'cords': [10, 12, 10, 12, 10, 12]}\n",
      "{'action': True, 'cords': [11, 13, 11, 13, 11, 13]}\n",
      "{'action': False, 'cords': [9, 11, 9, 11, 9, 11]}\n",
      "intersectin! 9,11,9,11,9,11 10,12,10,12,10,12\n",
      "intersectin! 9,11,9,11,9,11 11,13,11,13,11,13\n",
      "{'action': True, 'cords': [10, 10, 10, 10, 10, 10]}\n"
     ]
    },
    {
     "data": {
      "text/plain": [
       "[10,12,10,12,10,12, 11,13,11,13,11,13, 10,10,10,10,10,10]"
      ]
     },
     "execution_count": 40,
     "metadata": {},
     "output_type": "execute_result"
    }
   ],
   "source": [
    "from collections import namedtuple\n",
    "from itertools import product\n",
    "P = namedtuple(\"P\", [\"x\", \"y\", \"z\"])\n",
    "\n",
    "class Cube():\n",
    "    def __init__(self, cords: list[int]) -> None:\n",
    "        x1,x2,y1,y2,z1,z2 = cords\n",
    "        self.corners = tuple(P(x,y,z) for x,y,z in product([x1, x2], [y1, y2], [z1, z2]))\n",
    "        self.x_low = min(x1, x2)\n",
    "        self.x_high = max(x1, x2)\n",
    "        self.y_low = min(y1, y2)\n",
    "        self.y_high = max(y1, y2)\n",
    "        self.z_low = min(z1, z2)\n",
    "        self.z_high = max(z1, z2)\n",
    "    def __repr__(self) -> str:\n",
    "        return \",\".join(map(str, [self.x_low, self.x_high, self.y_low, self.y_high, self.z_low, self.z_high]))\n",
    "\n",
    "def in_cube(p: P, c: Cube) -> bool:\n",
    "    return (\n",
    "        c.x_low <= p.x <= c.x_high and \n",
    "        c.y_low <= p.y <= c.y_high and \n",
    "        c.z_low <= p.z <= c.z_high\n",
    "    )\n",
    "def intersect(c1, c2: Cube) -> bool:\n",
    "    return (\n",
    "        c1.x_high >= c2.x_low and\n",
    "        c1.x_low <= c2.x_high and\n",
    "        c1.y_high >= c2.y_low and\n",
    "        c1.y_low <= c2.y_high and\n",
    "        c1.z_high >= c2.z_low and\n",
    "        c1.z_low <= c2.z_high\n",
    "    )\n",
    "\n",
    "def inside(c1: Cube, c2: Cube):\n",
    "    return (\n",
    "        c1.x_low >= c2.x_low and\n",
    "        c1.x_high <= c2.x_high and\n",
    "        c1.y_low >= c2.y_low and\n",
    "        c1.y_high <= c2.y_high and\n",
    "        c1.z_low >= c2.z_low and\n",
    "        c1.z_high <= c2.z_high \n",
    "    )\n",
    "\n",
    "cubes = []\n",
    "for s in seq:\n",
    "    print(s)\n",
    "    c = Cube(s[\"cords\"])\n",
    "    if s[\"action\"]:\n",
    "        cubes.append(c)\n",
    "        continue\n",
    "\n",
    "    for other in cubes[:]:\n",
    "        # nothing in that cube is being turned off\n",
    "        if not intersect(c, other):\n",
    "            continue\n",
    "\n",
    "        # the cube is entirely turned off\n",
    "        if inside(other, c):\n",
    "            cubes.remove(other)\n",
    "            continue\n",
    "        print(\"intersectin!\", c, other)\n",
    "\n",
    "cubes"
   ]
  },
  {
   "cell_type": "code",
   "execution_count": 31,
   "metadata": {},
   "outputs": [
    {
     "name": "stdout",
     "output_type": "stream",
     "text": [
      "True\n"
     ]
    }
   ],
   "source": [
    "\n",
    "print(inside(cubes[2], cubes[0]))\n",
    "\n",
    "def partially_off(off: Cube, on: Cube):\n",
    "    pass\n",
    "    \n"
   ]
  },
  {
   "cell_type": "code",
   "execution_count": null,
   "metadata": {},
   "outputs": [],
   "source": []
  }
 ],
 "metadata": {
  "interpreter": {
   "hash": "7d6993cb2f9ce9a59d5d7380609d9cb5192a9dedd2735a011418ad9e827eb538"
  },
  "kernelspec": {
   "display_name": "Python 3.9.9 64-bit",
   "language": "python",
   "name": "python3"
  },
  "language_info": {
   "codemirror_mode": {
    "name": "ipython",
    "version": 3
   },
   "file_extension": ".py",
   "mimetype": "text/x-python",
   "name": "python",
   "nbconvert_exporter": "python",
   "pygments_lexer": "ipython3",
   "version": "3.9.9"
  },
  "orig_nbformat": 4
 },
 "nbformat": 4,
 "nbformat_minor": 2
}
