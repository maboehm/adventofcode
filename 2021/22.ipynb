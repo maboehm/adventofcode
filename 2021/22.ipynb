{
 "cells": [
  {
   "cell_type": "code",
   "execution_count": 1,
   "metadata": {},
   "outputs": [
    {
     "data": {
      "text/plain": [
       "[{'action': True, 'cords': [10, 12, 10, 12, 10, 12]},\n",
       " {'action': True, 'cords': [11, 13, 11, 13, 11, 13]},\n",
       " {'action': False, 'cords': [9, 11, 9, 11, 9, 11]},\n",
       " {'action': True, 'cords': [10, 10, 10, 10, 10, 10]}]"
      ]
     },
     "execution_count": 1,
     "metadata": {},
     "output_type": "execute_result"
    }
   ],
   "source": [
    "import re\n",
    "ex = \"\"\"on x=10..12,y=10..12,z=10..12\n",
    "on x=11..13,y=11..13,z=11..13\n",
    "off x=9..11,y=9..11,z=9..11\n",
    "on x=10..10,y=10..10,z=10..10\"\"\".splitlines()\n",
    "\n",
    "def parse(inp):\n",
    "    res = []\n",
    "    for l in inp:\n",
    "        state, _ = l.split(\" \", 2)\n",
    "        res.append({\n",
    "            \"action\": state == \"on\",\n",
    "            \"cords\": list(map(int, re.findall(r'-?\\d+', l)))\n",
    "        })\n",
    "    return res\n",
    "\n",
    "parse(ex)"
   ]
  },
  {
   "cell_type": "code",
   "execution_count": 51,
   "metadata": {},
   "outputs": [
    {
     "data": {
      "text/plain": [
       "39"
      ]
     },
     "execution_count": 51,
     "metadata": {},
     "output_type": "execute_result"
    }
   ],
   "source": [
    "from collections import namedtuple, defaultdict\n",
    "from itertools import product\n",
    "P = namedtuple(\"P\", [\"x\", \"y\", \"z\"])\n",
    "\n",
    "def in_bounds(p: P):\n",
    "    return (\n",
    "        (-50 <= p.x <= 50) and\n",
    "        (-50 <= p.y <= 50) and\n",
    "        (-50 <= p.z <= 50)\n",
    "    )\n",
    "\n",
    "def to_bounds(n):\n",
    "    if n>50:\n",
    "        return 50\n",
    "    if n<-50:\n",
    "        return -50\n",
    "    return n\n",
    "\n",
    "def get_range(cords, i):\n",
    "    low = min(cords[i], cords[i+1]+1)\n",
    "    high = max(cords[i], cords[i+1]+1)\n",
    "    low = to_bounds(low)\n",
    "    high = to_bounds(high)\n",
    "    return range(low, high)\n",
    "\n",
    "def part1(inp):\n",
    "    steps = parse(inp)\n",
    "    g: dict[P, int] = defaultdict(bool)\n",
    "    for s in steps:\n",
    "        for x,y,z in product(\n",
    "            get_range(s[\"cords\"], 0),\n",
    "            get_range(s[\"cords\"], 2),\n",
    "            get_range(s[\"cords\"], 4)\n",
    "        ):\n",
    "            p = P(x,y,z)\n",
    "            if in_bounds(p):\n",
    "                g[P(x,y,z)] = s[\"action\"]\n",
    "    return sum(v for p,v in g.items() if in_bounds(p))\n",
    "part1(ex)\n"
   ]
  },
  {
   "cell_type": "code",
   "execution_count": 52,
   "metadata": {},
   "outputs": [
    {
     "data": {
      "text/plain": [
       "588432"
      ]
     },
     "execution_count": 52,
     "metadata": {},
     "output_type": "execute_result"
    }
   ],
   "source": [
    "ex2 = \"\"\"on x=-20..26,y=-36..17,z=-47..7\n",
    "on x=-20..33,y=-21..23,z=-26..28\n",
    "on x=-22..28,y=-29..23,z=-38..16\n",
    "on x=-46..7,y=-6..46,z=-50..-1\n",
    "on x=-49..1,y=-3..46,z=-24..28\n",
    "on x=2..47,y=-22..22,z=-23..27\n",
    "on x=-27..23,y=-28..26,z=-21..29\n",
    "on x=-39..5,y=-6..47,z=-3..44\n",
    "on x=-30..21,y=-8..43,z=-13..34\n",
    "on x=-22..26,y=-27..20,z=-29..19\n",
    "off x=-48..-32,y=26..41,z=-47..-37\n",
    "on x=-12..35,y=6..50,z=-50..-2\n",
    "off x=-48..-32,y=-32..-16,z=-15..-5\n",
    "on x=-18..26,y=-33..15,z=-7..46\n",
    "off x=-40..-22,y=-38..-28,z=23..41\n",
    "on x=-16..35,y=-41..10,z=-47..6\n",
    "off x=-32..-23,y=11..30,z=-14..3\n",
    "on x=-49..-5,y=-3..45,z=-29..18\n",
    "off x=18..30,y=-20..-8,z=-3..13\n",
    "on x=-41..9,y=-7..43,z=-33..15\n",
    "on x=-54112..-39298,y=-85059..-49293,z=-27449..7877\n",
    "on x=967..23432,y=45373..81175,z=27513..53682\"\"\".splitlines()\n",
    "\n",
    "part1(ex2)"
   ]
  },
  {
   "cell_type": "code",
   "execution_count": 53,
   "metadata": {},
   "outputs": [
    {
     "data": {
      "text/plain": [
       "583641"
      ]
     },
     "execution_count": 53,
     "metadata": {},
     "output_type": "execute_result"
    }
   ],
   "source": [
    "with open(\"data/22.txt\") as f:\n",
    "    pzl = f.readlines()\n",
    "\n",
    "part1(pzl)"
   ]
  },
  {
   "cell_type": "markdown",
   "metadata": {},
   "source": [
    "# Part 2\n"
   ]
  },
  {
   "cell_type": "code",
   "execution_count": 39,
   "metadata": {},
   "outputs": [
    {
     "data": {
      "text/plain": [
       "[{'action': True, 'cords': [10, 12, 10, 12, 10, 12]},\n",
       " {'action': True, 'cords': [11, 13, 11, 13, 11, 13]},\n",
       " {'action': False, 'cords': [9, 11, 9, 11, 9, 11]},\n",
       " {'action': True, 'cords': [10, 10, 10, 10, 10, 10]}]"
      ]
     },
     "execution_count": 39,
     "metadata": {},
     "output_type": "execute_result"
    }
   ],
   "source": [
    "import re\n",
    "ex = \"\"\"on x=10..12,y=10..12,z=10..12\n",
    "on x=11..13,y=11..13,z=11..13\n",
    "off x=9..11,y=9..11,z=9..11\n",
    "on x=10..10,y=10..10,z=10..10\"\"\".splitlines()\n",
    "\n",
    "def parse(inp):\n",
    "    res = []\n",
    "    for l in inp:\n",
    "        state, _ = l.split(\" \", 2)\n",
    "        res.append({\n",
    "            \"action\": state == \"on\",\n",
    "            \"cords\": list(map(int, re.findall(r'-?\\d+', l)))\n",
    "        })\n",
    "    return res\n",
    "\n",
    "seq = parse(ex)\n",
    "seq"
   ]
  },
  {
   "cell_type": "code",
   "execution_count": 40,
   "metadata": {},
   "outputs": [
    {
     "name": "stdout",
     "output_type": "stream",
     "text": [
      "{'action': True, 'cords': [10, 12, 10, 12, 10, 12]}\n",
      "{'action': True, 'cords': [11, 13, 11, 13, 11, 13]}\n",
      "{'action': False, 'cords': [9, 11, 9, 11, 9, 11]}\n",
      "intersectin! 9,11,9,11,9,11 10,12,10,12,10,12\n",
      "intersectin! 9,11,9,11,9,11 11,13,11,13,11,13\n",
      "{'action': True, 'cords': [10, 10, 10, 10, 10, 10]}\n"
     ]
    },
    {
     "data": {
      "text/plain": [
       "[10,12,10,12,10,12, 11,13,11,13,11,13, 10,10,10,10,10,10]"
      ]
     },
     "execution_count": 40,
     "metadata": {},
     "output_type": "execute_result"
    }
   ],
   "source": [
    "from collections import namedtuple\n",
    "from itertools import product\n",
    "P = namedtuple(\"P\", [\"x\", \"y\", \"z\"])\n",
    "\n",
    "class Cube():\n",
    "    def __init__(self, cords: list[int]) -> None:\n",
    "        x1,x2,y1,y2,z1,z2 = cords\n",
    "        self.corners = tuple(P(x,y,z) for x,y,z in product([x1, x2], [y1, y2], [z1, z2]))\n",
    "        self.x_low = min(x1, x2)\n",
    "        self.x_high = max(x1, x2)\n",
    "        self.y_low = min(y1, y2)\n",
    "        self.y_high = max(y1, y2)\n",
    "        self.z_low = min(z1, z2)\n",
    "        self.z_high = max(z1, z2)\n",
    "    def __repr__(self) -> str:\n",
    "        return \",\".join(map(str, [self.x_low, self.x_high, self.y_low, self.y_high, self.z_low, self.z_high]))\n",
    "\n",
    "def in_cube(p: P, c: Cube) -> bool:\n",
    "    return (\n",
    "        c.x_low <= p.x <= c.x_high and \n",
    "        c.y_low <= p.y <= c.y_high and \n",
    "        c.z_low <= p.z <= c.z_high\n",
    "    )\n",
    "def intersect(c1, c2: Cube) -> bool:\n",
    "    return (\n",
    "        c1.x_high >= c2.x_low and\n",
    "        c1.x_low <= c2.x_high and\n",
    "        c1.y_high >= c2.y_low and\n",
    "        c1.y_low <= c2.y_high and\n",
    "        c1.z_high >= c2.z_low and\n",
    "        c1.z_low <= c2.z_high\n",
    "    )\n",
    "\n",
    "def inside(c1: Cube, c2: Cube):\n",
    "    return (\n",
    "        c1.x_low >= c2.x_low and\n",
    "        c1.x_high <= c2.x_high and\n",
    "        c1.y_low >= c2.y_low and\n",
    "        c1.y_high <= c2.y_high and\n",
    "        c1.z_low >= c2.z_low and\n",
    "        c1.z_high <= c2.z_high \n",
    "    )\n",
    "\n",
    "cubes = []\n",
    "for s in seq:\n",
    "    print(s)\n",
    "    c = Cube(s[\"cords\"])\n",
    "    if s[\"action\"]:\n",
    "        cubes.append(c)\n",
    "        continue\n",
    "\n",
    "    for other in cubes[:]:\n",
    "        # nothing in that cube is being turned off\n",
    "        if not intersect(c, other):\n",
    "            continue\n",
    "\n",
    "        # the cube is entirely turned off\n",
    "        if inside(other, c):\n",
    "            cubes.remove(other)\n",
    "            continue\n",
    "        print(\"intersectin!\", c, other)\n",
    "\n",
    "cubes"
   ]
  },
  {
   "cell_type": "code",
   "execution_count": 31,
   "metadata": {},
   "outputs": [
    {
     "name": "stdout",
     "output_type": "stream",
     "text": [
      "True\n"
     ]
    }
   ],
   "source": [
    "\n",
    "print(inside(cubes[2], cubes[0]))\n",
    "\n",
    "def partially_off(off: Cube, on: Cube):\n",
    "    pass\n",
    "    \n"
   ]
  },
  {
   "cell_type": "code",
   "execution_count": 56,
   "metadata": {},
   "outputs": [],
   "source": [
    "ex3 = \"\"\"on x=-5..47,y=-31..22,z=-19..33\n",
    "on x=-44..5,y=-27..21,z=-14..35\n",
    "on x=-49..-1,y=-11..42,z=-10..38\n",
    "on x=-20..34,y=-40..6,z=-44..1\n",
    "off x=26..39,y=40..50,z=-2..11\n",
    "on x=-41..5,y=-41..6,z=-36..8\n",
    "off x=-43..-33,y=-45..-28,z=7..25\n",
    "on x=-33..15,y=-32..19,z=-34..11\n",
    "off x=35..47,y=-46..-34,z=-11..5\n",
    "on x=-14..36,y=-6..44,z=-16..29\n",
    "on x=-57795..-6158,y=29564..72030,z=20435..90618\n",
    "on x=36731..105352,y=-21140..28532,z=16094..90401\n",
    "on x=30999..107136,y=-53464..15513,z=8553..71215\n",
    "on x=13528..83982,y=-99403..-27377,z=-24141..23996\n",
    "on x=-72682..-12347,y=18159..111354,z=7391..80950\n",
    "on x=-1060..80757,y=-65301..-20884,z=-103788..-16709\n",
    "on x=-83015..-9461,y=-72160..-8347,z=-81239..-26856\n",
    "on x=-52752..22273,y=-49450..9096,z=54442..119054\n",
    "on x=-29982..40483,y=-108474..-28371,z=-24328..38471\n",
    "on x=-4958..62750,y=40422..118853,z=-7672..65583\n",
    "on x=55694..108686,y=-43367..46958,z=-26781..48729\n",
    "on x=-98497..-18186,y=-63569..3412,z=1232..88485\n",
    "on x=-726..56291,y=-62629..13224,z=18033..85226\n",
    "on x=-110886..-34664,y=-81338..-8658,z=8914..63723\n",
    "on x=-55829..24974,y=-16897..54165,z=-121762..-28058\n",
    "on x=-65152..-11147,y=22489..91432,z=-58782..1780\n",
    "on x=-120100..-32970,y=-46592..27473,z=-11695..61039\n",
    "on x=-18631..37533,y=-124565..-50804,z=-35667..28308\n",
    "on x=-57817..18248,y=49321..117703,z=5745..55881\n",
    "on x=14781..98692,y=-1341..70827,z=15753..70151\n",
    "on x=-34419..55919,y=-19626..40991,z=39015..114138\n",
    "on x=-60785..11593,y=-56135..2999,z=-95368..-26915\n",
    "on x=-32178..58085,y=17647..101866,z=-91405..-8878\n",
    "on x=-53655..12091,y=50097..105568,z=-75335..-4862\n",
    "on x=-111166..-40997,y=-71714..2688,z=5609..50954\n",
    "on x=-16602..70118,y=-98693..-44401,z=5197..76897\n",
    "on x=16383..101554,y=4615..83635,z=-44907..18747\n",
    "off x=-95822..-15171,y=-19987..48940,z=10804..104439\n",
    "on x=-89813..-14614,y=16069..88491,z=-3297..45228\n",
    "on x=41075..99376,y=-20427..49978,z=-52012..13762\n",
    "on x=-21330..50085,y=-17944..62733,z=-112280..-30197\n",
    "on x=-16478..35915,y=36008..118594,z=-7885..47086\n",
    "off x=-98156..-27851,y=-49952..43171,z=-99005..-8456\n",
    "off x=2032..69770,y=-71013..4824,z=7471..94418\n",
    "on x=43670..120875,y=-42068..12382,z=-24787..38892\n",
    "off x=37514..111226,y=-45862..25743,z=-16714..54663\n",
    "off x=25699..97951,y=-30668..59918,z=-15349..69697\n",
    "off x=-44271..17935,y=-9516..60759,z=49131..112598\n",
    "on x=-61695..-5813,y=40978..94975,z=8655..80240\n",
    "off x=-101086..-9439,y=-7088..67543,z=33935..83858\n",
    "off x=18020..114017,y=-48931..32606,z=21474..89843\n",
    "off x=-77139..10506,y=-89994..-18797,z=-80..59318\n",
    "off x=8476..79288,y=-75520..11602,z=-96624..-24783\n",
    "on x=-47488..-1262,y=24338..100707,z=16292..72967\n",
    "off x=-84341..13987,y=2429..92914,z=-90671..-1318\n",
    "off x=-37810..49457,y=-71013..-7894,z=-105357..-13188\n",
    "off x=-27365..46395,y=31009..98017,z=15428..76570\n",
    "off x=-70369..-16548,y=22648..78696,z=-1892..86821\n",
    "on x=-53470..21291,y=-120233..-33476,z=-44150..38147\n",
    "off x=-93533..-4276,y=-16170..68771,z=-104985..-24507\"\"\".splitlines()"
   ]
  },
  {
   "cell_type": "code",
   "execution_count": 60,
   "metadata": {},
   "outputs": [],
   "source": [
    "ins = []\n",
    "xs, ys, zs = [],[],[]\n",
    "for l in pzl:\n",
    "    state, _ = l.split(\" \", 2)\n",
    "    x1,x2,y1,y2,z1,z2 = map(int, re.findall(r'-?\\d+', l))\n",
    "    ins.append([state == \"on\"] + [(x1,x2),(y1,y2),(z1,z2)])\n",
    "    xs.extend([x1,x2+1])\n",
    "    ys.extend([y1,y2+1])\n",
    "    zs.extend([z1,z2+1])\n",
    "\n",
    "ins.reverse()\n",
    "xs.sort()\n",
    "ys.sort()\n",
    "zs.sort()\n"
   ]
  },
  {
   "cell_type": "code",
   "execution_count": 61,
   "metadata": {},
   "outputs": [
    {
     "data": {
      "text/plain": [
       "1182153534186233"
      ]
     },
     "execution_count": 61,
     "metadata": {},
     "output_type": "execute_result"
    }
   ],
   "source": [
    "count = 0\n",
    "\n",
    "for x1, x2 in zip(xs, xs[1:]):\n",
    "    #print(f\"x={x1}\")\n",
    "    ins_x = [(a, x, y, z) for a, x, y, z in ins if x[0] <= x1 <= x[1]]\n",
    "    for y1, y2 in zip(ys, ys[1:]):\n",
    "        ins_y = [(a, x, y, z) for a, x, y, z in ins_x if y[0] <= y1 <= y[1]]\n",
    "        for z1, z2 in zip(zs, zs[1:]):\n",
    "            if next((a for a, x, y, z in ins_y if z[0] <= z1 <= z[1]), False):\n",
    "                count += (x2 - x1) * (y2 - y1) * (z2 - z1)\n",
    "\n",
    "count"
   ]
  },
  {
   "cell_type": "code",
   "execution_count": null,
   "metadata": {},
   "outputs": [],
   "source": []
  }
 ],
 "metadata": {
  "interpreter": {
   "hash": "7d6993cb2f9ce9a59d5d7380609d9cb5192a9dedd2735a011418ad9e827eb538"
  },
  "kernelspec": {
   "display_name": "Python 3.9.9 64-bit",
   "language": "python",
   "name": "python3"
  },
  "language_info": {
   "codemirror_mode": {
    "name": "ipython",
    "version": 3
   },
   "file_extension": ".py",
   "mimetype": "text/x-python",
   "name": "python",
   "nbconvert_exporter": "python",
   "pygments_lexer": "ipython3",
   "version": "3.9.9"
  },
  "orig_nbformat": 4
 },
 "nbformat": 4,
 "nbformat_minor": 2
}
