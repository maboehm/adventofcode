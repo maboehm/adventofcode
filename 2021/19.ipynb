{
 "cells": [
  {
   "cell_type": "code",
   "execution_count": 3,
   "metadata": {},
   "outputs": [],
   "source": [
    "from collections import namedtuple\n",
    "\n",
    "class P(namedtuple(\"Point\", [\"x\", \"y\", \"z\"])):\n",
    "    def __add__(self, other):\n",
    "        return P(self.x + other.x, self.y + other.y, self.z + other.z)\n"
   ]
  },
  {
   "cell_type": "code",
   "execution_count": 5,
   "metadata": {},
   "outputs": [
    {
     "name": "stdout",
     "output_type": "stream",
     "text": [
      "-1 -1 1\n"
     ]
    }
   ],
   "source": [
    "import re\n",
    "l = \"-1,-1,1\"\n",
    "a,b,c = map(int, l.split(\",\"))\n",
    "print(a,b,c)"
   ]
  },
  {
   "cell_type": "code",
   "execution_count": 55,
   "metadata": {},
   "outputs": [],
   "source": [
    "def sign(n):\n",
    "    if n>0:\n",
    "        return 1\n",
    "    if n == 0:\n",
    "        return 0\n",
    "    return -1\n",
    "orders = []\n",
    "for d_1 in [1, -1, 2, -2, 3, -3]:\n",
    "    l = [1, -1, 2, -2, 3, -3]\n",
    "    l.remove(d_1)\n",
    "    l.remove(-d_1)\n",
    "    for d_2 in l:\n",
    "        l2 = l[::]\n",
    "        l2.remove(d_2)\n",
    "        l2.remove(-d_2)\n",
    "        d_3 = sign(d_2) * max(l2)\n",
    "        orders.append((d_1, d_2, d_3))\n",
    "def parse(p, order):\n",
    "    return P(x=p[abs(order[0])-1]*sign(order[0]), y=p[abs(order[1])-1]*sign(order[1]), z=p[abs(order[2])-1]*sign(order[2]))\n"
   ]
  },
  {
   "cell_type": "code",
   "execution_count": 65,
   "metadata": {},
   "outputs": [
    {
     "data": {
      "text/plain": [
       "P(x=0, y=2, z=-1)"
      ]
     },
     "execution_count": 65,
     "metadata": {},
     "output_type": "execute_result"
    }
   ],
   "source": [
    "rot90 = {\n",
    "    \"x\": [[1,0,0], [0,0,-1], [0,1,0]],\n",
    "    \"y\": [[0,0,1], [0,1,0], [-1,0,0]],\n",
    "    \"z\": [[0,-1,0], [1,0,0], [0,0,1]]\n",
    "}\n",
    "\n",
    "from math import prod\n",
    "def rotate(p, ax):\n",
    "    return P(*[sum(map(prod, zip(p, rot90[ax][i]))) for i in range(3)])\n",
    "\n",
    "rotate(P(1,2,0), \"y\")"
   ]
  },
  {
   "cell_type": "markdown",
   "metadata": {},
   "source": [
    "```x y z\n",
    "z x y  // cyclic shift is two swaps\n",
    "y z x\n",
    "\n",
    "y x -z  // swap first two, change one sign\n",
    "x z -y\n",
    "z y -x\n",
    "That's all swapping around done. Now playing with signs, in short you get 4 versions of each by adding 0/2 sign changes like\n",
    "\n",
    "+ + +\n",
    "- - +\n",
    "- + -\n",
    "+ - - "
   ]
  },
  {
   "cell_type": "markdown",
   "metadata": {},
   "source": []
  }
 ],
 "metadata": {
  "interpreter": {
   "hash": "7d6993cb2f9ce9a59d5d7380609d9cb5192a9dedd2735a011418ad9e827eb538"
  },
  "kernelspec": {
   "display_name": "Python 3.9.9 64-bit",
   "language": "python",
   "name": "python3"
  },
  "language_info": {
   "codemirror_mode": {
    "name": "ipython",
    "version": 3
   },
   "file_extension": ".py",
   "mimetype": "text/x-python",
   "name": "python",
   "nbconvert_exporter": "python",
   "pygments_lexer": "ipython3",
   "version": "3.9.9"
  },
  "orig_nbformat": 4
 },
 "nbformat": 4,
 "nbformat_minor": 2
}
