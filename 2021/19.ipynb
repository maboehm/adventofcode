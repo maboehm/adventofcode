{
 "cells": [
  {
   "cell_type": "code",
   "execution_count": 89,
   "metadata": {},
   "outputs": [],
   "source": [
    "from collections import namedtuple\n",
    "\n",
    "class P(namedtuple(\"Point\", [\"x\", \"y\", \"z\"])):\n",
    "    def __add__(self, other):\n",
    "        return P(self.x + other.x, self.y + other.y, self.z + other.z)\n",
    "    def __sub__(self, other):\n",
    "        return P(self.x - other.x, self.y - other.y, self.z - other.z)"
   ]
  },
  {
   "cell_type": "markdown",
   "metadata": {},
   "source": [
    "```x y z\n",
    "z x y  // cyclic shift is two swaps\n",
    "y z x\n",
    "\n",
    "y x -z  // swap first two, change one sign\n",
    "x z -y\n",
    "z y -x\n",
    "That's all swapping around done. Now playing with signs, in short you get 4 versions of each by adding 0/2 sign changes like\n",
    "\n",
    "+ + +\n",
    "- - +\n",
    "- + -\n",
    "+ - - "
   ]
  },
  {
   "cell_type": "code",
   "execution_count": 90,
   "metadata": {},
   "outputs": [
    {
     "data": {
      "text/plain": [
       "[(1, 2, 3), (1, 3, 2), (2, 1, 3), (2, 3, 1), (3, 1, 2), (3, 2, 1)]"
      ]
     },
     "execution_count": 90,
     "metadata": {},
     "output_type": "execute_result"
    }
   ],
   "source": [
    "from itertools import permutations\n",
    "list(permutations((1,2,3)))"
   ]
  },
  {
   "cell_type": "code",
   "execution_count": 156,
   "metadata": {},
   "outputs": [],
   "source": [
    "from functools import cache\n",
    "swaps = {\n",
    "    0: lambda x,y,z: P(x,y,z),\n",
    "    1: lambda x,y,z: P(z,x,y),\n",
    "    2: lambda x,y,z: P(y,z,x),\n",
    "    3: lambda x,y,z: P(y,x,-z),\n",
    "    4: lambda x,y,z: P(x,z,-y),\n",
    "    5: lambda x,y,z: P(z,y,-x),\n",
    "}\n",
    "signs = {\n",
    "    0: lambda x,y,z: P(x,y,z),\n",
    "    1: lambda x,y,z: P(-x,-y,z),\n",
    "    2: lambda x,y,z: P(-x,y,-z),\n",
    "    3: lambda x,y,z: P(x,-y,-z),\n",
    "}\n",
    "rots = [lambda p: swap(*sign(*p)) for swap in swaps.values() for sign in signs.values()]\n",
    "rots = [\n",
    "    lambda p: P(x=-p.z, y=-p.y, z=-p.x),\n",
    "    lambda p: P(x=-p.z, y=-p.x, z=p.y),\n",
    "    lambda p: P(x=-p.z, y=p.x, z=-p.y),\n",
    "    lambda p: P(x=-p.z, y=p.y, z=p.x),\n",
    "    lambda p: P(x=-p.y, y=-p.z, z=p.x),\n",
    "    lambda p: P(x=-p.y, y=-p.x, z=-p.z),\n",
    "    lambda p: P(x=-p.y, y=p.x, z=p.z),\n",
    "    lambda p: P(x=-p.y, y=p.z, z=-p.x),\n",
    "    lambda p: P(x=-p.x, y=-p.z, z=-p.y),\n",
    "    lambda p: P(x=-p.x, y=-p.y, z=p.z),\n",
    "    lambda p: P(x=-p.x, y=p.y, z=-p.z),\n",
    "    lambda p: P(x=-p.x, y=p.z, z=p.y),\n",
    "    lambda p: P(x=p.x, y=-p.z, z=p.y),\n",
    "    lambda p: P(x=p.x, y=-p.y, z=-p.z),\n",
    "    lambda p: P(x=p.x, y=p.y, z=p.z),\n",
    "    lambda p: P(x=p.x, y=p.z, z=-p.y),\n",
    "    lambda p: P(x=p.y, y=-p.z, z=-p.x),\n",
    "    lambda p: P(x=p.y, y=-p.x, z=p.z),\n",
    "    lambda p: P(x=p.y, y=p.x, z=-p.z),\n",
    "    lambda p: P(x=p.y, y=p.z, z=p.x),\n",
    "    lambda p: P(x=p.z, y=-p.y, z=p.x),\n",
    "    lambda p: P(x=p.z, y=-p.x, z=-p.y),\n",
    "    lambda p: P(x=p.z, y=p.x, z=p.y),\n",
    "    lambda p: P(x=p.z, y=p.y, z=-p.x),\n",
    " ]\n",
    " \n",
    "@cache\n",
    "def group_rotation(points: frozenset[P], i: int) -> frozenset[P]:\n",
    "    return set(rots[i](p) for p in points)\n"
   ]
  },
  {
   "cell_type": "code",
   "execution_count": 158,
   "metadata": {},
   "outputs": [
    {
     "name": "stdout",
     "output_type": "stream",
     "text": [
      "{P(x=-3, y=-2, z=-1)}\n",
      "{P(x=-3, y=-1, z=2)}\n",
      "{P(x=-3, y=1, z=-2)}\n",
      "{P(x=-3, y=2, z=1)}\n",
      "{P(x=-2, y=-3, z=1)}\n",
      "{P(x=-2, y=-1, z=-3)}\n",
      "{P(x=-2, y=1, z=3)}\n",
      "{P(x=-2, y=3, z=-1)}\n",
      "{P(x=-1, y=-3, z=-2)}\n",
      "{P(x=-1, y=-2, z=3)}\n",
      "{P(x=-1, y=2, z=-3)}\n",
      "{P(x=-1, y=3, z=2)}\n",
      "{P(x=1, y=-3, z=2)}\n",
      "{P(x=1, y=-2, z=-3)}\n",
      "{P(x=1, y=2, z=3)}\n",
      "{P(x=1, y=3, z=-2)}\n",
      "{P(x=2, y=-3, z=-1)}\n",
      "{P(x=2, y=-1, z=3)}\n",
      "{P(x=2, y=1, z=-3)}\n",
      "{P(x=2, y=3, z=1)}\n",
      "{P(x=3, y=-2, z=1)}\n",
      "{P(x=3, y=-1, z=-2)}\n",
      "{P(x=3, y=1, z=2)}\n",
      "{P(x=3, y=2, z=-1)}\n"
     ]
    }
   ],
   "source": [
    "for i in range(24):\n",
    "    print(group_rotation(frozenset([P(1,2,3)]),i))"
   ]
  },
  {
   "cell_type": "code",
   "execution_count": 159,
   "metadata": {},
   "outputs": [
    {
     "data": {
      "text/plain": [
       "24"
      ]
     },
     "execution_count": 159,
     "metadata": {},
     "output_type": "execute_result"
    }
   ],
   "source": [
    "from functools import cache\n",
    "@cache\n",
    "def orientations(p: P) ->set[P]:\n",
    "    x,y,z=p\n",
    "    res = set([\n",
    "        P(x,y,z),\n",
    "        P(z,x,y),\n",
    "        P(y,z,x),\n",
    "        P(y,x,-z),\n",
    "        P(x,z,-y),\n",
    "        P(z,y,-x),\n",
    "    ])\n",
    "    for dir in res.copy():\n",
    "        x,y,z=dir\n",
    "        res.update([\n",
    "            P(-x,-y,z),\n",
    "            P(-x,y,-z),\n",
    "            P(x,-y,-z),\n",
    "        ])\n",
    "    return res\n",
    "\n",
    "len(orientations(P(1,2,3)))"
   ]
  },
  {
   "cell_type": "code",
   "execution_count": 160,
   "metadata": {},
   "outputs": [],
   "source": [
    "one_scanner=\"\"\"--- scanner 0 ---\n",
    "-1,-1,1\n",
    "-2,-2,2\n",
    "-3,-3,3\n",
    "-2,-3,1\n",
    "5,6,-4\n",
    "8,0,7\n",
    "\n",
    "--- scanner 0 ---\n",
    "1,-1,1\n",
    "2,-2,2\n",
    "3,-3,3\n",
    "2,-1,3\n",
    "-5,4,-6\n",
    "-8,-7,0\n",
    "\n",
    "--- scanner 0 ---\n",
    "-1,-1,-1\n",
    "-2,-2,-2\n",
    "-3,-3,-3\n",
    "-1,-3,-2\n",
    "4,6,5\n",
    "-7,0,8\n",
    "\n",
    "--- scanner 0 ---\n",
    "1,1,-1\n",
    "2,2,-2\n",
    "3,3,-3\n",
    "1,3,-2\n",
    "-4,-6,5\n",
    "7,0,8\n",
    "\n",
    "--- scanner 0 ---\n",
    "1,1,1\n",
    "2,2,2\n",
    "3,3,3\n",
    "3,1,2\n",
    "-6,-4,-5\n",
    "0,7,-8\"\"\""
   ]
  },
  {
   "cell_type": "code",
   "execution_count": 161,
   "metadata": {},
   "outputs": [],
   "source": [
    "example=\"\"\"--- scanner 0 ---\n",
    "404,-588,-901\n",
    "528,-643,409\n",
    "-838,591,734\n",
    "390,-675,-793\n",
    "-537,-823,-458\n",
    "-485,-357,347\n",
    "-345,-311,381\n",
    "-661,-816,-575\n",
    "-876,649,763\n",
    "-618,-824,-621\n",
    "553,345,-567\n",
    "474,580,667\n",
    "-447,-329,318\n",
    "-584,868,-557\n",
    "544,-627,-890\n",
    "564,392,-477\n",
    "455,729,728\n",
    "-892,524,684\n",
    "-689,845,-530\n",
    "423,-701,434\n",
    "7,-33,-71\n",
    "630,319,-379\n",
    "443,580,662\n",
    "-789,900,-551\n",
    "459,-707,401\n",
    "\n",
    "--- scanner 1 ---\n",
    "686,422,578\n",
    "605,423,415\n",
    "515,917,-361\n",
    "-336,658,858\n",
    "95,138,22\n",
    "-476,619,847\n",
    "-340,-569,-846\n",
    "567,-361,727\n",
    "-460,603,-452\n",
    "669,-402,600\n",
    "729,430,532\n",
    "-500,-761,534\n",
    "-322,571,750\n",
    "-466,-666,-811\n",
    "-429,-592,574\n",
    "-355,545,-477\n",
    "703,-491,-529\n",
    "-328,-685,520\n",
    "413,935,-424\n",
    "-391,539,-444\n",
    "586,-435,557\n",
    "-364,-763,-893\n",
    "807,-499,-711\n",
    "755,-354,-619\n",
    "553,889,-390\n",
    "\n",
    "--- scanner 2 ---\n",
    "649,640,665\n",
    "682,-795,504\n",
    "-784,533,-524\n",
    "-644,584,-595\n",
    "-588,-843,648\n",
    "-30,6,44\n",
    "-674,560,763\n",
    "500,723,-460\n",
    "609,671,-379\n",
    "-555,-800,653\n",
    "-675,-892,-343\n",
    "697,-426,-610\n",
    "578,704,681\n",
    "493,664,-388\n",
    "-671,-858,530\n",
    "-667,343,800\n",
    "571,-461,-707\n",
    "-138,-166,112\n",
    "-889,563,-600\n",
    "646,-828,498\n",
    "640,759,510\n",
    "-630,509,768\n",
    "-681,-892,-333\n",
    "673,-379,-804\n",
    "-742,-814,-386\n",
    "577,-820,562\n",
    "\n",
    "--- scanner 3 ---\n",
    "-589,542,597\n",
    "605,-692,669\n",
    "-500,565,-823\n",
    "-660,373,557\n",
    "-458,-679,-417\n",
    "-488,449,543\n",
    "-626,468,-788\n",
    "338,-750,-386\n",
    "528,-832,-391\n",
    "562,-778,733\n",
    "-938,-730,414\n",
    "543,643,-506\n",
    "-524,371,-870\n",
    "407,773,750\n",
    "-104,29,83\n",
    "378,-903,-323\n",
    "-778,-728,485\n",
    "426,699,580\n",
    "-438,-605,-362\n",
    "-469,-447,-387\n",
    "509,732,623\n",
    "647,635,-688\n",
    "-868,-804,481\n",
    "614,-800,639\n",
    "595,780,-596\n",
    "\n",
    "--- scanner 4 ---\n",
    "727,592,562\n",
    "-293,-554,779\n",
    "441,611,-461\n",
    "-714,465,-776\n",
    "-743,427,-804\n",
    "-660,-479,-426\n",
    "832,-632,460\n",
    "927,-485,-438\n",
    "408,393,-506\n",
    "466,436,-512\n",
    "110,16,151\n",
    "-258,-428,682\n",
    "-393,719,612\n",
    "-211,-452,876\n",
    "808,-476,-593\n",
    "-575,615,604\n",
    "-485,667,467\n",
    "-680,325,-822\n",
    "-627,-443,-432\n",
    "872,-547,-609\n",
    "833,512,582\n",
    "807,604,487\n",
    "839,-516,451\n",
    "891,-625,532\n",
    "-652,-548,-490\n",
    "30,-46,-14\"\"\""
   ]
  },
  {
   "cell_type": "code",
   "execution_count": 162,
   "metadata": {},
   "outputs": [],
   "source": [
    "def parse(s:str):\n",
    "    scanners = s.split(\"\\n\\n\")\n",
    "    res: list[frozenset[P]] = []\n",
    "    for scanner in scanners:\n",
    "        beacons = []\n",
    "        for beacon in scanner.split(\"\\n\")[1:]:\n",
    "            x,y,z = beacon.split(\",\")\n",
    "            beacons.append(P(int(x), int(y), int(z)))\n",
    "        res.append(frozenset(beacons))\n",
    "    return res\n",
    "\n",
    "scanners = parse(one_scanner)"
   ]
  },
  {
   "cell_type": "code",
   "execution_count": 163,
   "metadata": {},
   "outputs": [],
   "source": [
    "scanners = parse(example)"
   ]
  },
  {
   "cell_type": "code",
   "execution_count": 164,
   "metadata": {},
   "outputs": [
    {
     "data": {
      "text/plain": [
       "(True,\n",
       " {P(x=-660, y=373, z=557),\n",
       "  P(x=-636, y=1753, z=870),\n",
       "  P(x=-626, y=468, z=-788),\n",
       "  P(x=-620, y=1737, z=-429),\n",
       "  P(x=-589, y=542, z=597),\n",
       "  P(x=-551, y=1673, z=-421),\n",
       "  P(x=-524, y=371, z=-870),\n",
       "  P(x=-515, y=1679, z=-454),\n",
       "  P(x=-500, y=565, z=-823),\n",
       "  P(x=-496, y=1792, z=881),\n",
       "  P(x=-488, y=449, z=543),\n",
       "  P(x=-482, y=1705, z=773),\n",
       "  P(x=-65, y=1272, z=45),\n",
       "  P(x=253, y=2069, z=-401),\n",
       "  P(x=355, y=2051, z=-338),\n",
       "  P(x=393, y=2023, z=-367),\n",
       "  P(x=407, y=773, z=750),\n",
       "  P(x=426, y=699, z=580),\n",
       "  P(x=445, y=1557, z=438),\n",
       "  P(x=509, y=732, z=623),\n",
       "  P(x=526, y=1556, z=601),\n",
       "  P(x=543, y=643, z=-506),\n",
       "  P(x=569, y=1564, z=555),\n",
       "  P(x=595, y=780, z=-596),\n",
       "  P(x=647, y=635, z=-688)},\n",
       " P(x=-160, y=1134, z=23))"
      ]
     },
     "execution_count": 164,
     "metadata": {},
     "output_type": "execute_result"
    }
   ],
   "source": [
    "from itertools import product\n",
    "\n",
    "def can_match(s1: set[P], s2: set[P]) -> tuple[bool, set[P], int]:\n",
    "    for target, i in product(s1, range(24)):\n",
    "        rotated = group_rotation(s2, i)\n",
    "        for beacon in rotated:\n",
    "            shift = target-beacon\n",
    "            shifted = set(p+shift for p in rotated)\n",
    "            l = len(shifted.intersection(s1))\n",
    "            if l >= 12:\n",
    "                return True, shifted,shift\n",
    "    return False, None, -1\n",
    "\n",
    "can_match(scanners[3], scanners[1])\n"
   ]
  },
  {
   "cell_type": "code",
   "execution_count": 165,
   "metadata": {},
   "outputs": [],
   "source": [
    "def part_1(scanners: list[set[P]]) -> int:\n",
    "    beacons = scanners[0].copy()\n",
    "\n",
    "    not_matched = set(range(len(scanners)))\n",
    "    while len(not_matched) > 0:\n",
    "        for i in not_matched.copy():\n",
    "            s = scanners[i]\n",
    "            matches, rotated,_ = can_match(beacons, s)\n",
    "            if not matches:\n",
    "                continue\n",
    "            beacons = beacons.union(rotated)\n",
    "            not_matched.discard(i)\n",
    "    return len(beacons)"
   ]
  },
  {
   "cell_type": "code",
   "execution_count": 166,
   "metadata": {},
   "outputs": [
    {
     "data": {
      "text/plain": [
       "79"
      ]
     },
     "execution_count": 166,
     "metadata": {},
     "output_type": "execute_result"
    }
   ],
   "source": [
    "part_1(scanners)"
   ]
  },
  {
   "cell_type": "code",
   "execution_count": 167,
   "metadata": {},
   "outputs": [
    {
     "data": {
      "text/plain": [
       "326"
      ]
     },
     "execution_count": 167,
     "metadata": {},
     "output_type": "execute_result"
    }
   ],
   "source": [
    "data = open(\"data/19.txt\").read()\n",
    "\n",
    "part_1(parse(data))"
   ]
  },
  {
   "cell_type": "code",
   "execution_count": 139,
   "metadata": {},
   "outputs": [],
   "source": [
    "def manhattan(p:P) -> int:\n",
    "    return abs(p.x)+abs(p.y)+abs(p.z)"
   ]
  },
  {
   "cell_type": "code",
   "execution_count": 148,
   "metadata": {},
   "outputs": [],
   "source": [
    "from itertools import combinations\n",
    "\n",
    "def part_2(scanners: list[set[P]]) -> int:\n",
    "    beacons = scanners[0].copy()\n",
    "    scan_pos = {}\n",
    "    not_matched = set(range(len(scanners)))\n",
    "    while len(not_matched) > 0:\n",
    "        for i in not_matched.copy():\n",
    "            s = scanners[i]\n",
    "            matches, rotated,shift = can_match(beacons, s)\n",
    "            if not matches:\n",
    "                continue\n",
    "            beacons = beacons.union(rotated)\n",
    "            not_matched.discard(i)\n",
    "            scan_pos[i] = shift\n",
    "    return max(manhattan(s1-s2) for s1,s2 in combinations(scan_pos.values(), 2))"
   ]
  },
  {
   "cell_type": "code",
   "execution_count": 150,
   "metadata": {},
   "outputs": [
    {
     "data": {
      "text/plain": [
       "10630"
      ]
     },
     "execution_count": 150,
     "metadata": {},
     "output_type": "execute_result"
    }
   ],
   "source": [
    "part_2(parse(data))"
   ]
  },
  {
   "cell_type": "code",
   "execution_count": null,
   "metadata": {},
   "outputs": [],
   "source": []
  }
 ],
 "metadata": {
  "kernelspec": {
   "display_name": "Python 3",
   "language": "python",
   "name": "python3"
  },
  "language_info": {
   "codemirror_mode": {
    "name": "ipython",
    "version": 3
   },
   "file_extension": ".py",
   "mimetype": "text/x-python",
   "name": "python",
   "nbconvert_exporter": "python",
   "pygments_lexer": "ipython3",
   "version": "3.10.8"
  },
  "orig_nbformat": 4,
  "vscode": {
   "interpreter": {
    "hash": "b0fa6594d8f4cbf19f97940f81e996739fb7646882a419484c72d19e05852a7e"
   }
  }
 },
 "nbformat": 4,
 "nbformat_minor": 2
}
