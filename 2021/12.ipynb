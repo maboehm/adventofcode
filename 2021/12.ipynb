{
 "cells": [
  {
   "cell_type": "code",
   "execution_count": 56,
   "metadata": {},
   "outputs": [
    {
     "data": {
      "text/plain": [
       "{'start': start, 'A': A, 'b': b, 'c': c, 'd': d, 'end': end}"
      ]
     },
     "execution_count": 56,
     "metadata": {},
     "output_type": "execute_result"
    }
   ],
   "source": [
    "ex1 = \"\"\"start-A\n",
    "start-b\n",
    "A-c\n",
    "A-b\n",
    "b-d\n",
    "A-end\n",
    "b-end\"\"\".splitlines()\n",
    "\n",
    "def parse(inp):\n",
    "    g = [tuple(l.strip().split('-')) for l in inp]\n",
    "    caverns: dict[str, Cavern] = {}\n",
    "    for c in g:\n",
    "        if c[0] not in caverns:\n",
    "            caverns[c[0]] = Cavern(c[0])\n",
    "        if c[1] not in caverns:\n",
    "            caverns[c[1]] = Cavern(c[1])\n",
    "        caverns[c[0]].add(caverns[c[1]])\n",
    "        caverns[c[1]].add(caverns[c[0]])\n",
    "    return caverns\n",
    "caverns = parse(ex1)\n",
    "caverns"
   ]
  },
  {
   "cell_type": "code",
   "execution_count": 57,
   "metadata": {},
   "outputs": [],
   "source": [
    "class Cavern():\n",
    "    def __init__(self, name: str):\n",
    "        self.name = name\n",
    "        self.neighbors: set[Cavern] = set()\n",
    "        self.visits = 0\n",
    "    def __repr__(self) -> str:\n",
    "        # n = \",\".join([n.name for n in self.neighbors])\n",
    "        # return f\"Cavern: {self.name}: {n}\"\n",
    "        return self.name\n",
    "\n",
    "    def is_large(self):\n",
    "        return self.name.upper() == self.name\n",
    "\n",
    "    def add(self, neighbor):\n",
    "        self.neighbors.add(neighbor)\n",
    "\n",
    "    def can_visit(self):\n",
    "        if self.is_large():\n",
    "            return True\n",
    "        if self.name == \"start\":\n",
    "            return False\n",
    "        return self.visits == 0\n",
    "    def end(self):\n",
    "        return self.name == \"end\"\n",
    "    def visit(self):\n",
    "        self.visits += 1\n",
    "    def reset(self):\n",
    "        self.visits = 0\n",
    "\n"
   ]
  },
  {
   "cell_type": "code",
   "execution_count": 58,
   "metadata": {},
   "outputs": [],
   "source": [
    "from copy import deepcopy"
   ]
  },
  {
   "cell_type": "code",
   "execution_count": 59,
   "metadata": {},
   "outputs": [],
   "source": [
    "def show(caverns: dict[str, Cavern]):\n",
    "    for c in sorted(caverns.keys()):\n",
    "        n = \",\".join(sorted([n.name for n in caverns[c].neighbors]))\n",
    "        print(f\"[{caverns[c].name}]: {n}\")"
   ]
  },
  {
   "cell_type": "code",
   "execution_count": 61,
   "metadata": {},
   "outputs": [
    {
     "data": {
      "text/plain": [
       "10"
      ]
     },
     "execution_count": 61,
     "metadata": {},
     "output_type": "execute_result"
    }
   ],
   "source": [
    "def traverse(caverns: dict[str, Cavern], cur: str, cur_path: list[Cavern], all_paths: list[list[Cavern]]):\n",
    "    new_branches: list[str] = []\n",
    "    for n in caverns[cur].neighbors:\n",
    "        if n.can_visit():\n",
    "            new_branches.append(n.name)\n",
    "    if len(new_branches) == 0:\n",
    "        return all_paths\n",
    "    #print(cur, new_branches)\n",
    "\n",
    "    for c in new_branches:\n",
    "        updated_path = cur_path.copy()\n",
    "        updated_path.append(c)\n",
    "        if caverns[c].end():\n",
    "            all_paths.append(updated_path)\n",
    "            continue\n",
    "        new_caverns = deepcopy(caverns)\n",
    "        new_caverns[c].visit()\n",
    "        all_paths = traverse(new_caverns, c, updated_path, all_paths)\n",
    "\n",
    "    return all_paths\n",
    "\n",
    "paths = traverse(caverns, \"start\", [\"start\"], [])\n",
    "len(paths)\n"
   ]
  },
  {
   "cell_type": "code",
   "execution_count": 62,
   "metadata": {},
   "outputs": [
    {
     "data": {
      "text/plain": [
       "10"
      ]
     },
     "execution_count": 62,
     "metadata": {},
     "output_type": "execute_result"
    }
   ],
   "source": [
    "def part1(caverns):\n",
    "    paths = traverse(caverns, \"start\", [\"start\"], [])\n",
    "    return len(paths)\n",
    "\n",
    "part1(parse(ex1))"
   ]
  },
  {
   "cell_type": "code",
   "execution_count": 63,
   "metadata": {},
   "outputs": [
    {
     "data": {
      "text/plain": [
       "19"
      ]
     },
     "execution_count": 63,
     "metadata": {},
     "output_type": "execute_result"
    }
   ],
   "source": [
    "ex2 = \"\"\"dc-end\n",
    "HN-start\n",
    "start-kj\n",
    "dc-start\n",
    "dc-HN\n",
    "LN-dc\n",
    "HN-end\n",
    "kj-sa\n",
    "kj-HN\n",
    "kj-dc\"\"\".splitlines()\n",
    "part1(parse(ex2))"
   ]
  },
  {
   "cell_type": "code",
   "execution_count": 64,
   "metadata": {},
   "outputs": [
    {
     "data": {
      "text/plain": [
       "226"
      ]
     },
     "execution_count": 64,
     "metadata": {},
     "output_type": "execute_result"
    }
   ],
   "source": [
    "ex3 = \"\"\"fs-end\n",
    "he-DX\n",
    "fs-he\n",
    "start-DX\n",
    "pj-DX\n",
    "end-zg\n",
    "zg-sl\n",
    "zg-pj\n",
    "pj-he\n",
    "RW-he\n",
    "fs-DX\n",
    "pj-RW\n",
    "zg-RW\n",
    "start-pj\n",
    "he-WI\n",
    "zg-he\n",
    "pj-fs\n",
    "start-RW\"\"\".splitlines()\n",
    "part1(parse(ex3))"
   ]
  },
  {
   "cell_type": "code",
   "execution_count": 66,
   "metadata": {},
   "outputs": [
    {
     "data": {
      "text/plain": [
       "5576"
      ]
     },
     "execution_count": 66,
     "metadata": {},
     "output_type": "execute_result"
    }
   ],
   "source": [
    "pzl = open(\"data/12.txt\").readlines()\n",
    "part1(parse(pzl))"
   ]
  },
  {
   "cell_type": "markdown",
   "metadata": {},
   "source": [
    "## Part 2"
   ]
  },
  {
   "cell_type": "code",
   "execution_count": 81,
   "metadata": {},
   "outputs": [
    {
     "data": {
      "text/plain": [
       "36"
      ]
     },
     "execution_count": 81,
     "metadata": {},
     "output_type": "execute_result"
    }
   ],
   "source": [
    "class Cavern():\n",
    "    def __init__(self, name: str):\n",
    "        self.name = name\n",
    "        self.neighbors: set[Cavern] = set()\n",
    "        self.visits = 0\n",
    "        self.large = self.name.upper() == self.name\n",
    "    def __repr__(self) -> str:\n",
    "        # n = \",\".join([n.name for n in self.neighbors])\n",
    "        # return f\"Cavern: {self.name}: {n}\"\n",
    "        return self.name\n",
    "\n",
    "    def add(self, neighbor):\n",
    "        self.neighbors.add(neighbor)\n",
    "\n",
    "    def can_visit(self, twice):\n",
    "        if self.large:\n",
    "            return True\n",
    "        if self.name == \"start\":\n",
    "            return False\n",
    "        if twice:\n",
    "            return self.visits == 0\n",
    "        return self.visits < 2\n",
    "    def end(self):\n",
    "        return self.name == \"end\"\n",
    "    def visit(self):\n",
    "        self.visits += 1\n",
    "        if self.large:\n",
    "            return False\n",
    "        return self.visits == 2\n",
    "    def reset(self):\n",
    "        self.visits = 0\n",
    "\n",
    "def traverse(caverns: dict[str, Cavern], cur: str, cur_path: str, all_paths: list[str], twice: bool):\n",
    "    new_branches: list[str] = []\n",
    "    for n in caverns[cur].neighbors:\n",
    "        if n.can_visit(twice):\n",
    "            new_branches.append(n.name)\n",
    "    if len(new_branches) == 0:\n",
    "        return all_paths\n",
    "    #print(cur, new_branches)\n",
    "\n",
    "    for c in new_branches:\n",
    "        updated_path = cur_path + \",\" + c\n",
    "        if caverns[c].end():\n",
    "            all_paths.append(updated_path)\n",
    "            continue\n",
    "        new_caverns = deepcopy(caverns)\n",
    "        new_twice = new_caverns[c].visit()\n",
    "        all_paths = traverse(new_caverns, c, updated_path, all_paths, twice or new_twice)\n",
    "\n",
    "    return all_paths\n",
    "\n",
    "\n",
    "paths = traverse(parse(ex1), \"start\", \"start\", [], False)\n",
    "len(paths)\n"
   ]
  },
  {
   "cell_type": "code",
   "execution_count": 82,
   "metadata": {},
   "outputs": [
    {
     "name": "stdout",
     "output_type": "stream",
     "text": [
      "36\n",
      "103\n",
      "3509\n"
     ]
    }
   ],
   "source": [
    "def part2(caverns):\n",
    "    paths = traverse(caverns, \"start\", \"start\", [], False)\n",
    "    return len(paths)\n",
    "\n",
    "print(part2(parse(ex1)))\n",
    "print(part2(parse(ex2)))\n",
    "print(part2(parse(ex3)))"
   ]
  },
  {
   "cell_type": "code",
   "execution_count": 77,
   "metadata": {},
   "outputs": [
    {
     "name": "stdout",
     "output_type": "stream",
     "text": [
      "152837\n"
     ]
    }
   ],
   "source": [
    "print(part2(parse(pzl)))"
   ]
  },
  {
   "cell_type": "markdown",
   "metadata": {},
   "source": [
    "## Faster!"
   ]
  },
  {
   "cell_type": "code",
   "execution_count": 83,
   "metadata": {},
   "outputs": [
    {
     "data": {
      "text/plain": [
       "defaultdict(set,\n",
       "            {'start': {'A', 'b'},\n",
       "             'A': {'b', 'c', 'end', 'start'},\n",
       "             'b': {'A', 'd', 'end', 'start'},\n",
       "             'c': {'A'},\n",
       "             'd': {'b'},\n",
       "             'end': {'A', 'b'}})"
      ]
     },
     "execution_count": 83,
     "metadata": {},
     "output_type": "execute_result"
    }
   ],
   "source": [
    "from collections import defaultdict\n",
    "def parse(inp):\n",
    "    g = [tuple(l.strip().split('-')) for l in inp]\n",
    "    caverns = defaultdict(set)\n",
    "    for c in g:\n",
    "        caverns[c[0]].add(c[1])\n",
    "        caverns[c[1]].add(c[0])\n",
    "    return caverns\n",
    "caverns = parse(ex1)\n",
    "caverns"
   ]
  },
  {
   "cell_type": "code",
   "execution_count": 107,
   "metadata": {},
   "outputs": [
    {
     "name": "stdout",
     "output_type": "stream",
     "text": [
      "36\n",
      "103\n",
      "3509\n"
     ]
    }
   ],
   "source": [
    "def small(c: str):\n",
    "    return c.lower() == c\n",
    "\n",
    "\n",
    "def traverse(caverns: dict[str, set], cur: str, cur_path: set[str], twice: bool):\n",
    "    res = 0\n",
    "    for n in caverns[cur]:\n",
    "        if n == \"end\":\n",
    "           res += 1\n",
    "           continue \n",
    "\n",
    "        ok = False\n",
    "        new_t = twice\n",
    "        if twice and n != \"start\" and small(n) and n in cur_path: \n",
    "            new_t = False\n",
    "            ok = True\n",
    "        elif not small(n) or n not in cur_path:\n",
    "            ok = True\n",
    "        if not ok:\n",
    "            continue\n",
    "        updated_path = cur_path | {n}\n",
    "        res += traverse(caverns, n, updated_path, new_t)\n",
    "\n",
    "    return res\n",
    "\n",
    "\n",
    "def part21(caverns):\n",
    "    return traverse(caverns, \"start\", set([\"start\"]), True)\n",
    "\n",
    "print(part21(parse(ex1)))\n",
    "print(part21(parse(ex2)))\n",
    "print(part21(parse(ex3)))"
   ]
  },
  {
   "cell_type": "code",
   "execution_count": 108,
   "metadata": {},
   "outputs": [
    {
     "name": "stdout",
     "output_type": "stream",
     "text": [
      "152837\n"
     ]
    }
   ],
   "source": [
    "print(part21(parse(pzl)))"
   ]
  },
  {
   "cell_type": "code",
   "execution_count": null,
   "metadata": {},
   "outputs": [],
   "source": []
  }
 ],
 "metadata": {
  "interpreter": {
   "hash": "7d6993cb2f9ce9a59d5d7380609d9cb5192a9dedd2735a011418ad9e827eb538"
  },
  "kernelspec": {
   "display_name": "Python 3.9.6 64-bit",
   "language": "python",
   "name": "python3"
  },
  "language_info": {
   "codemirror_mode": {
    "name": "ipython",
    "version": 3
   },
   "file_extension": ".py",
   "mimetype": "text/x-python",
   "name": "python",
   "nbconvert_exporter": "python",
   "pygments_lexer": "ipython3",
   "version": "3.9.6"
  },
  "orig_nbformat": 4
 },
 "nbformat": 4,
 "nbformat_minor": 2
}
