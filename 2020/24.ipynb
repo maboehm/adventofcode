{
 "metadata": {
  "language_info": {
   "codemirror_mode": {
    "name": "ipython",
    "version": 3
   },
   "file_extension": ".py",
   "mimetype": "text/x-python",
   "name": "python",
   "nbconvert_exporter": "python",
   "pygments_lexer": "ipython3",
   "version": "3.9.0-final"
  },
  "orig_nbformat": 2,
  "kernelspec": {
   "name": "python3",
   "display_name": "Python 3",
   "language": "python"
  }
 },
 "nbformat": 4,
 "nbformat_minor": 2,
 "cells": [
  {
   "cell_type": "code",
   "execution_count": 127,
   "metadata": {},
   "outputs": [],
   "source": [
    "raw = \"\"\"sesenwnenenewseeswwswswwnenewsewsw\n",
    "neeenesenwnwwswnenewnwwsewnenwseswesw\n",
    "seswneswswsenwwnwse\n",
    "nwnwneseeswswnenewneswwnewseswneseene\n",
    "swweswneswnenwsewnwneneseenw\n",
    "eesenwseswswnenwswnwnwsewwnwsene\n",
    "sewnenenenesenwsewnenwwwse\n",
    "wenwwweseeeweswwwnwwe\n",
    "wsweesenenewnwwnwsenewsenwwsesesenwne\n",
    "neeswseenwwswnwswswnw\n",
    "nenwswwsewswnenenewsenwsenwnesesenew\n",
    "enewnwewneswsewnwswenweswnenwsenwsw\n",
    "sweneswneswneneenwnewenewwneswswnese\n",
    "swwesenesewenwneswnwwneseswwne\n",
    "enesenwswwswneneswsenwnewswseenwsese\n",
    "wnwnesenesenenwwnenwsewesewsesesew\n",
    "nenewswnwewswnenesenwnesewesw\n",
    "eneswnwswnwsenenwnwnwwseeswneewsenese\n",
    "neswnwewnwnwseenwseesewsenwsweewe\n",
    "wseweeenwnesenwwwswnew\"\"\"\n",
    "\n",
    "dirs = [\"e\", \"se\", \"sw\", \"w\", \"nw\", \"ne\"]"
   ]
  },
  {
   "cell_type": "code",
   "execution_count": 145,
   "metadata": {},
   "outputs": [],
   "source": [
    "def parse_line(l):\n",
    "    turns = []\n",
    "    while len(l) > 0:\n",
    "        if l[:2] in dirs:\n",
    "            turns.append(l[:2])\n",
    "            l = l[2:]\n",
    "        else:\n",
    "            turns.append(l[0])\n",
    "            l = l[1:]\n",
    "    return turns"
   ]
  },
  {
   "cell_type": "code",
   "execution_count": 146,
   "metadata": {},
   "outputs": [],
   "source": [
    "def parse(raw):\n",
    "    return [parse_line(l) for l in raw.splitlines()]\n",
    "\n",
    "turns = parse(raw)\n",
    "#turns"
   ]
  },
  {
   "cell_type": "code",
   "execution_count": 230,
   "metadata": {},
   "outputs": [],
   "source": [
    "from collections import namedtuple, defaultdict"
   ]
  },
  {
   "cell_type": "code",
   "execution_count": 224,
   "metadata": {},
   "outputs": [],
   "source": [
    "class Point(namedtuple('Point', ['x', 'y'])):\n",
    "    def __add__(self, other):\n",
    "        return Point(self.x+other.x, self.y+other.y)"
   ]
  },
  {
   "cell_type": "code",
   "execution_count": 225,
   "metadata": {},
   "outputs": [],
   "source": [
    "dirs = {\n",
    "    \"e\": Point(2,0),\n",
    "    \"se\": Point(1,-1),\n",
    "    \"sw\": Point(-1,-1),\n",
    "    \"w\": Point(-2,0),\n",
    "    \"nw\": Point(-1,1),\n",
    "    \"ne\": Point(1,1)\n",
    "}"
   ]
  },
  {
   "cell_type": "code",
   "execution_count": 229,
   "metadata": {},
   "outputs": [
    {
     "output_type": "execute_result",
     "data": {
      "text/plain": [
       "Point(x=-4, y=-2)"
      ]
     },
     "metadata": {},
     "execution_count": 229
    }
   ],
   "source": [
    "t = turns[0]\n",
    "sum((dirs[d] for d in t), Point(0,0))"
   ]
  },
  {
   "cell_type": "code",
   "execution_count": 239,
   "metadata": {},
   "outputs": [],
   "source": []
  },
  {
   "cell_type": "code",
   "execution_count": 337,
   "metadata": {},
   "outputs": [
    {
     "output_type": "execute_result",
     "data": {
      "text/plain": [
       "495"
      ]
     },
     "metadata": {},
     "execution_count": 337
    }
   ],
   "source": [
    "turns = parse(open('data/24.txt').read())\n",
    "#turns = parse(raw)\n",
    "tiles = defaultdict(lambda: False)\n",
    "for turn in turns:\n",
    "    end = sum((dirs[d] for d in turn), Point(0,0))\n",
    "    tiles[end] = not tiles[end]\n",
    "sum(tiles.values())"
   ]
  },
  {
   "source": [
    "# Part 2"
   ],
   "cell_type": "markdown",
   "metadata": {}
  },
  {
   "cell_type": "code",
   "execution_count": 338,
   "metadata": {},
   "outputs": [],
   "source": [
    "def get_nb_sum(p):\n",
    "    return sum(tiles[p + d] for d in dirs.values())\n",
    "        "
   ]
  },
  {
   "cell_type": "code",
   "execution_count": 339,
   "metadata": {},
   "outputs": [
    {
     "output_type": "execute_result",
     "data": {
      "text/plain": [
       "4012"
      ]
     },
     "metadata": {},
     "execution_count": 339
    }
   ],
   "source": [
    "from copy import copy\n",
    "for i in range(1,101):\n",
    "    new_tiles = defaultdict(lambda: False) # default white\n",
    "    #print(len(tiles))\n",
    "    for t in list(tiles.keys()): # basically make sure we know all neighbors\n",
    "        get_nb_sum(t)\n",
    "    #print(len(tiles))\n",
    "\n",
    "    for t in list(tiles.keys()):\n",
    "        s = get_nb_sum(t)\n",
    "        #print(t, tiles[t], s)\n",
    "        if tiles[t] and (s==0 or s > 2):\n",
    "            new_tiles[t] = False\n",
    "        elif not tiles[t] and s==2:\n",
    "            new_tiles[t] = True\n",
    "        else:\n",
    "            new_tiles[t] = tiles[t]\n",
    "    for t in list(new_tiles.keys()):\n",
    "        if not new_tiles[t]:\n",
    "            del new_tiles[t]\n",
    "    tiles = new_tiles\n",
    "    #print(i, sum(tiles.values()))\n",
    "sum(tiles.values())"
   ]
  },
  {
   "cell_type": "code",
   "execution_count": null,
   "metadata": {},
   "outputs": [],
   "source": []
  }
 ]
}