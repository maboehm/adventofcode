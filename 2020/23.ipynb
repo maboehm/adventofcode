{
 "metadata": {
  "language_info": {
   "codemirror_mode": {
    "name": "ipython",
    "version": 3
   },
   "file_extension": ".py",
   "mimetype": "text/x-python",
   "name": "python",
   "nbconvert_exporter": "python",
   "pygments_lexer": "ipython3",
   "version": "3.9.0-final"
  },
  "orig_nbformat": 2,
  "kernelspec": {
   "name": "python3",
   "display_name": "Python 3",
   "language": "python"
  }
 },
 "nbformat": 4,
 "nbformat_minor": 2,
 "cells": [
  {
   "cell_type": "code",
   "execution_count": 100,
   "metadata": {},
   "outputs": [
    {
     "output_type": "execute_result",
     "data": {
      "text/plain": [
       "[3, 8, 9, 1, 2, 5, 4, 6, 7]"
      ]
     },
     "metadata": {},
     "execution_count": 100
    }
   ],
   "source": [
    "raw = '389125467'\n",
    "#raw = '157623984' # puzzle\n",
    "from collections import deque\n",
    "cups = [int(c) for c in raw]\n",
    "\n",
    "cups"
   ]
  },
  {
   "cell_type": "code",
   "execution_count": 111,
   "metadata": {},
   "outputs": [],
   "source": [
    "def round(cups, limit=9, cons=set()):\n",
    "    current = cups[0]\n",
    "    picks = cups[1:4]\n",
    "    remainder = cups[4::]\n",
    "    destination = current - 1\n",
    "    if destination < 1:\n",
    "        destination = limit\n",
    "    while destination in picks:\n",
    "        destination -= 1\n",
    "        if destination < 1:\n",
    "            destination = limit\n",
    "    \n",
    "    i = remainder.index(destination)\n",
    "    #print(current, picks, remainder, destination, i)\n",
    "    remainder = remainder[:i+1] + picks + remainder[i+1:]\n",
    "    remainder.append(current)\n",
    "    return remainder\n"
   ]
  },
  {
   "cell_type": "code",
   "execution_count": 108,
   "metadata": {},
   "outputs": [],
   "source": [
    "l = max(cups)\n",
    "for i in range(100):\n",
    "    cups = round(cups, l)"
   ]
  },
  {
   "cell_type": "code",
   "execution_count": 103,
   "metadata": {},
   "outputs": [
    {
     "output_type": "execute_result",
     "data": {
      "text/plain": [
       "'67384529'"
      ]
     },
     "metadata": {},
     "execution_count": 103
    }
   ],
   "source": [
    "cups = list(cups)\n",
    "i = cups.index(1)\n",
    "''.join(map(str, cups[i+1:] + cups[:i]))"
   ]
  },
  {
   "source": [
    "# Part 2"
   ],
   "cell_type": "markdown",
   "metadata": {}
  },
  {
   "cell_type": "code",
   "execution_count": 167,
   "metadata": {},
   "outputs": [],
   "source": [
    "raw = '389125467'\n",
    "#raw = '157623984' # puzzle\n",
    "from collections import deque\n",
    "cups = [int(c) for c in raw]\n",
    "\n",
    "cups = array('L', cups + list(range(10,1000001)))\n",
    "cons = set(cups[:9])\n"
   ]
  },
  {
   "cell_type": "code",
   "execution_count": 145,
   "metadata": {},
   "outputs": [],
   "source": [
    "from array import array"
   ]
  },
  {
   "cell_type": "code",
   "execution_count": 156,
   "metadata": {},
   "outputs": [],
   "source": [
    "def round(cups, limit=9):\n",
    "    current = cups[0]\n",
    "    picks = cups[1:4]\n",
    "\n",
    "    remainder = cups[4::]\n",
    "    destination = current - 1\n",
    "    if destination < 1:\n",
    "        destination = limit\n",
    "    while destination in picks:\n",
    "        destination -= 1\n",
    "        if destination < 1:\n",
    "            destination = limit\n",
    "    \n",
    "    i = remainder.index(destination)\n",
    "    \n",
    "    #print(current, picks, remainder, destination, i)\n",
    "    remainder = remainder[:i+1] + picks + remainder[i+1:]\n",
    "    remainder.append(current)\n",
    "    return remainder\n"
   ]
  },
  {
   "cell_type": "code",
   "execution_count": 160,
   "metadata": {},
   "outputs": [],
   "source": [
    "cups = round(cups)"
   ]
  },
  {
   "cell_type": "code",
   "execution_count": 88,
   "metadata": {},
   "outputs": [
    {
     "output_type": "execute_result",
     "data": {
      "text/plain": [
       "12"
      ]
     },
     "metadata": {},
     "execution_count": 88
    }
   ],
   "source": [
    "pos = cups.index(1)\n",
    "cups[(pos+1)%l] * cups[(pos+2)%l]"
   ]
  },
  {
   "cell_type": "code",
   "execution_count": 168,
   "metadata": {},
   "outputs": [
    {
     "output_type": "execute_result",
     "data": {
      "text/plain": [
       "{0: 3, 1: 8, 2: 9, 3: 1, 4: 2, 5: 5, 6: 4, 7: 6, 8: 7}"
      ]
     },
     "metadata": {},
     "execution_count": 168
    }
   ],
   "source": [
    "raw = '389125467'\n",
    "l = 9\n",
    "cups = {i: int(c) for i,c in enumerate(raw)}\n",
    "cups"
   ]
  },
  {
   "cell_type": "code",
   "execution_count": 170,
   "metadata": {},
   "outputs": [
    {
     "output_type": "stream",
     "name": "stdout",
     "text": [
      "3 [8, 9, 1]\n"
     ]
    }
   ],
   "source": [
    "def round(cups, current_pos, limit):\n",
    "    current = cups.get(current_pos, current_pos)\n",
    "    picks = [cups.get(i, i) for i in range(current_pos+1, current_pos+4)]\n",
    "    print(current, picks)\n",
    "\n",
    "    # determine dest\n",
    "    destination = current - 1\n",
    "    if destination < 1:\n",
    "        destination = limit\n",
    "    while destination in picks:\n",
    "        destination -= 1\n",
    "        if destination < 1:\n",
    "            destination = limit\n",
    "\n",
    "    i = remainder.index(destination)\n",
    "    \n",
    "    #print(current, picks, remainder, destination, i)\n",
    "    remainder = remainder[:i+1] + picks + remainder[i+1:]\n",
    "    remainder.append(current)\n",
    "    return remainder\n",
    "\n",
    "round(cups, 0, limit=9)"
   ]
  },
  {
   "cell_type": "code",
   "execution_count": 28,
   "metadata": {},
   "outputs": [],
   "source": [
    "class Cup():\n",
    "    def __init__(self, val):\n",
    "        self.val = int(val)\n",
    "        self.right = None\n",
    "\n",
    "    def __repr__(self):\n",
    "        return f\"Cup {self.val}\"\n",
    "\n",
    "    def to_list(self, start=None):\n",
    "        if start == self:\n",
    "            return []\n",
    "        if start is None:\n",
    "            start = self\n",
    "        return [self] + self.right.to_list(start)\n",
    "        \n",
    "\n",
    "\n",
    "raw = '389125467'\n",
    "raw = '157623984' # puzzle\n",
    "\n",
    "order = [int(c) for c in raw]\n",
    "cups = {}\n",
    "\n",
    "for c in raw:\n",
    "    cups = {int(val): Cup(val) for val in raw}\n",
    "\n",
    "for i in range(len(order)):\n",
    "    cups[order[i]].right = cups[order[(i+1)%len(order)]]\n",
    "\n",
    "current = cups[order[0]]\n",
    "limit = max(order)"
   ]
  },
  {
   "cell_type": "code",
   "execution_count": 29,
   "metadata": {},
   "outputs": [],
   "source": [
    "def round(current):\n",
    "    start_pick = current.right\n",
    "    end_pick = start_pick.right.right\n",
    "\n",
    "    dest = current.val - 1\n",
    "    if dest < 1:\n",
    "        dest = limit\n",
    "    while dest == start_pick.val or dest == start_pick.right.val or dest == end_pick.val:\n",
    "        dest -= 1\n",
    "        if dest < 1:\n",
    "            dest = limit\n",
    "    destination = cups[dest]\n",
    "\n",
    "    current.right = end_pick.right\n",
    "    end_pick.right = destination.right\n",
    "    destination.right = start_pick\n",
    "\n",
    "    #print(current, picks, end_pick, destination)\n",
    "    #print(current.to_list())\n",
    "    return current.right\n",
    "    "
   ]
  },
  {
   "cell_type": "code",
   "execution_count": 30,
   "metadata": {},
   "outputs": [],
   "source": [
    "for _ in range(100):\n",
    "    current = round(current)"
   ]
  },
  {
   "cell_type": "code",
   "execution_count": 31,
   "metadata": {},
   "outputs": [
    {
     "output_type": "execute_result",
     "data": {
      "text/plain": [
       "'58427369'"
      ]
     },
     "metadata": {},
     "execution_count": 31
    }
   ],
   "source": [
    "''.join(str(c.val) for c in cups[1].to_list()[1:])"
   ]
  },
  {
   "source": [
    "# Part 2"
   ],
   "cell_type": "markdown",
   "metadata": {}
  },
  {
   "cell_type": "code",
   "execution_count": 32,
   "metadata": {},
   "outputs": [],
   "source": [
    "raw = '389125467'\n",
    "raw = '157623984' # puzzle\n",
    "\n",
    "order = [int(c) for c in raw] + list(range(10,1000001))\n",
    "cups = {}\n",
    "\n",
    "cups = {int(val): Cup(val) for val in order}\n",
    "\n",
    "for i in range(len(order)):\n",
    "    cups[order[i]].right = cups[order[(i+1)%len(order)]]\n",
    "\n",
    "current = cups[order[0]]\n",
    "limit = max(order)"
   ]
  },
  {
   "cell_type": "code",
   "execution_count": 33,
   "metadata": {},
   "outputs": [
    {
     "output_type": "stream",
     "name": "stdout",
     "text": [
      "CPU times: user 15.7 s, sys: 0 ns, total: 15.7 s\nWall time: 15.7 s\n"
     ]
    }
   ],
   "source": [
    "%%time\n",
    "for _ in range(10000000):\n",
    "    current = round(current)"
   ]
  },
  {
   "cell_type": "code",
   "execution_count": 34,
   "metadata": {},
   "outputs": [
    {
     "output_type": "execute_result",
     "data": {
      "text/plain": [
       "111057672960"
      ]
     },
     "metadata": {},
     "execution_count": 34
    }
   ],
   "source": [
    "cups[1].right.val * cups[1].right.right.val"
   ]
  },
  {
   "cell_type": "code",
   "execution_count": null,
   "metadata": {},
   "outputs": [],
   "source": []
  }
 ]
}