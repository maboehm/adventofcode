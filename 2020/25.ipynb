{
 "metadata": {
  "language_info": {
   "codemirror_mode": {
    "name": "ipython",
    "version": 3
   },
   "file_extension": ".py",
   "mimetype": "text/x-python",
   "name": "python",
   "nbconvert_exporter": "python",
   "pygments_lexer": "ipython3",
   "version": "3.9.0-final"
  },
  "orig_nbformat": 2,
  "kernelspec": {
   "name": "python3",
   "display_name": "Python 3",
   "language": "python"
  }
 },
 "nbformat": 4,
 "nbformat_minor": 2,
 "cells": [
  {
   "cell_type": "code",
   "execution_count": 11,
   "metadata": {},
   "outputs": [],
   "source": [
    "rem = 20201227\n",
    "def transform(subj, loop, res=1):\n",
    "    for _ in range(loop):\n",
    "        res *= subj\n",
    "        res %= rem\n",
    "    return res"
   ]
  },
  {
   "cell_type": "code",
   "execution_count": 10,
   "metadata": {},
   "outputs": [],
   "source": [
    "card_subj = 7\n",
    "door_subj = 7\n",
    "\n",
    "card_pub, door_pub = 5764801, 17807724\n"
   ]
  },
  {
   "cell_type": "code",
   "execution_count": 14,
   "metadata": {},
   "outputs": [],
   "source": [
    "def find_loop(subj, pub):\n",
    "    loop = 1\n",
    "    res = 1\n",
    "    while True:\n",
    "        res = transform(subj, 1, res)\n",
    "        if res == pub:\n",
    "            break\n",
    "        loop += 1\n",
    "    return loop"
   ]
  },
  {
   "cell_type": "code",
   "execution_count": 16,
   "metadata": {},
   "outputs": [],
   "source": [
    "card_loop = find_loop(card_subj, card_pub)\n",
    "enc_key = transform(door_pub, card_loop)"
   ]
  },
  {
   "cell_type": "code",
   "execution_count": 17,
   "metadata": {},
   "outputs": [
    {
     "output_type": "execute_result",
     "data": {
      "text/plain": [
       "14897079"
      ]
     },
     "metadata": {},
     "execution_count": 17
    }
   ],
   "source": [
    "enc_key"
   ]
  },
  {
   "cell_type": "code",
   "execution_count": null,
   "metadata": {},
   "outputs": [],
   "source": []
  }
 ]
}