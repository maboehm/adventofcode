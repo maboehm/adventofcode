{
 "metadata": {
  "language_info": {
   "codemirror_mode": {
    "name": "ipython",
    "version": 3
   },
   "file_extension": ".py",
   "mimetype": "text/x-python",
   "name": "python",
   "nbconvert_exporter": "python",
   "pygments_lexer": "ipython3",
   "version": "3.9.0-final"
  },
  "orig_nbformat": 2,
  "kernelspec": {
   "name": "python3",
   "display_name": "Python 3",
   "language": "python"
  }
 },
 "nbformat": 4,
 "nbformat_minor": 2,
 "cells": [
  {
   "cell_type": "code",
   "execution_count": 116,
   "metadata": {},
   "outputs": [],
   "source": [
    "class Player():\n",
    "    def __init__(self, hp, dam, arm, name):\n",
    "        self.hp = int(hp)\n",
    "        self.dam = int(dam)\n",
    "        self.arm = int(arm)\n",
    "        self.name = name\n",
    "\n",
    "    def attack(self, other):\n",
    "        if self.dam > other.arm:\n",
    "            other.hp -= self.dam - other.arm\n",
    "        else:\n",
    "            other.hp -= 1\n",
    "\n",
    "    def alive(self):\n",
    "        return self.hp > 0\n",
    "\n",
    "    def __repr__(self):\n",
    "        return f\"{self.name}: {self.hp}\"\n",
    "        \n",
    "\n"
   ]
  },
  {
   "cell_type": "code",
   "execution_count": 117,
   "metadata": {},
   "outputs": [
    {
     "output_type": "execute_result",
     "data": {
      "text/plain": [
       "  Me: 8"
      ]
     },
     "metadata": {},
     "execution_count": 117
    }
   ],
   "source": [
    "me = Player(8, 5, 5, '  Me')\n",
    "boss = Player(12, 7, 3, 'boss')\n",
    "me"
   ]
  },
  {
   "cell_type": "code",
   "execution_count": 118,
   "metadata": {},
   "outputs": [],
   "source": [
    "def fight(p1, p2):\n",
    "    while p1.alive() and p2.alive():\n",
    "        p1.attack(p2)\n",
    "        p1, p2 = p2, p1\n",
    "        #print(p1, p2)\n",
    "    \n",
    "    p = p1 if p1.alive() else p2\n",
    "    won = p.name != 'boss'\n",
    "    \n",
    "    return won, (p1, p2)"
   ]
  },
  {
   "cell_type": "code",
   "execution_count": 120,
   "metadata": {},
   "outputs": [
    {
     "output_type": "execute_result",
     "data": {
      "text/plain": [
       "(False, (  Me: 0, boss: 4))"
      ]
     },
     "metadata": {},
     "execution_count": 120
    }
   ],
   "source": [
    "fight(me, boss)"
   ]
  },
  {
   "cell_type": "code",
   "execution_count": 121,
   "metadata": {},
   "outputs": [],
   "source": [
    "# Weapons:    Cost  Damage  Armor\n",
    "store_weapons = [\n",
    "    (8,4,0),\n",
    "    (10,5,0),\n",
    "    (25,6,0),\n",
    "    (40,7,0),\n",
    "    (74,8,0)\n",
    "]\n",
    "\n",
    "#Armor:      Cost  Damage  Armor\n",
    "store_armors = [\n",
    "    (13,0,1),\n",
    "    (31,0,2),\n",
    "    (53,0,3),\n",
    "    (75,0,4),\n",
    "    (102,0,5)\n",
    "]\n",
    "\n",
    "#Rings:      Cost  Damage  Armor\n",
    "store_rings = [\n",
    "    (25,1,0),\n",
    "    (50,2,0),\n",
    "    (100,3,0),\n",
    "    (20,0,1),\n",
    "    (40,0,2),\n",
    "    (80,0,3),\n",
    "]\n",
    "\n",
    "# Boss\n",
    "# Hit Points: 100\n",
    "# Damage: 8\n",
    "# Armor: 2"
   ]
  },
  {
   "cell_type": "code",
   "execution_count": 122,
   "metadata": {},
   "outputs": [],
   "source": [
    "from itertools import combinations, product"
   ]
  },
  {
   "cell_type": "code",
   "execution_count": 123,
   "metadata": {},
   "outputs": [
    {
     "output_type": "execute_result",
     "data": {
      "text/plain": [
       "[((25, 1, 0), (50, 2, 0)),\n",
       " ((25, 1, 0), (100, 3, 0)),\n",
       " ((25, 1, 0), (20, 0, 1)),\n",
       " ((25, 1, 0), (40, 0, 2)),\n",
       " ((25, 1, 0), (80, 0, 3)),\n",
       " ((50, 2, 0), (100, 3, 0)),\n",
       " ((50, 2, 0), (20, 0, 1)),\n",
       " ((50, 2, 0), (40, 0, 2)),\n",
       " ((50, 2, 0), (80, 0, 3)),\n",
       " ((100, 3, 0), (20, 0, 1)),\n",
       " ((100, 3, 0), (40, 0, 2)),\n",
       " ((100, 3, 0), (80, 0, 3)),\n",
       " ((20, 0, 1), (40, 0, 2)),\n",
       " ((20, 0, 1), (80, 0, 3)),\n",
       " ((40, 0, 2), (80, 0, 3))]"
      ]
     },
     "metadata": {},
     "execution_count": 123
    }
   ],
   "source": [
    "list(combinations(store_rings, 2))"
   ]
  },
  {
   "cell_type": "code",
   "execution_count": 124,
   "metadata": {},
   "outputs": [],
   "source": [
    "def calc_stats(weapon, armor, rings):\n",
    "    items = [weapon, armor] + list(rings)\n",
    "    cost = sum(i[0] for i in items)\n",
    "    dam = sum(i[1] for i in items)\n",
    "    arm = sum(i[2] for i in items)\n",
    "    return cost, dam, arm"
   ]
  },
  {
   "cell_type": "code",
   "execution_count": 125,
   "metadata": {
    "tags": []
   },
   "outputs": [],
   "source": [
    "wining_costs = {}\n",
    "for buy_armor, num_rings in product([True, False], range(3)):\n",
    "    arm = store_armors if buy_armor else []\n",
    "\n",
    "    for weapon, armor, rings in product(store_weapons, arm, list(combinations(store_rings, num_rings))):\n",
    "        #print('fight', weapon, armor, rings)\n",
    "        cost, dam, arm = calc_stats(weapon, armor, rings)\n",
    "        me = Player(100, dam, arm, '  me')\n",
    "        boss = Player(100, 8, 2, 'boss')\n",
    "        won, _ =  fight(me, boss)\n",
    "        if won:\n",
    "            wining_costs[cost] = (weapon, armor, rings)\n"
   ]
  },
  {
   "cell_type": "code",
   "execution_count": 126,
   "metadata": {},
   "outputs": [
    {
     "output_type": "execute_result",
     "data": {
      "text/plain": [
       "91"
      ]
     },
     "metadata": {},
     "execution_count": 126
    }
   ],
   "source": [
    "min(wining_costs)"
   ]
  },
  {
   "source": [
    "# Part 2"
   ],
   "cell_type": "markdown",
   "metadata": {}
  },
  {
   "cell_type": "code",
   "execution_count": 128,
   "metadata": {},
   "outputs": [
    {
     "output_type": "execute_result",
     "data": {
      "text/plain": [
       "15"
      ]
     },
     "metadata": {},
     "execution_count": 128
    }
   ],
   "source": [
    "len(list(combinations(store_rings, 2)))"
   ]
  },
  {
   "cell_type": "code",
   "execution_count": 144,
   "metadata": {},
   "outputs": [
    {
     "output_type": "stream",
     "name": "stdout",
     "text": [
      "0 5\n0 6\n0 7\n0 8\n0 9\n1 5\n1 6\n1 7\n1 8\n1 9\n2 5\n2 6\n2 7\n2 8\n2 9\n3 5\n3 6\n3 7\n3 8\n3 9\n4 5\n4 6\n4 7\n4 8\n4 9\n5 5\n5 6\n5 7\n5 8\n5 9\n6 5\n6 6\n6 7\n6 8\n6 9\n7 5\n7 6\n7 7\n7 8\n7 9\n8 5\n8 6\n8 7\n8 8\n8 9\n9 5\n9 6\n9 7\n9 8\n9 9\n"
     ]
    }
   ],
   "source": [
    "for i,j in product(range(10), range(5,10)):\n",
    "    print(i,j)"
   ]
  },
  {
   "cell_type": "code",
   "execution_count": 152,
   "metadata": {},
   "outputs": [
    {
     "output_type": "execute_result",
     "data": {
      "text/plain": [
       "[]"
      ]
     },
     "metadata": {},
     "execution_count": 152
    }
   ],
   "source": [
    "list(product([1], []))"
   ]
  },
  {
   "cell_type": "code",
   "execution_count": 149,
   "metadata": {},
   "outputs": [
    {
     "output_type": "execute_result",
     "data": {
      "text/plain": [
       "5"
      ]
     },
     "metadata": {},
     "execution_count": 149
    }
   ],
   "source": [
    "len(list(product(store_weapons, [''], list(combinations(store_rings, 0)))))"
   ]
  },
  {
   "cell_type": "code",
   "execution_count": 141,
   "metadata": {},
   "outputs": [
    {
     "output_type": "execute_result",
     "data": {
      "text/plain": [
       "158"
      ]
     },
     "metadata": {},
     "execution_count": 141
    }
   ],
   "source": [
    "losing_costs = {}\n",
    "for buy_armor, num_rings in product([True, False], range(3)):\n",
    "    arm = store_armors if buy_armor else [(0,0,0)]\n",
    "\n",
    "    for weapon, armor, rings in product(store_weapons, arm, list(combinations(store_rings, num_rings))):\n",
    "        #print('fight', weapon, armor, rings)\n",
    "        cost, dam, arm = calc_stats(weapon, armor, rings)\n",
    "        me = Player(100, dam, arm, '  me')\n",
    "        boss = Player(100, 8, 2, 'boss')\n",
    "        won, _ =  fight(me, boss)\n",
    "        if not won:\n",
    "            losing_costs[cost] = (weapon, armor, rings)\n",
    "\n",
    "max(losing_costs)"
   ]
  },
  {
   "cell_type": "code",
   "execution_count": 134,
   "metadata": {},
   "outputs": [
    {
     "output_type": "execute_result",
     "data": {
      "text/plain": [
       "((8, 4, 0), (13, 0, 1), ((25, 1, 0), (100, 3, 0)))"
      ]
     },
     "metadata": {},
     "execution_count": 134
    }
   ],
   "source": [
    "losing_costs[146]"
   ]
  },
  {
   "cell_type": "code",
   "execution_count": 135,
   "metadata": {},
   "outputs": [
    {
     "output_type": "execute_result",
     "data": {
      "text/plain": [
       "(False, (  me: -5, boss: 10))"
      ]
     },
     "metadata": {},
     "execution_count": 135
    }
   ],
   "source": [
    "me = Player(100, 8, 1, '  me')\n",
    "boss = Player(100, 8, 2, 'boss')\n",
    "fight(me, boss)"
   ]
  },
  {
   "cell_type": "code",
   "execution_count": 136,
   "metadata": {},
   "outputs": [
    {
     "output_type": "execute_result",
     "data": {
      "text/plain": [
       "{21: ((8, 4, 0), (13, 0, 1), ()),\n",
       " 39: ((8, 4, 0), (31, 0, 2), ()),\n",
       " 61: ((10, 5, 0), (31, 0, 2), ((20, 0, 1),)),\n",
       " 83: ((25, 6, 0), (13, 0, 1), ((25, 1, 0), (20, 0, 1))),\n",
       " 110: ((8, 4, 0), (102, 0, 5), ()),\n",
       " 23: ((10, 5, 0), (13, 0, 1), ()),\n",
       " 41: ((8, 4, 0), (13, 0, 1), ((20, 0, 1),)),\n",
       " 63: ((25, 6, 0), (13, 0, 1), ((25, 1, 0),)),\n",
       " 85: ((10, 5, 0), (75, 0, 4), ()),\n",
       " 38: ((25, 6, 0), (13, 0, 1), ()),\n",
       " 56: ((25, 6, 0), (31, 0, 2), ()),\n",
       " 78: ((40, 7, 0), (13, 0, 1), ((25, 1, 0),)),\n",
       " 53: ((40, 7, 0), (13, 0, 1), ()),\n",
       " 71: ((8, 4, 0), (13, 0, 1), ((50, 2, 0),)),\n",
       " 87: ((74, 8, 0), (13, 0, 1), ()),\n",
       " 46: ((8, 4, 0), (13, 0, 1), ((25, 1, 0),)),\n",
       " 121: ((8, 4, 0), (13, 0, 1), ((20, 0, 1), (80, 0, 3))),\n",
       " 101: ((8, 4, 0), (53, 0, 3), ((40, 0, 2),)),\n",
       " 64: ((8, 4, 0), (31, 0, 2), ((25, 1, 0),)),\n",
       " 89: ((8, 4, 0), (31, 0, 2), ((50, 2, 0),)),\n",
       " 139: ((8, 4, 0), (31, 0, 2), ((100, 3, 0),)),\n",
       " 59: ((8, 4, 0), (31, 0, 2), ((20, 0, 1),)),\n",
       " 79: ((8, 4, 0), (31, 0, 2), ((40, 0, 2),)),\n",
       " 119: ((8, 4, 0), (31, 0, 2), ((80, 0, 3),)),\n",
       " 86: ((10, 5, 0), (31, 0, 2), ((25, 1, 0), (20, 0, 1))),\n",
       " 111: ((8, 4, 0), (13, 0, 1), ((50, 2, 0), (40, 0, 2))),\n",
       " 81: ((8, 4, 0), (13, 0, 1), ((20, 0, 1), (40, 0, 2))),\n",
       " 108: ((8, 4, 0), (75, 0, 4), ((25, 1, 0),)),\n",
       " 103: ((10, 5, 0), (13, 0, 1), ((80, 0, 3),)),\n",
       " 48: ((10, 5, 0), (13, 0, 1), ((25, 1, 0),)),\n",
       " 73: ((40, 7, 0), (13, 0, 1), ((20, 0, 1),)),\n",
       " 123: ((10, 5, 0), (13, 0, 1), ((100, 3, 0),)),\n",
       " 43: ((10, 5, 0), (13, 0, 1), ((20, 0, 1),)),\n",
       " 66: ((8, 4, 0), (13, 0, 1), ((25, 1, 0), (20, 0, 1))),\n",
       " 91: ((8, 4, 0), (13, 0, 1), ((50, 2, 0), (20, 0, 1))),\n",
       " 88: ((10, 5, 0), (13, 0, 1), ((25, 1, 0), (40, 0, 2))),\n",
       " 58: ((25, 6, 0), (13, 0, 1), ((20, 0, 1),)),\n",
       " 76: ((25, 6, 0), (31, 0, 2), ((20, 0, 1),)),\n",
       " 96: ((8, 4, 0), (13, 0, 1), ((25, 1, 0), (50, 2, 0))),\n",
       " 146: ((8, 4, 0), (13, 0, 1), ((25, 1, 0), (100, 3, 0))),\n",
       " 126: ((8, 4, 0), (13, 0, 1), ((25, 1, 0), (80, 0, 3))),\n",
       " 141: ((8, 4, 0), (13, 0, 1), ((100, 3, 0), (20, 0, 1))),\n",
       " 114: ((8, 4, 0), (31, 0, 2), ((25, 1, 0), (50, 2, 0))),\n",
       " 84: ((8, 4, 0), (31, 0, 2), ((25, 1, 0), (20, 0, 1))),\n",
       " 104: ((8, 4, 0), (31, 0, 2), ((25, 1, 0), (40, 0, 2))),\n",
       " 109: ((8, 4, 0), (31, 0, 2), ((50, 2, 0), (20, 0, 1))),\n",
       " 99: ((8, 4, 0), (31, 0, 2), ((20, 0, 1), (40, 0, 2))),\n",
       " 106: ((8, 4, 0), (53, 0, 3), ((25, 1, 0), (20, 0, 1))),\n",
       " 98: ((10, 5, 0), (13, 0, 1), ((25, 1, 0), (50, 2, 0))),\n",
       " 68: ((10, 5, 0), (13, 0, 1), ((25, 1, 0), (20, 0, 1))),\n",
       " 93: ((10, 5, 0), (13, 0, 1), ((50, 2, 0), (20, 0, 1)))}"
      ]
     },
     "metadata": {},
     "execution_count": 136
    }
   ],
   "source": [
    "losing_costs"
   ]
  },
  {
   "cell_type": "code",
   "execution_count": null,
   "metadata": {},
   "outputs": [],
   "source": []
  }
 ]
}