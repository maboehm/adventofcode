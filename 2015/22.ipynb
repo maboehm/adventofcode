{
 "metadata": {
  "language_info": {
   "codemirror_mode": {
    "name": "ipython",
    "version": 3
   },
   "file_extension": ".py",
   "mimetype": "text/x-python",
   "name": "python",
   "nbconvert_exporter": "python",
   "pygments_lexer": "ipython3",
   "version": "3.9.0-final"
  },
  "orig_nbformat": 2,
  "kernelspec": {
   "name": "python3",
   "display_name": "Python 3",
   "language": "python"
  }
 },
 "nbformat": 4,
 "nbformat_minor": 2,
 "cells": [
  {
   "cell_type": "code",
   "execution_count": 2,
   "metadata": {},
   "outputs": [
    {
     "output_type": "error",
     "ename": "SyntaxError",
     "evalue": "invalid syntax (<ipython-input-2-5bed8724a636>, line 35)",
     "traceback": [
      "\u001b[0;36m  File \u001b[0;32m\"<ipython-input-2-5bed8724a636>\"\u001b[0;36m, line \u001b[0;32m35\u001b[0m\n\u001b[0;31m    \"recharge\": {\u001b[0m\n\u001b[0m    ^\u001b[0m\n\u001b[0;31mSyntaxError\u001b[0m\u001b[0;31m:\u001b[0m invalid syntax\n"
     ]
    }
   ],
   "source": [
    "from copy import copy\n",
    "class Player():\n",
    "    def __init__(self, hp, dam, mana, name):\n",
    "        self.hp = int(hp)\n",
    "        self.dam = int(dam)\n",
    "        self.mana = int(mana)\n",
    "        self.name = name\n",
    "\n",
    "        self.arm = 0\n",
    "        self.effects = {}\n",
    "\n",
    "    def attack(self, other):\n",
    "        if self.dam > other.arm:\n",
    "            other.hp -= self.dam - other.arm\n",
    "        else:\n",
    "            other.hp -= 1\n",
    "\n",
    "    def alive(self):\n",
    "        return self.hp > 0\n",
    "\n",
    "    def add_effect(self, effect):\n",
    "        if effect in self.effects:\n",
    "            raise TimeoutError\n",
    "        effects = {\n",
    "            \"shield\": {\n",
    "                \"cost\": 113,\n",
    "                \"active\": 6,\n",
    "                \"arm\": 6\n",
    "            },\n",
    "            \"poison\": {\n",
    "                \"cost\": 173,\n",
    "                \"active\": 6,\n",
    "                \"dam\": 3,\n",
    "            },\n",
    "            \"recharge\": {\n",
    "                \"cost\": 229,\n",
    "                \"active\": 5,\n",
    "                \"mana\": 101,\n",
    "            }\n",
    "        }\n",
    "\n",
    "    def __repr__(self):\n",
    "        return f\"{self.name}: {self.hp}\"\n",
    "        \n",
    "\n"
   ]
  },
  {
   "cell_type": "code",
   "execution_count": null,
   "metadata": {},
   "outputs": [],
   "source": []
  }
 ]
}